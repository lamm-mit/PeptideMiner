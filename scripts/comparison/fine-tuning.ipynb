{
 "cells": [
  {
   "cell_type": "code",
   "execution_count": 3,
   "id": "93dffe82",
   "metadata": {},
   "outputs": [
    {
     "data": {
      "text/plain": [
       "FineTuningJob(id='ftjob-rjVfoH08J0zoNGHlykZkbLZw', created_at=1711122247, error=Error(code=None, message=None, param=None, error=None), fine_tuned_model=None, finished_at=None, hyperparameters=Hyperparameters(n_epochs=5, batch_size='auto', learning_rate_multiplier='auto'), model='gpt-3.5-turbo-0125', object='fine_tuning.job', organization_id='org-GWgNrtAWmHUpWff0fAUoKp8L', result_files=[], status='validating_files', trained_tokens=None, training_file='file-DNUGO2TSKjLt5EEZYcgwjOQY', validation_file='file-mjVcjjBxpLlH3JeG8dXcNnB8', user_provided_suffix=None)"
      ]
     },
     "execution_count": 3,
     "metadata": {},
     "output_type": "execute_result"
    }
   ],
   "source": [
    "from openai import OpenAI\n",
    "import os\n",
    "os.environ['OPENAI_API_KEY'] = '[Your API key]'\n",
    "\n",
    "client = OpenAI()\n",
    "train_file = client.files.create(\n",
    "  file=open(\"trainset.jsonl\", \"rb\"),\n",
    "  purpose=\"fine-tune\"\n",
    ")\n",
    "\n",
    "test_file = client.files.create(\n",
    "  file=open(\"testset.jsonl\", \"rb\"),\n",
    "  purpose=\"fine-tune\"\n",
    ")\n",
    "\n",
    "client.fine_tuning.jobs.create(\n",
    "  training_file=train_file.id,\n",
    "  validation_file=test_file.id,\n",
    "  hyperparameters={\"n_epochs\": 5},\n",
    "  model=\"gpt-3.5-turbo\"\n",
    ")"
   ]
  },
  {
   "cell_type": "code",
   "execution_count": 26,
   "id": "0fee47ed",
   "metadata": {},
   "outputs": [],
   "source": [
    "import json\n",
    "\n",
    "data_path = \"../../datatestset.jsonl\"\n",
    "\n",
    "# Load the dataset\n",
    "with open(data_path, 'r', encoding='utf-8') as f:\n",
    "    testset = [json.loads(line) for line in f]"
   ]
  },
  {
   "cell_type": "markdown",
   "id": "7c146e21",
   "metadata": {},
   "source": [
    "# Testing examples 1"
   ]
  },
  {
   "cell_type": "code",
   "execution_count": 31,
   "id": "ae74ce09",
   "metadata": {},
   "outputs": [],
   "source": [
    "\n",
    "completion = client.chat.completions.create(\n",
    "  model=\"ft:gpt-3.5-turbo-0125:personal::95ba6w1r\",\n",
    "  messages=testset[0]['messages'][:2]\n",
    ")\n"
   ]
  },
  {
   "cell_type": "code",
   "execution_count": 37,
   "id": "ebbcdbee",
   "metadata": {},
   "outputs": [
    {
     "name": "stdout",
     "output_type": "stream",
     "text": [
      "{'peptide_sequence': 'FWH', 'self-assembly_phase': 'ribbon', 'N-terminal_modification': 'Fmoc', 'C-terminal_modification': 'Free', 'Non-terminal_modification': 'nan', 'peptide_conjugate_mixture': 'Peptide', 'conjugate_partner': 'nan', 'solution': '100 H2O', 'peptide_concentration(mg/ml)': '1.42', 'PH': '6.0', 'temperature(celsius)': '25.0', 'heating_cooling': 'No', 'incubation_period(min)': '1440.0'}\n",
      "{'peptide_sequence': 'FWH', 'self-assembly_phase': 'ribbon', 'N-terminal_modification': 'Fmoc', 'C-terminal_modification': 'Free', 'Non-terminal_modification': 'nan', 'peptide_conjugate_mixture': 'Peptide', 'conjugate_partner': 'nan', 'solution': '100 H2O', 'peptide_concentration(mg/ml)': '1.42', 'PH': '6.0', 'temperature(celsius)': '25.0', 'heating_cooling': 'No', 'incubation_period(min)': '1440.0'}\n",
      "{'peptide_sequence': 'FWR', 'self-assembly_phase': 'sphere', 'N-terminal_modification': 'Fmoc', 'C-terminal_modification': 'Free', 'Non-terminal_modification': 'nan', 'peptide_conjugate_mixture': 'Peptide', 'conjugate_partner': 'nan', 'solution': '5/95 Methanol/H2O', 'peptide_concentration(mg/ml)': '1.26', 'PH': '6.0', 'temperature(celsius)': '25.0', 'heating_cooling': 'No', 'incubation_period(min)': '1440.0'}\n",
      "{'peptide_sequence': 'FFR', 'self-assembly_phase': 'fiber', 'N-terminal_modification': 'Fmoc', 'C-terminal_modification': 'Free', 'Non-terminal_modification': 'nan', 'peptide_conjugate_mixture': 'Peptide', 'conjugate_partner': 'nan', 'solution': '5/95 Methanol/H2O', 'peptide_concentration(mg/ml)': '1.26', 'PH': '6.0', 'temperature(celsius)': '25.0', 'heating_cooling': 'No', 'incubation_period(min)': '1440.0'}\n",
      "#######################\n",
      "#######################\n",
      "{'peptide_sequence': 'FWH', 'self-assembly_phase': 'fiber', 'N-terminal_modification': 'Fmoc', 'C-terminal_modification': 'Free', 'Non-terminal_modification': 'nan', 'peptide_conjugate_mixture': 'Peptide', 'conjugate_partner': 'nan', 'solution': '100 H2O', 'peptide_concentration(mg/ml)': '0.745', 'PH': '6.0', 'temperature(celsius)': '25.0', 'heating_cooling': 'No', 'incubation_period(min)': '1440.0'}\n",
      "{'peptide_sequence': 'FWR', 'self-assembly_phase': 'fiber', 'N-terminal_modification': 'Fmoc', 'C-terminal_modification': 'Free', 'Non-terminal_modification': 'nan', 'peptide_conjugate_mixture': 'Peptide', 'conjugate_partner': 'nan', 'solution': '5/95 Methanol/H2O', 'peptide_concentration(mg/ml)': '0.765', 'PH': '6.0', 'temperature(celsius)': '25.0', 'heating_cooling': 'No', 'incubation_period(min)': '1440.0'}\n",
      "{'peptide_sequence': 'FWS', 'self-assembly_phase': 'fiber', 'N-terminal_modification': 'Fmoc', 'C-terminal_modification': 'Free', 'Non-terminal_modification': 'nan', 'peptide_conjugate_mixture': 'Peptide', 'conjugate_partner': 'nan', 'solution': '100 H2O', 'peptide_concentration(mg/ml)': '0.695', 'PH': '6.0', 'temperature(celsius)': '25.0', 'heating_cooling': 'No', 'incubation_period(min)': '1440.0'}\n",
      "{'peptide_sequence': 'FWE', 'self-assembly_phase': 'fiber', 'N-terminal_modification': 'Fmoc', 'C-terminal_modification': 'Free', 'Non-terminal_modification': 'nan', 'peptide_conjugate_mixture': 'Peptide', 'conjugate_partner': 'nan', 'solution': '100 H2O', 'peptide_concentration(mg/ml)': '0.74', 'PH': '6.0', 'temperature(celsius)': '25.0', 'heating_cooling': 'No', 'incubation_period(min)': '1440.0'}\n",
      "{'peptide_sequence': 'FWD', 'self-assembly_phase': 'fiber', 'N-terminal_modification': 'Fmoc', 'C-terminal_modification': 'Free', 'Non-terminal_modification': 'nan', 'peptide_conjugate_mixture': 'Peptide', 'conjugate_partner': 'nan', 'solution': '100 H2O', 'peptide_concentration(mg/ml)': '0.745', 'PH': '6.0', 'temperature(celsius)': '25.0', 'heating_cooling': 'No', 'incubation_period(min)': '1440.0'}\n",
      "{'peptide_sequence': 'FFH', 'self-assembly_phase': 'fiber', 'N-terminal_modification': 'Fmoc', 'C-terminal_modification': 'Free', 'Non-terminal_modification': 'nan', 'peptide_conjugate_mixture': 'Peptide', 'conjugate_partner': 'nan', 'solution': '100 H2O', 'peptide_concentration(mg/ml)': '0.71', 'PH': '6.0', 'temperature(celsius)': '25.0', 'heating_cooling': 'No', 'incubation_period(min)': '1440.0'}\n",
      "{'peptide_sequence': 'FFR', 'self-assembly_phase': 'fiber', 'N-terminal_modification': 'Fmoc', 'C-terminal_modification': 'Free', 'Non-terminal_modification': 'nan', 'peptide_conjugate_mixture': 'Peptide', 'conjugate_partner': 'nan', 'solution': '5/95 Methanol/H2O', 'peptide_concentration(mg/ml)': '0.745', 'PH': '6.0', 'temperature(celsius)': '25.0', 'heating_cooling': 'No', 'incubation_period(min)': '1440.0'}\n",
      "{'peptide_sequence': 'FFS', 'self-assembly_phase': 'fiber', 'N-terminal_modification': 'Fmoc', 'C-terminal_modification': 'Free', 'Non-terminal_modification': 'nan', 'peptide_conjugate_mixture': 'Peptide', 'conjugate_partner': 'nan', 'solution': '100 H2O', 'peptide_concentration(mg/ml)': '0.76', 'PH': '6.0', 'temperature(celsius)': '25.0', 'heating_cooling': 'No', 'incubation_period(min)': '1440.0'}\n",
      "{'peptide_sequence': 'FFE', 'self-assembly_phase': 'fiber', 'N-terminal_modification': 'Fmoc', 'C-terminal_modification': 'Free', 'Non-terminal_modification': 'nan', 'peptide_conjugate_mixture': 'Peptide', 'conjugate_partner': 'nan', 'solution': '100 H2O', 'peptide_concentration(mg/ml)': '0.7', 'PH': '6.0', 'temperature(celsius)': '25.0', 'heating_cooling': 'No', 'incubation_period(min)': '1440.0'}\n",
      "{'peptide_sequence': 'FFD', 'self-assembly_phase': 'fiber', 'N-terminal_modification': 'Fmoc', 'C-terminal_modification': 'Free', 'Non-terminal_modification': 'nan', 'peptide_conjugate_mixture': 'Peptide', 'conjugate_partner': 'nan', 'solution': '100 H2O', 'peptide_concentration(mg/ml)': '0.685', 'PH': '6.0', 'temperature(celsius)': '25.0', 'heating_cooling': 'No', 'incubation_period(min)': '1440.0'}\n"
     ]
    }
   ],
   "source": [
    "\n",
    "for c in json.loads(completion.choices[0].message.content):\n",
    "    print(c)\n",
    "    \n",
    "print(\"#######################\")\n",
    "print(\"#######################\") \n",
    "\n",
    "for t in json.loads(testset[0]['messages'][2]['content']):\n",
    "    print(t)"
   ]
  },
  {
   "cell_type": "markdown",
   "id": "6f107790",
   "metadata": {},
   "source": [
    "# Testing examples 2"
   ]
  },
  {
   "cell_type": "code",
   "execution_count": 38,
   "id": "34d3541b",
   "metadata": {},
   "outputs": [],
   "source": [
    "\n",
    "completion = client.chat.completions.create(\n",
    "  model=\"ft:gpt-3.5-turbo-0125:personal::95ba6w1r\",\n",
    "  messages=testset[1]['messages'][:2]\n",
    ")\n"
   ]
  },
  {
   "cell_type": "code",
   "execution_count": 39,
   "id": "6b5dfd01",
   "metadata": {},
   "outputs": [
    {
     "name": "stdout",
     "output_type": "stream",
     "text": [
      "{'peptide_sequence': 'FG', 'self-assembly_phase': 'fiber', 'N-terminal_modification': 'Fmoc', 'C-terminal_modification': 'Free', 'Non-terminal_modification': 'nan', 'peptide_conjugate_mixture': 'Peptide', 'conjugate_partner': 'nan', 'solution': '100 H2O', 'peptide_concentration(mg/ml)': '4.36', 'PH': '7.1', 'temperature(celsius)': '4.0', 'heating_cooling': 'Yes', 'incubation_period(min)': 'nan'}\n",
      "{'peptide_sequence': 'FG', 'self-assembly_phase': 'fiber', 'N-terminal_modification': 'Fmoc', 'C-terminal_modification': 'Free', 'Non-terminal_modification': 'nan', 'peptide_conjugate_mixture': 'Peptide', 'conjugate_partner': 'nan', 'solution': '100 H2O', 'peptide_concentration(mg/ml)': '4.36', 'PH': '7.9', 'temperature(celsius)': '4.0', 'heating_cooling': 'Yes', 'incubation_period(min)': 'nan'}\n",
      "{'peptide_sequence': 'FG', 'self-assembly_phase': 'hydrogel', 'N-terminal_modification': 'Fmoc', 'C-terminal_modification': 'Free', 'Non-terminal_modification': 'nan', 'peptide_conjugate_mixture': 'Peptide', 'conjugate_partner': 'nan', 'solution': '100 H2O', 'peptide_concentration(mg/ml)': '4.36', 'PH': '10.5', 'temperature(celsius)': '4.0', 'heating_cooling': 'Yes', 'incubation_period(min)': '720.0'}\n",
      "{'peptide_sequence': 'GG', 'self-assembly_phase': 'none', 'N-terminal_modification': 'Fmoc', 'C-terminal_modification': 'Free', 'Non-terminal_modification': 'nan', 'peptide_conjugate_mixture': 'Peptide', 'conjugate_partner': 'nan', 'solution': '100 H2O', 'peptide_concentration(mg/ml)': '3.61', 'PH': '7.1', 'temperature(celsius)': '4.0', 'heating_cooling': 'Yes', 'incubation_period(min)': 'nan'}\n",
      "{'peptide_sequence': 'GG', 'self-assembly_phase': 'none', 'N-terminal_modification': 'Fmoc', 'C-terminal_modification': 'Free', 'Non-terminal_modification': 'nan', 'peptide_conjugate_mixture': 'Peptide', 'conjugate_partner': 'nan', 'solution': '100 H2O', 'peptide_concentration(mg/ml)': '3.61', 'PH': '7.8', 'temperature(celsius)': '4.0', 'heating_cooling': 'Yes', 'incubation_period(min)': 'nan'}\n",
      "{'peptide_sequence': 'GG', 'self-assembly_phase': 'particle', 'N-terminal_modification': 'Fmoc', 'C-terminal_modification': 'Free', 'Non-terminal_modification': 'nan', 'peptide_conjugate_mixture': 'Peptide', 'conjugate_partner': 'nan', 'solution': '100 H2O', 'peptide_concentration(mg/ml)': '3.61', 'PH': '10.5', 'temperature(celsius)': '4.0', 'heating_cooling': 'Yes', 'incubation_period(min)': '721.0'}\n",
      "{'peptide_sequence': 'GF', 'self-assembly_phase': 'particle', 'N-terminal_modification': 'Fmoc', 'C-terminal_modification': 'Free', 'Non-terminal_modification': 'nan', 'peptide_conjugate_mixture': 'Peptide', 'conjugate_partner': 'nan', 'solution': '100 H2O', 'peptide_concentration(mg/ml)': '3.74', 'PH': '7.1', 'temperature(celsius)': '4.0', 'heating_cooling': 'Yes', 'incubation_period(min)': 'nan'}\n",
      "{'peptide_sequence': 'GF', 'self-assembly_phase': 'particle', 'N-terminal_modification': 'Fmoc', 'C-terminal_modification': 'Free', 'Non-terminal_modification': 'nan', 'peptide_conjugate_mixture': 'Peptide', 'conjugate_partner': 'nan', 'solution': '100 H2O', 'peptide_concentration(mg/ml)': '3.74', 'PH': '7.8', 'temperature(celsius)': '4.0', 'heating_cooling': 'Yes', 'incubation_period(min)': 'nan'}\n",
      "{'peptide_sequence': 'GF', 'self-assembly_phase': 'particle', 'N-terminal_modification': 'Fmoc', 'C-terminal_modification': 'Free', 'Non-terminal_modification': 'nan', 'peptide_conjugate_mixture': 'Peptide', 'conjugate_partner': 'nan', 'solution': '100 H2O', 'peptide_concentration(mg/ml)': '3.74', 'PH': '10.5', 'temperature(celsius)': '4.0', 'heating_cooling': 'Yes', 'incubation_period(min)': '1440.0'}\n",
      "#######################\n",
      "#######################\n",
      "{'peptide_sequence': 'FG', 'self-assembly_phase': 'ribbon', 'N-terminal_modification': 'Fmoc', 'C-terminal_modification': 'Free', 'Non-terminal_modification': 'nan', 'peptide_conjugate_mixture': 'Peptide', 'conjugate_partner': 'nan', 'solution': '100 H2O', 'peptide_concentration(mg/ml)': '0.48', 'PH': '10.5', 'temperature(celsius)': '4.0', 'heating_cooling': 'Yes', 'incubation_period(min)': '1440.0'}\n",
      "{'peptide_sequence': 'FG', 'self-assembly_phase': 'ribbon', 'N-terminal_modification': 'Fmoc', 'C-terminal_modification': 'Free', 'Non-terminal_modification': 'nan', 'peptide_conjugate_mixture': 'Peptide', 'conjugate_partner': 'nan', 'solution': '100 H2O', 'peptide_concentration(mg/ml)': '2.4', 'PH': '10.5', 'temperature(celsius)': '4.0', 'heating_cooling': 'Yes', 'incubation_period(min)': '1440.0'}\n",
      "{'peptide_sequence': 'FG', 'self-assembly_phase': 'ribbon', 'N-terminal_modification': 'Fmoc', 'C-terminal_modification': 'Free', 'Non-terminal_modification': 'nan', 'peptide_conjugate_mixture': 'Peptide', 'conjugate_partner': 'nan', 'solution': '100 H2O', 'peptide_concentration(mg/ml)': '4.8', 'PH': '10.5', 'temperature(celsius)': '4.0', 'heating_cooling': 'Yes', 'incubation_period(min)': '1440.0'}\n",
      "{'peptide_sequence': 'FG', 'self-assembly_phase': 'ribbon', 'N-terminal_modification': 'Fmoc', 'C-terminal_modification': 'Free', 'Non-terminal_modification': 'nan', 'peptide_conjugate_mixture': 'Peptide', 'conjugate_partner': 'nan', 'solution': '100 H2O', 'peptide_concentration(mg/ml)': '9.6', 'PH': '10.5', 'temperature(celsius)': '4.0', 'heating_cooling': 'Yes', 'incubation_period(min)': '1440.0'}\n",
      "{'peptide_sequence': 'FG', 'self-assembly_phase': 'ribbon', 'N-terminal_modification': 'Fmoc', 'C-terminal_modification': 'Free', 'Non-terminal_modification': 'nan', 'peptide_conjugate_mixture': 'Peptide', 'conjugate_partner': 'nan', 'solution': '100 H2O', 'peptide_concentration(mg/ml)': '4.8', 'PH': '9.0', 'temperature(celsius)': '4.0', 'heating_cooling': 'Yes', 'incubation_period(min)': '1440.0'}\n",
      "{'peptide_sequence': 'FG', 'self-assembly_phase': 'ribbon', 'N-terminal_modification': 'Fmoc', 'C-terminal_modification': 'Free', 'Non-terminal_modification': 'nan', 'peptide_conjugate_mixture': 'Peptide', 'conjugate_partner': 'nan', 'solution': '100 H2O', 'peptide_concentration(mg/ml)': '4.8', 'PH': '7.6', 'temperature(celsius)': '4.0', 'heating_cooling': 'Yes', 'incubation_period(min)': '1440.0'}\n",
      "{'peptide_sequence': 'FG', 'self-assembly_phase': 'hydrogel', 'N-terminal_modification': 'Fmoc', 'C-terminal_modification': 'Free', 'Non-terminal_modification': 'nan', 'peptide_conjugate_mixture': 'Peptide', 'conjugate_partner': 'nan', 'solution': '100 H2O', 'peptide_concentration(mg/ml)': '4.8', 'PH': '5.1', 'temperature(celsius)': '4.0', 'heating_cooling': 'Yes', 'incubation_period(min)': '1440.0'}\n",
      "{'peptide_sequence': 'GG', 'self-assembly_phase': 'ribbon', 'N-terminal_modification': 'Fmoc', 'C-terminal_modification': 'Free', 'Non-terminal_modification': 'nan', 'peptide_conjugate_mixture': 'Peptide', 'conjugate_partner': 'nan', 'solution': '100 H2O', 'peptide_concentration(mg/ml)': '3.91', 'PH': '7.2', 'temperature(celsius)': '4.0', 'heating_cooling': 'Yes', 'incubation_period(min)': '1440.0'}\n",
      "{'peptide_sequence': 'GG', 'self-assembly_phase': 'hydrogel', 'N-terminal_modification': 'Fmoc', 'C-terminal_modification': 'Free', 'Non-terminal_modification': 'nan', 'peptide_conjugate_mixture': 'Peptide', 'conjugate_partner': 'nan', 'solution': '100 H2O', 'peptide_concentration(mg/ml)': '3.91', 'PH': '4.6', 'temperature(celsius)': '4.0', 'heating_cooling': 'Yes', 'incubation_period(min)': '1440.0'}\n",
      "{'peptide_sequence': 'GG', 'self-assembly_phase': 'none', 'N-terminal_modification': 'Fmoc', 'C-terminal_modification': 'Free', 'Non-terminal_modification': 'nan', 'peptide_conjugate_mixture': 'Peptide', 'conjugate_partner': 'nan', 'solution': '100 H2O', 'peptide_concentration(mg/ml)': '3.91', 'PH': '7.3', 'temperature(celsius)': '4.0', 'heating_cooling': 'Yes', 'incubation_period(min)': '1440.0'}\n",
      "{'peptide_sequence': 'GG', 'self-assembly_phase': 'none', 'N-terminal_modification': 'Fmoc', 'C-terminal_modification': 'Free', 'Non-terminal_modification': 'nan', 'peptide_conjugate_mixture': 'Peptide', 'conjugate_partner': 'nan', 'solution': '100 H2O', 'peptide_concentration(mg/ml)': '3.91', 'PH': '9.0', 'temperature(celsius)': '4.0', 'heating_cooling': 'Yes', 'incubation_period(min)': '1440.0'}\n",
      "{'peptide_sequence': 'GF', 'self-assembly_phase': 'hydrogel', 'N-terminal_modification': 'Fmoc', 'C-terminal_modification': 'Free', 'Non-terminal_modification': 'nan', 'peptide_conjugate_mixture': 'Peptide', 'conjugate_partner': 'nan', 'solution': '100 H2O', 'peptide_concentration(mg/ml)': '4.8', 'PH': '4.4', 'temperature(celsius)': '4.0', 'heating_cooling': 'Yes', 'incubation_period(min)': '1440.0'}\n",
      "{'peptide_sequence': 'GF', 'self-assembly_phase': 'none', 'N-terminal_modification': 'Fmoc', 'C-terminal_modification': 'Free', 'Non-terminal_modification': 'nan', 'peptide_conjugate_mixture': 'Peptide', 'conjugate_partner': 'nan', 'solution': '100 H2O', 'peptide_concentration(mg/ml)': '4.8', 'PH': '6.9', 'temperature(celsius)': '4.0', 'heating_cooling': 'Yes', 'incubation_period(min)': '1440.0'}\n",
      "{'peptide_sequence': 'GF', 'self-assembly_phase': 'none', 'N-terminal_modification': 'Fmoc', 'C-terminal_modification': 'Free', 'Non-terminal_modification': 'nan', 'peptide_conjugate_mixture': 'Peptide', 'conjugate_partner': 'nan', 'solution': '100 H2O', 'peptide_concentration(mg/ml)': '4.8', 'PH': '8.8', 'temperature(celsius)': '4.0', 'heating_cooling': 'Yes', 'incubation_period(min)': '1440.0'}\n"
     ]
    }
   ],
   "source": [
    "\n",
    "for c in json.loads(completion.choices[0].message.content):\n",
    "    print(c)\n",
    "    \n",
    "print(\"#######################\")\n",
    "print(\"#######################\") \n",
    "\n",
    "for t in json.loads(testset[1]['messages'][2]['content']):\n",
    "    print(t)"
   ]
  },
  {
   "cell_type": "markdown",
   "id": "40bc4b68",
   "metadata": {},
   "source": [
    "# Testing examples 3"
   ]
  },
  {
   "cell_type": "code",
   "execution_count": 40,
   "id": "fbcc6780",
   "metadata": {},
   "outputs": [],
   "source": [
    "\n",
    "completion = client.chat.completions.create(\n",
    "  model=\"ft:gpt-3.5-turbo-0125:personal::95ba6w1r\",\n",
    "  messages=testset[2]['messages'][:2]\n",
    ")\n"
   ]
  },
  {
   "cell_type": "code",
   "execution_count": 42,
   "id": "579eeafa",
   "metadata": {},
   "outputs": [
    {
     "name": "stdout",
     "output_type": "stream",
     "text": [
      "{'peptide_sequence': 'FF', 'self-assembly_phase': 'hydrogel', 'N-terminal_modification': 'Napthalene', 'C-terminal_modification': 'Free', 'Non-terminal_modification': 'nan', 'peptide_conjugate_mixture': 'Peptide', 'conjugate_partner': 'nan', 'solution': '8/92 DMSO/H2O', 'peptide_concentration(mg/ml)': '0.5', 'PH': '7.0', 'temperature(celsius)': '25.0', 'heating_cooling': 'No', 'incubation_period(min)': 'nan'}\n",
      "{'peptide_sequence': 'FF', 'self-assembly_phase': 'hydrogel', 'N-terminal_modification': 'Napthalene', 'C-terminal_modification': 'Free', 'Non-terminal_modification': 'nan', 'peptide_conjugate_mixture': 'Peptide', 'conjugate_partner': 'nan', 'solution': '8/92 DMSO/H2O', 'peptide_concentration(mg/ml)': '0.5', 'PH': '7.3', 'temperature(celsius)': '25.0', 'heating_cooling': 'No', 'incubation_period(min)': 'nan'}\n",
      "{'peptide_sequence': 'FF', 'self-assembly_phase': 'none', 'N-terminal_modification': 'Napthalene', 'C-terminal_modification': 'Free', 'Non-terminal_modification': 'nan', 'peptide_conjugate_mixture': 'Peptide', 'conjugate_partner': 'nan', 'solution': '8/92 DMSO/H2O', 'peptide_concentration(mg/ml)': '0.5', 'PH': '6.8', 'temperature(celsius)': '25.0', 'heating_cooling': 'No', 'incubation_period(min)': 'nan'}\n",
      "{'peptide_sequence': 'FF', 'self-assembly_phase': 'none', 'N-terminal_modification': 'Napthalene', 'C-terminal_modification': 'Free', 'Non-terminal_modification': 'nan', 'peptide_conjugate_mixture': 'Peptide', 'conjugate_partner': 'nan', 'solution': '8/92 DMSO/H2O', 'peptide_concentration(mg/ml)': '0.5', 'PH': '6.5', 'temperature(celsius)': '25.0', 'heating_cooling': 'No', 'incubation_period(min)': 'nan'}\n",
      "{'peptide_sequence': 'FF', 'self-assembly_phase': 'none', 'N-terminal_modification': 'Napthalene', 'C-terminal_modification': 'Free', 'Non-terminal_modification': 'nan', 'peptide_conjugate_mixture': 'Peptide', 'conjugate_partner': 'nan', 'solution': '8/92 DMSO/H2O', 'peptide_concentration(mg/ml)': '0.5', 'PH': '6.2', 'temperature(celsius)': '25.0', 'heating_cooling': 'No', 'incubation_period(min)': 'nan'}\n",
      "{'peptide_sequence': 'FF', 'self-assembly_phase': 'none', 'N-terminal_modification': 'Napthalene', 'C-terminal_modification': 'Free', 'Non-terminal_modification': 'nan', 'peptide_conjugate_mixture': 'Peptide', 'conjugate_partner': 'nan', 'solution': '8/92 DMSO/H2O', 'peptide_concentration(mg/ml)': '0.5', 'PH': '5.9', 'temperature(celsius)': '25.0', 'heating_cooling': 'No', 'incubation_period(min)': 'nan'}\n",
      "{'peptide_sequence': 'FF', 'self-assembly_phase': 'fiber', 'N-terminal_modification': 'Napthalene', 'C-terminal_modification': 'Free', 'Non-terminal_modification': 'nan', 'peptide_conjugate_mixture': 'Peptide', 'conjugate_partner': 'nan', 'solution': '8/92 DMSO/H2O', 'peptide_concentration(mg/ml)': '0.5', 'PH': '5.6', 'temperature(celsius)': '25.0', 'heating_cooling': 'No', 'incubation_period(min)': 'nan'}\n",
      "{'peptide_sequence': 'FF', 'self-assembly_phase': 'fiber', 'N-terminal_modification': 'Napthalene', 'C-terminal_modification': 'Free', 'Non-terminal_modification': 'nan', 'peptide_conjugate_mixture': 'Peptide', 'conjugate_partner': 'nan', 'solution': '8/92 DMSO/H2O', 'peptide_concentration(mg/ml)': '0.5', 'PH': '5.3', 'temperature(celsius)': '25.0', 'heating_cooling': 'No', 'incubation_period(min)': 'nan'}\n",
      "{'peptide_sequence': 'FF', 'self-assembly_phase': 'fiber', 'N-terminal_modification': 'Napthalene', 'C-terminal_modification': 'Free', 'Non-terminal_modification': 'nan', 'peptide_conjugate_mixture': 'Peptide', 'conjugate_partner': 'nan', 'solution': '8/92 DMSO/H2O', 'peptide_concentration(mg/ml)': '0.5', 'PH': '5.0', 'temperature(celsius)': '25.0', 'heating_cooling': 'No', 'incubation_period(min)': 'nan'}\n",
      "{'peptide_sequence': 'FF', 'self-assembly_phase': 'hydrogel', 'N-terminal_modification': 'Napthalene', 'C-terminal_modification': 'Free', 'Non-terminal_modification': 'nan', 'peptide_conjugate_mixture': 'Peptide', 'conjugate_partner': 'nan', 'solution': '8/92 DMSO/H2O', 'peptide_concentration(mg/ml)': '0.5', 'PH': '4.7', 'temperature(celsius)': '25.0', 'heating_cooling': 'No', 'incubation_period(min)': 'nan'}\n",
      "{'peptide_sequence': 'FF', 'self-assembly_phase': 'hydrogel', 'N-terminal_modification': 'Napthalene', 'C-terminal_modification': 'Free', 'Non-terminal_modification': 'nan', 'peptide_conjugate_mixture': 'Peptide', 'conjugate_partner': 'nan', 'solution': '8/92 DMSO/H2O', 'peptide_concentration(mg/ml)': '0.5', 'PH': '4.4', 'temperature(celsius)': '25.0', 'heating_cooling': 'No', 'incubation_period(min)': 'nan'}\n",
      "{'peptide_sequence': 'FF', 'self-assembly_phase': 'hydrogel', 'N-terminal_modification': 'Napthalene', 'C-terminal_modification': 'Free', 'Non-terminal_modification': 'nan', 'peptide_conjugate_mixture': 'Peptide', 'conjugate_partner': 'nan', 'solution': '8/92 DMSO/H2O', 'peptide_concentration(mg/ml)': '0.5', 'PH': '4.1', 'temperature(celsius)': '25.0', 'heating_cooling': 'No', 'incubation_period(min)': 'nan'}\n",
      "#######################\n",
      "#######################\n",
      "{'peptide_sequence': 'FA', 'self-assembly_phase': 'nanosphere', 'N-terminal_modification': 'Napthalene', 'C-terminal_modification': 'Free', 'Non-terminal_modification': 'nan', 'peptide_conjugate_mixture': 'Peptide', 'conjugate_partner': 'nan', 'solution': '100 H2O', 'peptide_concentration(mg/ml)': '5.0', 'PH': '11.7', 'temperature(celsius)': '25.0', 'heating_cooling': 'No', 'incubation_period(min)': '90.0'}\n"
     ]
    }
   ],
   "source": [
    "\n",
    "for c in json.loads(completion.choices[0].message.content):\n",
    "    print(c)\n",
    "    \n",
    "print(\"#######################\")\n",
    "print(\"#######################\") \n",
    "\n",
    "print(json.loads(testset[2]['messages'][2]['content']))\n",
    "#for t in json.loads(testset[2]['messages'][2]['content']):\n",
    "#    print(t)"
   ]
  },
  {
   "cell_type": "markdown",
   "id": "805c66a8",
   "metadata": {},
   "source": [
    "# Testing examples 4"
   ]
  },
  {
   "cell_type": "code",
   "execution_count": 43,
   "id": "c0e8343e",
   "metadata": {},
   "outputs": [],
   "source": [
    "\n",
    "completion = client.chat.completions.create(\n",
    "  model=\"ft:gpt-3.5-turbo-0125:personal::95ba6w1r\",\n",
    "  messages=testset[3]['messages'][:2]\n",
    ")"
   ]
  },
  {
   "cell_type": "code",
   "execution_count": 46,
   "id": "053e5065",
   "metadata": {},
   "outputs": [
    {
     "name": "stdout",
     "output_type": "stream",
     "text": [
      "{'peptide_sequence': 'FF', 'self-assembly_phase': 'tube', 'N-terminal_modification': 'Boc', 'C-terminal_modification': 'Free', 'Non-terminal_modification': 'nan', 'peptide_conjugate_mixture': 'Peptide', 'conjugate_partner': 'nan', 'solution': '2/98 HFP/H2O', 'peptide_concentration(mg/ml)': '2.0', 'PH': '8.0', 'temperature(celsius)': '25.0', 'heating_cooling': 'No', 'incubation_period(min)': 'nan'}\n",
      "{'peptide_sequence': 'FF', 'self-assembly_phase': 'tube', 'N-terminal_modification': 'Boc', 'C-terminal_modification': 'Free', 'Non-terminal_modification': 'nan', 'peptide_conjugate_mixture': 'Peptide', 'conjugate_partner': 'nan', 'solution': '2/98 HFP/H2O', 'peptide_concentration(mg/ml)': '2.0', 'PH': '8.0', 'temperature(celsius)': '25.0', 'heating_cooling': 'No', 'incubation_period(min)': 'nan'}\n",
      "{'peptide_sequence': 'FF', 'self-assembly_phase': 'sphere', 'N-terminal_modification': 'Boc', 'C-terminal_modification': 'Free', 'Non-terminal_modification': 'nan', 'peptide_conjugate_mixture': 'Peptide', 'conjugate_partner': 'nan', 'solution': '9/1 Ethanol/H2O', 'peptide_concentration(mg/ml)': '5.0', 'PH': '8.0', 'temperature(celsius)': '25.0', 'heating_cooling': 'No', 'incubation_period(min)': 'nan'}\n",
      "{'peptide_sequence': 'FF', 'self-assembly_phase': 'sphere', 'N-terminal_modification': 'Fmoc', 'C-terminal_modification': 'Free', 'Non-terminal_modification': 'nan', 'peptide_conjugate_mixture': 'Peptide', 'conjugate_partner': 'nan', 'solution': '9/1 Ethanol/H2O', 'peptide_concentration(mg/ml)': '5.0', 'PH': '8.0', 'temperature(celsius)': '25.0', 'heating_cooling': 'No', 'incubation_period(min)': 'nan'}\n",
      "#######################\n",
      "#######################\n",
      "{'peptide_sequence': 'FF', 'self-assembly_phase': 'tube', 'N-terminal_modification': 'Free', 'C-terminal_modification': 'Free', 'Non-terminal_modification': 'nan', 'peptide_conjugate_mixture': 'Peptide', 'conjugate_partner': 'nan', 'solution': '15/85 HFP/H2O', 'peptide_concentration(mg/ml)': '10.0', 'PH': '4.3', 'temperature(celsius)': '25.0', 'heating_cooling': 'No', 'incubation_period(min)': 'nan'}\n",
      "{'peptide_sequence': 'FF', 'self-assembly_phase': 'tube', 'N-terminal_modification': 'Boc', 'C-terminal_modification': 'Free', 'Non-terminal_modification': 'nan', 'peptide_conjugate_mixture': 'Peptide', 'conjugate_partner': 'nan', 'solution': '4/96 HFP/H2O', 'peptide_concentration(mg/ml)': '2.0', 'PH': '4.9', 'temperature(celsius)': '25.0', 'heating_cooling': 'No', 'incubation_period(min)': 'nan'}\n"
     ]
    }
   ],
   "source": [
    "\n",
    "for c in json.loads(completion.choices[0].message.content):\n",
    "    print(c)\n",
    "    \n",
    "print(\"#######################\")\n",
    "print(\"#######################\") \n",
    "\n",
    "# print(json.loads(testset[3]['messages'][2]['content']))\n",
    "for t in json.loads(testset[3]['messages'][2]['content']):\n",
    "   print(t)"
   ]
  },
  {
   "cell_type": "markdown",
   "id": "1bed977d",
   "metadata": {},
   "source": [
    "# Testing examples 5"
   ]
  },
  {
   "cell_type": "code",
   "execution_count": 47,
   "id": "91058aec",
   "metadata": {},
   "outputs": [],
   "source": [
    "\n",
    "completion = client.chat.completions.create(\n",
    "  model=\"ft:gpt-3.5-turbo-0125:personal::95ba6w1r\",\n",
    "  messages=testset[4]['messages'][:2]\n",
    ")"
   ]
  },
  {
   "cell_type": "code",
   "execution_count": 48,
   "id": "f0957204",
   "metadata": {},
   "outputs": [
    {
     "name": "stdout",
     "output_type": "stream",
     "text": [
      "{'peptide_sequence': 'VFF', 'self-assembly_phase': 'hydrogel', 'N-terminal_modification': 'Free', 'C-terminal_modification': 'Free', 'Non-terminal_modification': 'nan', 'peptide_conjugate_mixture': 'Peptide', 'conjugate_partner': 'nan', 'solution': '100 PB', 'peptide_concentration(mg/ml)': '12.6', 'PH': '7.4', 'temperature(celsius)': '25.0', 'heating_cooling': 'No', 'incubation_period(min)': 'nan'}\n",
      "{'peptide_sequence': 'VFF', 'self-assembly_phase': 'hydrogel', 'N-terminal_modification': 'Free', 'C-terminal_modification': 'Free', 'Non-terminal_modification': 'nan', 'peptide_conjugate_mixture': 'Peptide', 'conjugate_partner': 'nan', 'solution': '100 PB', 'peptide_concentration(mg/ml)': '12.6', 'PH': '7.4', 'temperature(celsius)': '25.0', 'heating_cooling': 'No', 'incubation_period(min)': 'nan'}\n",
      "{'peptide_sequence': 'VFF', 'self-assembly_phase': 'fiber', 'N-terminal_modification': 'Free', 'C-terminal_modification': 'Free', 'Non-terminal_modification': 'nan', 'peptide_conjugate_mixture': 'Peptide', 'conjugate_partner': 'nan', 'solution': '100 PB', 'peptide_concentration(mg/ml)': '1.8', 'PH': '7.4', 'temperature(celsius)': '25.0', 'heating_cooling': 'No', 'incubation_period(min)': 'nan'}\n",
      "{'peptide_sequence': 'VFF', 'self-assembly_phase': 'fiber', 'N-terminal_modification': 'Free', 'C-terminal_modification': 'Free', 'Non-terminal_modification': 'nan', 'peptide_conjugate_mixture': 'Peptide', 'conjugate_partner': 'nan', 'solution': '100 PB', 'peptide_concentration(mg/ml)': '1.8', 'PH': '7.4', 'temperature(celsius)': '25.0', 'heating_cooling': 'No', 'incubation_period(min)': 'nan'}\n",
      "{'peptide_sequence': 'VFF', 'self-assembly_phase': 'none', 'N-terminal_modification': 'Free', 'C-terminal_modification': 'Free', 'Non-terminal_modification': 'nan', 'peptide_conjugate_mixture': 'Peptide', 'conjugate_partner': 'nan', 'solution': '100 PB', 'peptide_concentration(mg/ml)': '0.9', 'PH': '7.4', 'temperature(celsius)': '25.0', 'heating_cooling': 'No', 'incubation_period(min)': 'nan'}\n",
      "{'peptide_sequence': 'VFF', 'self-assembly_phase': 'none', 'N-terminal_modification': 'Free', 'C-terminal_modification': 'Free', 'Non-terminal_modification': 'nan', 'peptide_conjugate_mixture': 'Peptide', 'conjugate_partner': 'nan', 'solution': '100 PB', 'peptide_concentration(mg/ml)': '0.9', 'PH': '7.4', 'temperature(celsius)': '25.0', 'heating_cooling': 'No', 'incubation_period(min)': 'nan'}\n",
      "{'peptide_sequence': 'VFF', 'self-assembly_phase': 'hydrogel', 'N-terminal_modification': 'Free', 'C-terminal_modification': 'Free', 'Non-terminal_modification': 'nan', 'peptide_conjugate_mixture': 'Peptide', 'conjugate_partner': 'nan', 'solution': '100 PB', 'peptide_concentration(mg/ml)': '12.6', 'PH': '7.4', 'temperature(celsius)': '25.0', 'heating_cooling': 'No', 'incubation_period(min)': 'nan'}\n",
      "{'peptide_sequence': 'VFF', 'self-assembly_phase': 'hydrogel', 'N-terminal_modification': 'Free', 'C-terminal_modification': 'Free', 'Non-terminal_modification': 'nan', 'peptide_conjugate_mixture': 'Peptide', 'conjugate_partner': 'nan', 'solution': '100 PB', 'peptide_concentration(mg/ml)': '12.6', 'PH': '7.4', 'temperature(celsius)': '25.0', 'heating_cooling': 'No', 'incubation_period(min)': 'nan'}\n",
      "{'peptide_sequence': 'VFF', 'self-assembly_phase': 'fiber', 'N-terminal_modification': 'Free', 'C-terminal_modification': 'Free', 'Non-terminal_modification': 'nan', 'peptide_conjugate_mixture': 'Peptide', 'conjugate_partner': 'nan', 'solution': '100 PB', 'peptide_concentration(mg/ml)': '1.8', 'PH': '7.4', 'temperature(celsius)': '25.0', 'heating_cooling': 'No', 'incubation_period(min)': 'nan'}\n",
      "{'peptide_sequence': 'VFF', 'self-assembly_phase': 'fiber', 'N-terminal_modification': 'Free', 'C-terminal_modification': 'Free', 'Non-terminal_modification': 'nan', 'peptide_conjugate_mixture': 'Peptide', 'conjugate_partner': 'nan', 'solution': '100 PB', 'peptide_concentration(mg/ml)': '1.8', 'PH': '7.4', 'temperature(celsius)': '25.0', 'heating_cooling': 'No', 'incubation_period(min)': 'nan'}\n",
      "{'peptide_sequence': 'VFF', 'self-assembly_phase': 'none', 'N-terminal_modification': 'Free', 'C-terminal_modification': 'Free', 'Non-terminal_modification': 'nan', 'peptide_conjugate_mixture': 'Peptide', 'conjugate_partner': 'nan', 'solution': '100 PB', 'peptide_concentration(mg/ml)': '0.9', 'PH': '7.4', 'temperature(celsius)': '25.0', 'heating_cooling': 'No', 'incubation_period(min)': 'nan'}\n",
      "{'peptide_sequence': 'VFF', 'self-assembly_phase': 'none', 'N-terminal_modification': 'Free', 'C-terminal_modification': 'Free', 'Non-terminal_modification': 'nan', 'peptide_conjugate_mixture': 'Peptide', 'conjugate_partner': 'nan', 'solution': '100 PB', 'peptide_concentration(mg/ml)': '0.9', 'PH': '7.4', 'temperature(celsius)': '25.0', 'heating_cooling': 'No', 'incubation_period(min)': 'nan'}\n",
      "{'peptide_sequence': 'FFV', 'self-assembly_phase': 'hydrogel', 'N-terminal_modification': 'Free', 'C-terminal_modification': 'Free', 'Non-terminal_modification': 'nan', 'peptide_conjugate_mixture': 'Peptide', 'conjugate_partner': 'nan', 'solution': '100 PB', 'peptide_concentration(mg/ml)': '12.6', 'PH': '7.4', 'temperature(celsius)': '25.0', 'heating_cooling': 'No', 'incubation_period(min)': 'nan'}\n",
      "{'peptide_sequence': 'FFV', 'self-assembly_phase': 'hydrogel', 'N-terminal_modification': 'Free', 'C-terminal_modification': 'Free', 'Non-terminal_modification': 'nan', 'peptide_conjugate_mixture': 'Peptide', 'conjugate_partner': 'nan', 'solution': '100 PB', 'peptide_concentration(mg/ml)': '12.6', 'PH': '7.4', 'temperature(celsius)': '25.0', 'heating_cooling': 'No', 'incubation_period(min)': 'nan'}\n",
      "{'peptide_sequence': 'FFV', 'self-assembly_phase': 'hydrogel', 'N-terminal_modification': 'Free', 'C-terminal_modification': 'Free', 'Non-terminal_modification': 'nan', 'peptide_conjugate_mixture': 'Peptide', 'conjugate_partner': 'nan', 'solution': '100 PB', 'peptide_concentration(mg/ml)': '12.6', 'PH': '7.4', 'temperature(celsius)': '25.0', 'heating_cooling': 'No', 'incubation_period(min)': 'nan'}\n",
      "{'peptide_sequence': 'FFV', 'self-assembly_phase': 'hydrogel', 'N-terminal_modification': 'Free', 'C-terminal_modification': 'Free', 'Non-terminal_modification': 'nan', 'peptide_conjugate_mixture': 'Peptide', 'conjugate_partner': 'nan', 'solution': '100 PB', 'peptide_concentration(mg/ml)': '12.6', 'PH': '7.4', 'temperature(celsius)': '25.0', 'heating_cooling': 'No', 'incubation_period(min)': 'nan'}\n",
      "{'peptide_sequence': 'FFV', 'self-assembly_phase': 'fiber', 'N-terminal_modification': 'Free', 'C-terminal_modification': 'Free', 'Non-terminal_modification': 'nan', 'peptide_conjugate_mixture': 'Peptide', 'conjugate_partner': 'nan', 'solution': '100 PB', 'peptide_concentration(mg/ml)': '2.1', 'PH': '7.4', 'temperature(celsius)': '25.0', 'heating_cooling': 'No', 'incubation_period(min)': 'nan'}\n",
      "{'peptide_sequence': 'FFV', 'self-assembly_phase': 'fiber', 'N-terminal_modification': 'Free', 'C-terminal_modification': 'Free', 'Non-terminal_modification': 'nan', 'peptide_conjugate_mixture': 'Peptide', 'conjugate_partner': 'nan', 'solution': '100 PB', 'peptide_concentration(mg/ml)': '2.1', 'PH': '7.4', 'temperature(celsius)': '25.0', 'heating_cooling': 'No', 'incubation_period(min)': 'nan'}\n",
      "{'peptide_sequence': 'FFV', 'self-assembly_phase': 'none', 'N-terminal_modification': 'Free', 'C-terminal_modification': 'Free', 'Non-terminal_modification': 'nan', 'peptide_conjugate_mixture': 'Peptide', 'conjugate_partner': 'nan', 'solution': '100 PB', 'peptide_concentration(mg/ml)': '1.05', 'PH': '7.4', 'temperature(celsius)': '25.0', 'heating_cooling': 'No', 'incubation_period(min)': 'nan'}\n",
      "{'peptide_sequence': 'FFV', 'self-assembly_phase': 'none', 'N-terminal_modification': 'Free', 'C-terminal_modification': 'Free', 'Non-terminal_modification': 'nan', 'peptide_conjugate_mixture': 'Peptide', 'conjugate_partner': 'nan', 'solution': '100 PB', 'peptide_concentration(mg/ml)': '1.05', 'PH': '7.4', 'temperature(celsius)': '25.0', 'heating_cooling': 'No', 'incubation_period(min)': 'nan'}\n",
      "#######################\n",
      "#######################\n",
      "{'peptide_sequence': 'vFF', 'self-assembly_phase': 'hydrogel', 'N-terminal_modification': 'Free', 'C-terminal_modification': 'Free', 'Non-terminal_modification': 'nan', 'peptide_conjugate_mixture': 'Peptide', 'conjugate_partner': 'nan', 'solution': '100 PB', 'peptide_concentration(mg/ml)': '6.7', 'PH': '7.4', 'temperature(celsius)': '25.0', 'heating_cooling': 'Yes', 'incubation_period(min)': '1440.0'}\n",
      "{'peptide_sequence': 'fFV', 'self-assembly_phase': 'hydrogel', 'N-terminal_modification': 'Free', 'C-terminal_modification': 'Free', 'Non-terminal_modification': 'nan', 'peptide_conjugate_mixture': 'Peptide', 'conjugate_partner': 'nan', 'solution': '100 PB', 'peptide_concentration(mg/ml)': '6.7', 'PH': '7.4', 'temperature(celsius)': '25.0', 'heating_cooling': 'Yes', 'incubation_period(min)': '1440.0'}\n",
      "{'peptide_sequence': 'VFF', 'self-assembly_phase': 'none', 'N-terminal_modification': 'Free', 'C-terminal_modification': 'Free', 'Non-terminal_modification': 'nan', 'peptide_conjugate_mixture': 'Peptide', 'conjugate_partner': 'nan', 'solution': '100 PB', 'peptide_concentration(mg/ml)': '6.7', 'PH': '7.4', 'temperature(celsius)': '25.0', 'heating_cooling': 'Yes', 'incubation_period(min)': '1440.0'}\n",
      "{'peptide_sequence': 'FFV', 'self-assembly_phase': 'none', 'N-terminal_modification': 'Free', 'C-terminal_modification': 'Free', 'Non-terminal_modification': 'nan', 'peptide_conjugate_mixture': 'Peptide', 'conjugate_partner': 'nan', 'solution': '100 PB', 'peptide_concentration(mg/ml)': '6.7', 'PH': '7.4', 'temperature(celsius)': '25.0', 'heating_cooling': 'Yes', 'incubation_period(min)': '1440.0'}\n"
     ]
    }
   ],
   "source": [
    "\n",
    "for c in json.loads(completion.choices[0].message.content):\n",
    "    print(c)\n",
    "    \n",
    "print(\"#######################\")\n",
    "print(\"#######################\") \n",
    "\n",
    "# print(json.loads(testset[3]['messages'][2]['content']))\n",
    "for t in json.loads(testset[4]['messages'][2]['content']):\n",
    "   print(t)"
   ]
  },
  {
   "cell_type": "markdown",
   "id": "67043b3a",
   "metadata": {},
   "source": [
    "# Testing examples 6"
   ]
  },
  {
   "cell_type": "code",
   "execution_count": 49,
   "id": "8d687c26",
   "metadata": {},
   "outputs": [],
   "source": [
    "\n",
    "completion = client.chat.completions.create(\n",
    "  model=\"ft:gpt-3.5-turbo-0125:personal::95ba6w1r\",\n",
    "  messages=testset[5]['messages'][:2]\n",
    ")"
   ]
  },
  {
   "cell_type": "code",
   "execution_count": 50,
   "id": "7f58fbf9",
   "metadata": {},
   "outputs": [
    {
     "name": "stdout",
     "output_type": "stream",
     "text": [
      "{'peptide_sequence': 'FF', 'self-assembly_phase': 'sphere', 'N-terminal_modification': 'Boc', 'C-terminal_modification': 'Free', 'Non-terminal_modification': 'nan', 'peptide_conjugate_mixture': 'Peptide', 'conjugate_partner': 'nan', 'solution': '10/90 H2O/EtOH', 'peptide_concentration(mg/ml)': '2.0', 'PH': '7.0', 'temperature(celsius)': '4.0', 'heating_cooling': 'No', 'incubation_period(min)': '1.0'}\n",
      "{'peptide_sequence': 'FF', 'self-assembly_phase': 'tube', 'N-terminal_modification': 'Boc', 'C-terminal_modification': 'Free', 'Non-terminal_modification': 'nan', 'peptide_conjugate_mixture': 'Peptide', 'conjugate_partner': 'nan', 'solution': '10/90 H2O/EtOH', 'peptide_concentration(mg/ml)': '2.0', 'PH': '7.0', 'temperature(celsius)': '25.0', 'heating_cooling': 'No', 'incubation_period(min)': '1440.0'}\n",
      "{'peptide_sequence': 'FF', 'self-assembly_phase': 'fiber', 'N-terminal_modification': 'Boc', 'C-terminal_modification': 'Free', 'Non-terminal_modification': 'nan', 'peptide_conjugate_mixture': 'Peptide', 'conjugate_partner': 'nan', 'solution': '10/90 H2O/EtOH', 'peptide_concentration(mg/ml)': '2.0', 'PH': '7.0', 'temperature(celsius)': '25.0', 'heating_cooling': 'No', 'incubation_period(min)': '20.0'}\n",
      "#######################\n",
      "#######################\n",
      "{'peptide_sequence': 'FF', 'self-assembly_phase': 'fiber', 'N-terminal_modification': 'Boc', 'C-terminal_modification': 'Free', 'Non-terminal_modification': 'nan', 'peptide_conjugate_mixture': 'Peptide', 'conjugate_partner': 'nan', 'solution': '10/90 Ethanol/H2O', 'peptide_concentration(mg/ml)': '0.2', 'PH': '7.0', 'temperature(celsius)': '25.0', 'heating_cooling': 'No', 'incubation_period(min)': '35.0'}\n",
      "{'peptide_sequence': 'FF', 'self-assembly_phase': 'fiber', 'N-terminal_modification': 'Boc', 'C-terminal_modification': 'Free', 'Non-terminal_modification': 'nan', 'peptide_conjugate_mixture': 'Peptide', 'conjugate_partner': 'nan', 'solution': '10/90 Ethanol/H2O', 'peptide_concentration(mg/ml)': '0.5', 'PH': '7.0', 'temperature(celsius)': '25.0', 'heating_cooling': 'No', 'incubation_period(min)': '35.0'}\n",
      "{'peptide_sequence': 'FF', 'self-assembly_phase': 'fiber', 'N-terminal_modification': 'Boc', 'C-terminal_modification': 'Free', 'Non-terminal_modification': 'nan', 'peptide_conjugate_mixture': 'Peptide', 'conjugate_partner': 'nan', 'solution': '10/90 Ethanol/H2O', 'peptide_concentration(mg/ml)': '1.0', 'PH': '7.0', 'temperature(celsius)': '25.0', 'heating_cooling': 'No', 'incubation_period(min)': '35.0'}\n",
      "{'peptide_sequence': 'FF', 'self-assembly_phase': 'fiber', 'N-terminal_modification': 'Boc', 'C-terminal_modification': 'Free', 'Non-terminal_modification': 'nan', 'peptide_conjugate_mixture': 'Peptide', 'conjugate_partner': 'nan', 'solution': '10/90 Ethanol/H2O', 'peptide_concentration(mg/ml)': '2.0', 'PH': '7.0', 'temperature(celsius)': '25.0', 'heating_cooling': 'No', 'incubation_period(min)': '35.0'}\n",
      "{'peptide_sequence': 'FF', 'self-assembly_phase': 'fiber', 'N-terminal_modification': 'Boc', 'C-terminal_modification': 'Free', 'Non-terminal_modification': 'nan', 'peptide_conjugate_mixture': 'Peptide', 'conjugate_partner': 'nan', 'solution': '10/90 Ethanol/H2O', 'peptide_concentration(mg/ml)': '4.0', 'PH': '7.0', 'temperature(celsius)': '25.0', 'heating_cooling': 'No', 'incubation_period(min)': '35.0'}\n",
      "{'peptide_sequence': 'FF', 'self-assembly_phase': 'fiber', 'N-terminal_modification': 'Boc', 'C-terminal_modification': 'Free', 'Non-terminal_modification': 'nan', 'peptide_conjugate_mixture': 'Peptide', 'conjugate_partner': 'nan', 'solution': '10/90 Ethanol/H2O', 'peptide_concentration(mg/ml)': '6.0', 'PH': '7.0', 'temperature(celsius)': '25.0', 'heating_cooling': 'No', 'incubation_period(min)': '35.0'}\n",
      "{'peptide_sequence': 'FF', 'self-assembly_phase': 'fiber', 'N-terminal_modification': 'Boc', 'C-terminal_modification': 'Free', 'Non-terminal_modification': 'nan', 'peptide_conjugate_mixture': 'Peptide', 'conjugate_partner': 'nan', 'solution': '10/90 Ethanol/H2O', 'peptide_concentration(mg/ml)': '8.0', 'PH': '7.0', 'temperature(celsius)': '25.0', 'heating_cooling': 'No', 'incubation_period(min)': '35.0'}\n",
      "{'peptide_sequence': 'FF', 'self-assembly_phase': 'fiber', 'N-terminal_modification': 'Boc', 'C-terminal_modification': 'Free', 'Non-terminal_modification': 'nan', 'peptide_conjugate_mixture': 'Peptide', 'conjugate_partner': 'nan', 'solution': '10/90 Ethanol/H2O', 'peptide_concentration(mg/ml)': '10.0', 'PH': '7.0', 'temperature(celsius)': '25.0', 'heating_cooling': 'No', 'incubation_period(min)': '35.0'}\n",
      "{'peptide_sequence': 'FF', 'self-assembly_phase': 'tube', 'N-terminal_modification': 'Boc', 'C-terminal_modification': 'Free', 'Non-terminal_modification': 'nan', 'peptide_conjugate_mixture': 'Peptide', 'conjugate_partner': 'nan', 'solution': '10/90 Ethanol/H2O', 'peptide_concentration(mg/ml)': '0.2', 'PH': '7.0', 'temperature(celsius)': '25.0', 'heating_cooling': 'No', 'incubation_period(min)': '60.0'}\n",
      "{'peptide_sequence': 'FF', 'self-assembly_phase': 'tube', 'N-terminal_modification': 'Boc', 'C-terminal_modification': 'Free', 'Non-terminal_modification': 'nan', 'peptide_conjugate_mixture': 'Peptide', 'conjugate_partner': 'nan', 'solution': '10/90 Ethanol/H2O', 'peptide_concentration(mg/ml)': '0.5', 'PH': '7.0', 'temperature(celsius)': '25.0', 'heating_cooling': 'No', 'incubation_period(min)': '60.0'}\n",
      "{'peptide_sequence': 'FF', 'self-assembly_phase': 'tube', 'N-terminal_modification': 'Boc', 'C-terminal_modification': 'Free', 'Non-terminal_modification': 'nan', 'peptide_conjugate_mixture': 'Peptide', 'conjugate_partner': 'nan', 'solution': '10/90 Ethanol/H2O', 'peptide_concentration(mg/ml)': '1.0', 'PH': '7.0', 'temperature(celsius)': '25.0', 'heating_cooling': 'No', 'incubation_period(min)': '60.0'}\n",
      "{'peptide_sequence': 'FF', 'self-assembly_phase': 'tube', 'N-terminal_modification': 'Boc', 'C-terminal_modification': 'Free', 'Non-terminal_modification': 'nan', 'peptide_conjugate_mixture': 'Peptide', 'conjugate_partner': 'nan', 'solution': '10/90 Ethanol/H2O', 'peptide_concentration(mg/ml)': '2.0', 'PH': '7.0', 'temperature(celsius)': '25.0', 'heating_cooling': 'No', 'incubation_period(min)': '60.0'}\n",
      "{'peptide_sequence': 'FF', 'self-assembly_phase': 'tube', 'N-terminal_modification': 'Boc', 'C-terminal_modification': 'Free', 'Non-terminal_modification': 'nan', 'peptide_conjugate_mixture': 'Peptide', 'conjugate_partner': 'nan', 'solution': '10/90 Ethanol/H2O', 'peptide_concentration(mg/ml)': '4.0', 'PH': '7.0', 'temperature(celsius)': '25.0', 'heating_cooling': 'No', 'incubation_period(min)': '60.0'}\n",
      "{'peptide_sequence': 'FF', 'self-assembly_phase': 'tube', 'N-terminal_modification': 'Boc', 'C-terminal_modification': 'Free', 'Non-terminal_modification': 'nan', 'peptide_conjugate_mixture': 'Peptide', 'conjugate_partner': 'nan', 'solution': '10/90 Ethanol/H2O', 'peptide_concentration(mg/ml)': '6.0', 'PH': '7.0', 'temperature(celsius)': '25.0', 'heating_cooling': 'No', 'incubation_period(min)': '60.0'}\n",
      "{'peptide_sequence': 'FF', 'self-assembly_phase': 'tube', 'N-terminal_modification': 'Boc', 'C-terminal_modification': 'Free', 'Non-terminal_modification': 'nan', 'peptide_conjugate_mixture': 'Peptide', 'conjugate_partner': 'nan', 'solution': '10/90 Ethanol/H2O', 'peptide_concentration(mg/ml)': '8.0', 'PH': '7.0', 'temperature(celsius)': '25.0', 'heating_cooling': 'No', 'incubation_period(min)': '60.0'}\n",
      "{'peptide_sequence': 'FF', 'self-assembly_phase': 'tube', 'N-terminal_modification': 'Boc', 'C-terminal_modification': 'Free', 'Non-terminal_modification': 'nan', 'peptide_conjugate_mixture': 'Peptide', 'conjugate_partner': 'nan', 'solution': '10/90 Ethanol/H2O', 'peptide_concentration(mg/ml)': '10.0', 'PH': '7.0', 'temperature(celsius)': '25.0', 'heating_cooling': 'No', 'incubation_period(min)': '60.0'}\n",
      "{'peptide_sequence': 'FF', 'self-assembly_phase': 'tube', 'N-terminal_modification': 'Boc', 'C-terminal_modification': 'Free', 'Non-terminal_modification': 'nan', 'peptide_conjugate_mixture': 'Peptide', 'conjugate_partner': 'nan', 'solution': '20/80 Ethanol/H2O', 'peptide_concentration(mg/ml)': '0.2', 'PH': '7.0', 'temperature(celsius)': '25.0', 'heating_cooling': 'No', 'incubation_period(min)': '60.0'}\n",
      "{'peptide_sequence': 'FF', 'self-assembly_phase': 'tube', 'N-terminal_modification': 'Boc', 'C-terminal_modification': 'Free', 'Non-terminal_modification': 'nan', 'peptide_conjugate_mixture': 'Peptide', 'conjugate_partner': 'nan', 'solution': '20/80 Ethanol/H2O', 'peptide_concentration(mg/ml)': '0.5', 'PH': '7.0', 'temperature(celsius)': '25.0', 'heating_cooling': 'No', 'incubation_period(min)': '60.0'}\n",
      "{'peptide_sequence': 'FF', 'self-assembly_phase': 'tube', 'N-terminal_modification': 'Boc', 'C-terminal_modification': 'Free', 'Non-terminal_modification': 'nan', 'peptide_conjugate_mixture': 'Peptide', 'conjugate_partner': 'nan', 'solution': '20/80 Ethanol/H2O', 'peptide_concentration(mg/ml)': '1.0', 'PH': '7.0', 'temperature(celsius)': '25.0', 'heating_cooling': 'No', 'incubation_period(min)': '60.0'}\n",
      "{'peptide_sequence': 'FF', 'self-assembly_phase': 'tube', 'N-terminal_modification': 'Boc', 'C-terminal_modification': 'Free', 'Non-terminal_modification': 'nan', 'peptide_conjugate_mixture': 'Peptide', 'conjugate_partner': 'nan', 'solution': '20/80 Ethanol/H2O', 'peptide_concentration(mg/ml)': '2.0', 'PH': '7.0', 'temperature(celsius)': '25.0', 'heating_cooling': 'No', 'incubation_period(min)': '60.0'}\n",
      "{'peptide_sequence': 'FF', 'self-assembly_phase': 'tube', 'N-terminal_modification': 'Boc', 'C-terminal_modification': 'Free', 'Non-terminal_modification': 'nan', 'peptide_conjugate_mixture': 'Peptide', 'conjugate_partner': 'nan', 'solution': '20/80 Ethanol/H2O', 'peptide_concentration(mg/ml)': '4.0', 'PH': '7.0', 'temperature(celsius)': '25.0', 'heating_cooling': 'No', 'incubation_period(min)': '60.0'}\n",
      "{'peptide_sequence': 'FF', 'self-assembly_phase': 'tube', 'N-terminal_modification': 'Boc', 'C-terminal_modification': 'Free', 'Non-terminal_modification': 'nan', 'peptide_conjugate_mixture': 'Peptide', 'conjugate_partner': 'nan', 'solution': '20/80 Ethanol/H2O', 'peptide_concentration(mg/ml)': '6.0', 'PH': '7.0', 'temperature(celsius)': '25.0', 'heating_cooling': 'No', 'incubation_period(min)': '60.0'}\n",
      "{'peptide_sequence': 'FF', 'self-assembly_phase': 'tube', 'N-terminal_modification': 'Boc', 'C-terminal_modification': 'Free', 'Non-terminal_modification': 'nan', 'peptide_conjugate_mixture': 'Peptide', 'conjugate_partner': 'nan', 'solution': '20/80 Ethanol/H2O', 'peptide_concentration(mg/ml)': '8.0', 'PH': '7.0', 'temperature(celsius)': '25.0', 'heating_cooling': 'No', 'incubation_period(min)': '60.0'}\n",
      "{'peptide_sequence': 'FF', 'self-assembly_phase': 'tube', 'N-terminal_modification': 'Boc', 'C-terminal_modification': 'Free', 'Non-terminal_modification': 'nan', 'peptide_conjugate_mixture': 'Peptide', 'conjugate_partner': 'nan', 'solution': '20/80 Ethanol/H2O', 'peptide_concentration(mg/ml)': '10.0', 'PH': '7.0', 'temperature(celsius)': '25.0', 'heating_cooling': 'No', 'incubation_period(min)': '60.0'}\n",
      "{'peptide_sequence': 'FF', 'self-assembly_phase': 'nanosphere', 'N-terminal_modification': 'Boc', 'C-terminal_modification': 'Free', 'Non-terminal_modification': 'nan', 'peptide_conjugate_mixture': 'Peptide', 'conjugate_partner': 'nan', 'solution': '30/70 Ethanol/H2O', 'peptide_concentration(mg/ml)': '0.2', 'PH': '7.0', 'temperature(celsius)': '25.0', 'heating_cooling': 'No', 'incubation_period(min)': '60.0'}\n",
      "{'peptide_sequence': 'FF', 'self-assembly_phase': 'tube', 'N-terminal_modification': 'Boc', 'C-terminal_modification': 'Free', 'Non-terminal_modification': 'nan', 'peptide_conjugate_mixture': 'Peptide', 'conjugate_partner': 'nan', 'solution': '30/70 Ethanol/H2O', 'peptide_concentration(mg/ml)': '0.5', 'PH': '7.0', 'temperature(celsius)': '25.0', 'heating_cooling': 'No', 'incubation_period(min)': '60.0'}\n",
      "{'peptide_sequence': 'FF', 'self-assembly_phase': 'tube', 'N-terminal_modification': 'Boc', 'C-terminal_modification': 'Free', 'Non-terminal_modification': 'nan', 'peptide_conjugate_mixture': 'Peptide', 'conjugate_partner': 'nan', 'solution': '30/70 Ethanol/H2O', 'peptide_concentration(mg/ml)': '1.0', 'PH': '7.0', 'temperature(celsius)': '25.0', 'heating_cooling': 'No', 'incubation_period(min)': '60.0'}\n",
      "{'peptide_sequence': 'FF', 'self-assembly_phase': 'tube', 'N-terminal_modification': 'Boc', 'C-terminal_modification': 'Free', 'Non-terminal_modification': 'nan', 'peptide_conjugate_mixture': 'Peptide', 'conjugate_partner': 'nan', 'solution': '30/70 Ethanol/H2O', 'peptide_concentration(mg/ml)': '2.0', 'PH': '7.0', 'temperature(celsius)': '25.0', 'heating_cooling': 'No', 'incubation_period(min)': '60.0'}\n",
      "{'peptide_sequence': 'FF', 'self-assembly_phase': 'tube', 'N-terminal_modification': 'Boc', 'C-terminal_modification': 'Free', 'Non-terminal_modification': 'nan', 'peptide_conjugate_mixture': 'Peptide', 'conjugate_partner': 'nan', 'solution': '30/70 Ethanol/H2O', 'peptide_concentration(mg/ml)': '4.0', 'PH': '7.0', 'temperature(celsius)': '25.0', 'heating_cooling': 'No', 'incubation_period(min)': '60.0'}\n",
      "{'peptide_sequence': 'FF', 'self-assembly_phase': 'tube', 'N-terminal_modification': 'Boc', 'C-terminal_modification': 'Free', 'Non-terminal_modification': 'nan', 'peptide_conjugate_mixture': 'Peptide', 'conjugate_partner': 'nan', 'solution': '30/70 Ethanol/H2O', 'peptide_concentration(mg/ml)': '6.0', 'PH': '7.0', 'temperature(celsius)': '25.0', 'heating_cooling': 'No', 'incubation_period(min)': '60.0'}\n",
      "{'peptide_sequence': 'FF', 'self-assembly_phase': 'tube', 'N-terminal_modification': 'Boc', 'C-terminal_modification': 'Free', 'Non-terminal_modification': 'nan', 'peptide_conjugate_mixture': 'Peptide', 'conjugate_partner': 'nan', 'solution': '30/70 Ethanol/H2O', 'peptide_concentration(mg/ml)': '8.0', 'PH': '7.0', 'temperature(celsius)': '25.0', 'heating_cooling': 'No', 'incubation_period(min)': '60.0'}\n",
      "{'peptide_sequence': 'FF', 'self-assembly_phase': 'tube', 'N-terminal_modification': 'Boc', 'C-terminal_modification': 'Free', 'Non-terminal_modification': 'nan', 'peptide_conjugate_mixture': 'Peptide', 'conjugate_partner': 'nan', 'solution': '30/70 Ethanol/H2O', 'peptide_concentration(mg/ml)': '10.0', 'PH': '7.0', 'temperature(celsius)': '25.0', 'heating_cooling': 'No', 'incubation_period(min)': '60.0'}\n",
      "{'peptide_sequence': 'FF', 'self-assembly_phase': 'none', 'N-terminal_modification': 'Boc', 'C-terminal_modification': 'Free', 'Non-terminal_modification': 'nan', 'peptide_conjugate_mixture': 'Peptide', 'conjugate_partner': 'nan', 'solution': '40/60 Ethanol/H2O', 'peptide_concentration(mg/ml)': '0.2', 'PH': '7.0', 'temperature(celsius)': '25.0', 'heating_cooling': 'No', 'incubation_period(min)': '60.0'}\n",
      "{'peptide_sequence': 'FF', 'self-assembly_phase': 'nanosphere', 'N-terminal_modification': 'Boc', 'C-terminal_modification': 'Free', 'Non-terminal_modification': 'nan', 'peptide_conjugate_mixture': 'Peptide', 'conjugate_partner': 'nan', 'solution': '40/60 Ethanol/H2O', 'peptide_concentration(mg/ml)': '0.5', 'PH': '7.0', 'temperature(celsius)': '25.0', 'heating_cooling': 'No', 'incubation_period(min)': '60.0'}\n",
      "{'peptide_sequence': 'FF', 'self-assembly_phase': 'tube', 'N-terminal_modification': 'Boc', 'C-terminal_modification': 'Free', 'Non-terminal_modification': 'nan', 'peptide_conjugate_mixture': 'Peptide', 'conjugate_partner': 'nan', 'solution': '40/60 Ethanol/H2O', 'peptide_concentration(mg/ml)': '1.0', 'PH': '7.0', 'temperature(celsius)': '25.0', 'heating_cooling': 'No', 'incubation_period(min)': '60.0'}\n",
      "{'peptide_sequence': 'FF', 'self-assembly_phase': 'tube', 'N-terminal_modification': 'Boc', 'C-terminal_modification': 'Free', 'Non-terminal_modification': 'nan', 'peptide_conjugate_mixture': 'Peptide', 'conjugate_partner': 'nan', 'solution': '40/60 Ethanol/H2O', 'peptide_concentration(mg/ml)': '2.0', 'PH': '7.0', 'temperature(celsius)': '25.0', 'heating_cooling': 'No', 'incubation_period(min)': '60.0'}\n",
      "{'peptide_sequence': 'FF', 'self-assembly_phase': 'tube', 'N-terminal_modification': 'Boc', 'C-terminal_modification': 'Free', 'Non-terminal_modification': 'nan', 'peptide_conjugate_mixture': 'Peptide', 'conjugate_partner': 'nan', 'solution': '40/60 Ethanol/H2O', 'peptide_concentration(mg/ml)': '4.0', 'PH': '7.0', 'temperature(celsius)': '25.0', 'heating_cooling': 'No', 'incubation_period(min)': '60.0'}\n",
      "{'peptide_sequence': 'FF', 'self-assembly_phase': 'tube', 'N-terminal_modification': 'Boc', 'C-terminal_modification': 'Free', 'Non-terminal_modification': 'nan', 'peptide_conjugate_mixture': 'Peptide', 'conjugate_partner': 'nan', 'solution': '40/60 Ethanol/H2O', 'peptide_concentration(mg/ml)': '6.0', 'PH': '7.0', 'temperature(celsius)': '25.0', 'heating_cooling': 'No', 'incubation_period(min)': '60.0'}\n",
      "{'peptide_sequence': 'FF', 'self-assembly_phase': 'tube', 'N-terminal_modification': 'Boc', 'C-terminal_modification': 'Free', 'Non-terminal_modification': 'nan', 'peptide_conjugate_mixture': 'Peptide', 'conjugate_partner': 'nan', 'solution': '40/60 Ethanol/H2O', 'peptide_concentration(mg/ml)': '8.0', 'PH': '7.0', 'temperature(celsius)': '25.0', 'heating_cooling': 'No', 'incubation_period(min)': '60.0'}\n",
      "{'peptide_sequence': 'FF', 'self-assembly_phase': 'tube', 'N-terminal_modification': 'Boc', 'C-terminal_modification': 'Free', 'Non-terminal_modification': 'nan', 'peptide_conjugate_mixture': 'Peptide', 'conjugate_partner': 'nan', 'solution': '40/60 Ethanol/H2O', 'peptide_concentration(mg/ml)': '10.0', 'PH': '7.0', 'temperature(celsius)': '25.0', 'heating_cooling': 'No', 'incubation_period(min)': '60.0'}\n",
      "{'peptide_sequence': 'FF', 'self-assembly_phase': 'none', 'N-terminal_modification': 'Boc', 'C-terminal_modification': 'Free', 'Non-terminal_modification': 'nan', 'peptide_conjugate_mixture': 'Peptide', 'conjugate_partner': 'nan', 'solution': '50/50 Ethanol/H2O', 'peptide_concentration(mg/ml)': '0.2', 'PH': '7.0', 'temperature(celsius)': '25.0', 'heating_cooling': 'No', 'incubation_period(min)': '60.0'}\n",
      "{'peptide_sequence': 'FF', 'self-assembly_phase': 'none', 'N-terminal_modification': 'Boc', 'C-terminal_modification': 'Free', 'Non-terminal_modification': 'nan', 'peptide_conjugate_mixture': 'Peptide', 'conjugate_partner': 'nan', 'solution': '50/50 Ethanol/H2O', 'peptide_concentration(mg/ml)': '0.5', 'PH': '7.0', 'temperature(celsius)': '25.0', 'heating_cooling': 'No', 'incubation_period(min)': '60.0'}\n",
      "{'peptide_sequence': 'FF', 'self-assembly_phase': 'nanosphere', 'N-terminal_modification': 'Boc', 'C-terminal_modification': 'Free', 'Non-terminal_modification': 'nan', 'peptide_conjugate_mixture': 'Peptide', 'conjugate_partner': 'nan', 'solution': '50/50 Ethanol/H2O', 'peptide_concentration(mg/ml)': '1.0', 'PH': '7.0', 'temperature(celsius)': '25.0', 'heating_cooling': 'No', 'incubation_period(min)': '60.0'}\n",
      "{'peptide_sequence': 'FF', 'self-assembly_phase': 'nanosphere', 'N-terminal_modification': 'Boc', 'C-terminal_modification': 'Free', 'Non-terminal_modification': 'nan', 'peptide_conjugate_mixture': 'Peptide', 'conjugate_partner': 'nan', 'solution': '50/50 Ethanol/H2O', 'peptide_concentration(mg/ml)': '2.0', 'PH': '7.0', 'temperature(celsius)': '25.0', 'heating_cooling': 'No', 'incubation_period(min)': '60.0'}\n",
      "{'peptide_sequence': 'FF', 'self-assembly_phase': 'nanosphere', 'N-terminal_modification': 'Boc', 'C-terminal_modification': 'Free', 'Non-terminal_modification': 'nan', 'peptide_conjugate_mixture': 'Peptide', 'conjugate_partner': 'nan', 'solution': '50/50 Ethanol/H2O', 'peptide_concentration(mg/ml)': '4.0', 'PH': '7.0', 'temperature(celsius)': '25.0', 'heating_cooling': 'No', 'incubation_period(min)': '60.0'}\n",
      "{'peptide_sequence': 'FF', 'self-assembly_phase': 'tube', 'N-terminal_modification': 'Boc', 'C-terminal_modification': 'Free', 'Non-terminal_modification': 'nan', 'peptide_conjugate_mixture': 'Peptide', 'conjugate_partner': 'nan', 'solution': '50/50 Ethanol/H2O', 'peptide_concentration(mg/ml)': '6.0', 'PH': '7.0', 'temperature(celsius)': '25.0', 'heating_cooling': 'No', 'incubation_period(min)': '60.0'}\n",
      "{'peptide_sequence': 'FF', 'self-assembly_phase': 'tube', 'N-terminal_modification': 'Boc', 'C-terminal_modification': 'Free', 'Non-terminal_modification': 'nan', 'peptide_conjugate_mixture': 'Peptide', 'conjugate_partner': 'nan', 'solution': '50/50 Ethanol/H2O', 'peptide_concentration(mg/ml)': '8.0', 'PH': '7.0', 'temperature(celsius)': '25.0', 'heating_cooling': 'No', 'incubation_period(min)': '60.0'}\n",
      "{'peptide_sequence': 'FF', 'self-assembly_phase': 'tube', 'N-terminal_modification': 'Boc', 'C-terminal_modification': 'Free', 'Non-terminal_modification': 'nan', 'peptide_conjugate_mixture': 'Peptide', 'conjugate_partner': 'nan', 'solution': '50/50 Ethanol/H2O', 'peptide_concentration(mg/ml)': '10.0', 'PH': '7.0', 'temperature(celsius)': '25.0', 'heating_cooling': 'No', 'incubation_period(min)': '60.0'}\n",
      "{'peptide_sequence': 'FF', 'self-assembly_phase': 'none', 'N-terminal_modification': 'Boc', 'C-terminal_modification': 'Free', 'Non-terminal_modification': 'nan', 'peptide_conjugate_mixture': 'Peptide', 'conjugate_partner': 'nan', 'solution': '60/40 Ethanol/H2O', 'peptide_concentration(mg/ml)': '0.2', 'PH': '7.0', 'temperature(celsius)': '25.0', 'heating_cooling': 'No', 'incubation_period(min)': '60.0'}\n",
      "{'peptide_sequence': 'FF', 'self-assembly_phase': 'none', 'N-terminal_modification': 'Boc', 'C-terminal_modification': 'Free', 'Non-terminal_modification': 'nan', 'peptide_conjugate_mixture': 'Peptide', 'conjugate_partner': 'nan', 'solution': '60/40 Ethanol/H2O', 'peptide_concentration(mg/ml)': '0.5', 'PH': '7.0', 'temperature(celsius)': '25.0', 'heating_cooling': 'No', 'incubation_period(min)': '60.0'}\n",
      "{'peptide_sequence': 'FF', 'self-assembly_phase': 'none', 'N-terminal_modification': 'Boc', 'C-terminal_modification': 'Free', 'Non-terminal_modification': 'nan', 'peptide_conjugate_mixture': 'Peptide', 'conjugate_partner': 'nan', 'solution': '60/40 Ethanol/H2O', 'peptide_concentration(mg/ml)': '1.0', 'PH': '7.0', 'temperature(celsius)': '25.0', 'heating_cooling': 'No', 'incubation_period(min)': '60.0'}\n",
      "{'peptide_sequence': 'FF', 'self-assembly_phase': 'none', 'N-terminal_modification': 'Boc', 'C-terminal_modification': 'Free', 'Non-terminal_modification': 'nan', 'peptide_conjugate_mixture': 'Peptide', 'conjugate_partner': 'nan', 'solution': '60/40 Ethanol/H2O', 'peptide_concentration(mg/ml)': '2.0', 'PH': '7.0', 'temperature(celsius)': '25.0', 'heating_cooling': 'No', 'incubation_period(min)': '60.0'}\n",
      "{'peptide_sequence': 'FF', 'self-assembly_phase': 'none', 'N-terminal_modification': 'Boc', 'C-terminal_modification': 'Free', 'Non-terminal_modification': 'nan', 'peptide_conjugate_mixture': 'Peptide', 'conjugate_partner': 'nan', 'solution': '60/40 Ethanol/H2O', 'peptide_concentration(mg/ml)': '4.0', 'PH': '7.0', 'temperature(celsius)': '25.0', 'heating_cooling': 'No', 'incubation_period(min)': '60.0'}\n",
      "{'peptide_sequence': 'FF', 'self-assembly_phase': 'nanosphere', 'N-terminal_modification': 'Boc', 'C-terminal_modification': 'Free', 'Non-terminal_modification': 'nan', 'peptide_conjugate_mixture': 'Peptide', 'conjugate_partner': 'nan', 'solution': '60/40 Ethanol/H2O', 'peptide_concentration(mg/ml)': '6.0', 'PH': '7.0', 'temperature(celsius)': '25.0', 'heating_cooling': 'No', 'incubation_period(min)': '60.0'}\n",
      "{'peptide_sequence': 'FF', 'self-assembly_phase': 'nanosphere', 'N-terminal_modification': 'Boc', 'C-terminal_modification': 'Free', 'Non-terminal_modification': 'nan', 'peptide_conjugate_mixture': 'Peptide', 'conjugate_partner': 'nan', 'solution': '60/40 Ethanol/H2O', 'peptide_concentration(mg/ml)': '8.0', 'PH': '7.0', 'temperature(celsius)': '25.0', 'heating_cooling': 'No', 'incubation_period(min)': '60.0'}\n",
      "{'peptide_sequence': 'FF', 'self-assembly_phase': 'nanosphere', 'N-terminal_modification': 'Boc', 'C-terminal_modification': 'Free', 'Non-terminal_modification': 'nan', 'peptide_conjugate_mixture': 'Peptide', 'conjugate_partner': 'nan', 'solution': '60/40 Ethanol/H2O', 'peptide_concentration(mg/ml)': '10.0', 'PH': '7.0', 'temperature(celsius)': '25.0', 'heating_cooling': 'No', 'incubation_period(min)': '60.0'}\n",
      "{'peptide_sequence': 'FF', 'self-assembly_phase': 'none', 'N-terminal_modification': 'Boc', 'C-terminal_modification': 'Free', 'Non-terminal_modification': 'nan', 'peptide_conjugate_mixture': 'Peptide', 'conjugate_partner': 'nan', 'solution': '70/30 Ethanol/H2O', 'peptide_concentration(mg/ml)': '0.2', 'PH': '7.0', 'temperature(celsius)': '25.0', 'heating_cooling': 'No', 'incubation_period(min)': '60.0'}\n",
      "{'peptide_sequence': 'FF', 'self-assembly_phase': 'none', 'N-terminal_modification': 'Boc', 'C-terminal_modification': 'Free', 'Non-terminal_modification': 'nan', 'peptide_conjugate_mixture': 'Peptide', 'conjugate_partner': 'nan', 'solution': '70/30 Ethanol/H2O', 'peptide_concentration(mg/ml)': '0.5', 'PH': '7.0', 'temperature(celsius)': '25.0', 'heating_cooling': 'No', 'incubation_period(min)': '60.0'}\n",
      "{'peptide_sequence': 'FF', 'self-assembly_phase': 'none', 'N-terminal_modification': 'Boc', 'C-terminal_modification': 'Free', 'Non-terminal_modification': 'nan', 'peptide_conjugate_mixture': 'Peptide', 'conjugate_partner': 'nan', 'solution': '70/30 Ethanol/H2O', 'peptide_concentration(mg/ml)': '1.0', 'PH': '7.0', 'temperature(celsius)': '25.0', 'heating_cooling': 'No', 'incubation_period(min)': '60.0'}\n",
      "{'peptide_sequence': 'FF', 'self-assembly_phase': 'none', 'N-terminal_modification': 'Boc', 'C-terminal_modification': 'Free', 'Non-terminal_modification': 'nan', 'peptide_conjugate_mixture': 'Peptide', 'conjugate_partner': 'nan', 'solution': '70/30 Ethanol/H2O', 'peptide_concentration(mg/ml)': '2.0', 'PH': '7.0', 'temperature(celsius)': '25.0', 'heating_cooling': 'No', 'incubation_period(min)': '60.0'}\n",
      "{'peptide_sequence': 'FF', 'self-assembly_phase': 'none', 'N-terminal_modification': 'Boc', 'C-terminal_modification': 'Free', 'Non-terminal_modification': 'nan', 'peptide_conjugate_mixture': 'Peptide', 'conjugate_partner': 'nan', 'solution': '70/30 Ethanol/H2O', 'peptide_concentration(mg/ml)': '4.0', 'PH': '7.0', 'temperature(celsius)': '25.0', 'heating_cooling': 'No', 'incubation_period(min)': '60.0'}\n",
      "{'peptide_sequence': 'FF', 'self-assembly_phase': 'none', 'N-terminal_modification': 'Boc', 'C-terminal_modification': 'Free', 'Non-terminal_modification': 'nan', 'peptide_conjugate_mixture': 'Peptide', 'conjugate_partner': 'nan', 'solution': '70/30 Ethanol/H2O', 'peptide_concentration(mg/ml)': '6.0', 'PH': '7.0', 'temperature(celsius)': '25.0', 'heating_cooling': 'No', 'incubation_period(min)': '60.0'}\n",
      "{'peptide_sequence': 'FF', 'self-assembly_phase': 'none', 'N-terminal_modification': 'Boc', 'C-terminal_modification': 'Free', 'Non-terminal_modification': 'nan', 'peptide_conjugate_mixture': 'Peptide', 'conjugate_partner': 'nan', 'solution': '70/30 Ethanol/H2O', 'peptide_concentration(mg/ml)': '8.0', 'PH': '7.0', 'temperature(celsius)': '25.0', 'heating_cooling': 'No', 'incubation_period(min)': '60.0'}\n",
      "{'peptide_sequence': 'FF', 'self-assembly_phase': 'none', 'N-terminal_modification': 'Boc', 'C-terminal_modification': 'Free', 'Non-terminal_modification': 'nan', 'peptide_conjugate_mixture': 'Peptide', 'conjugate_partner': 'nan', 'solution': '70/30 Ethanol/H2O', 'peptide_concentration(mg/ml)': '10.0', 'PH': '7.0', 'temperature(celsius)': '25.0', 'heating_cooling': 'No', 'incubation_period(min)': '60.0'}\n",
      "{'peptide_sequence': 'FF', 'self-assembly_phase': 'none', 'N-terminal_modification': 'Boc', 'C-terminal_modification': 'Free', 'Non-terminal_modification': 'nan', 'peptide_conjugate_mixture': 'Peptide', 'conjugate_partner': 'nan', 'solution': '80/20 Ethanol/H2O', 'peptide_concentration(mg/ml)': '0.2', 'PH': '7.0', 'temperature(celsius)': '25.0', 'heating_cooling': 'No', 'incubation_period(min)': '60.0'}\n",
      "{'peptide_sequence': 'FF', 'self-assembly_phase': 'none', 'N-terminal_modification': 'Boc', 'C-terminal_modification': 'Free', 'Non-terminal_modification': 'nan', 'peptide_conjugate_mixture': 'Peptide', 'conjugate_partner': 'nan', 'solution': '80/20 Ethanol/H2O', 'peptide_concentration(mg/ml)': '0.5', 'PH': '7.0', 'temperature(celsius)': '25.0', 'heating_cooling': 'No', 'incubation_period(min)': '60.0'}\n",
      "{'peptide_sequence': 'FF', 'self-assembly_phase': 'none', 'N-terminal_modification': 'Boc', 'C-terminal_modification': 'Free', 'Non-terminal_modification': 'nan', 'peptide_conjugate_mixture': 'Peptide', 'conjugate_partner': 'nan', 'solution': '80/20 Ethanol/H2O', 'peptide_concentration(mg/ml)': '1.0', 'PH': '7.0', 'temperature(celsius)': '25.0', 'heating_cooling': 'No', 'incubation_period(min)': '60.0'}\n",
      "{'peptide_sequence': 'FF', 'self-assembly_phase': 'none', 'N-terminal_modification': 'Boc', 'C-terminal_modification': 'Free', 'Non-terminal_modification': 'nan', 'peptide_conjugate_mixture': 'Peptide', 'conjugate_partner': 'nan', 'solution': '80/20 Ethanol/H2O', 'peptide_concentration(mg/ml)': '2.0', 'PH': '7.0', 'temperature(celsius)': '25.0', 'heating_cooling': 'No', 'incubation_period(min)': '60.0'}\n",
      "{'peptide_sequence': 'FF', 'self-assembly_phase': 'none', 'N-terminal_modification': 'Boc', 'C-terminal_modification': 'Free', 'Non-terminal_modification': 'nan', 'peptide_conjugate_mixture': 'Peptide', 'conjugate_partner': 'nan', 'solution': '80/20 Ethanol/H2O', 'peptide_concentration(mg/ml)': '4.0', 'PH': '7.0', 'temperature(celsius)': '25.0', 'heating_cooling': 'No', 'incubation_period(min)': '60.0'}\n",
      "{'peptide_sequence': 'FF', 'self-assembly_phase': 'none', 'N-terminal_modification': 'Boc', 'C-terminal_modification': 'Free', 'Non-terminal_modification': 'nan', 'peptide_conjugate_mixture': 'Peptide', 'conjugate_partner': 'nan', 'solution': '80/20 Ethanol/H2O', 'peptide_concentration(mg/ml)': '6.0', 'PH': '7.0', 'temperature(celsius)': '25.0', 'heating_cooling': 'No', 'incubation_period(min)': '60.0'}\n",
      "{'peptide_sequence': 'FF', 'self-assembly_phase': 'none', 'N-terminal_modification': 'Boc', 'C-terminal_modification': 'Free', 'Non-terminal_modification': 'nan', 'peptide_conjugate_mixture': 'Peptide', 'conjugate_partner': 'nan', 'solution': '80/20 Ethanol/H2O', 'peptide_concentration(mg/ml)': '8.0', 'PH': '7.0', 'temperature(celsius)': '25.0', 'heating_cooling': 'No', 'incubation_period(min)': '60.0'}\n",
      "{'peptide_sequence': 'FF', 'self-assembly_phase': 'none', 'N-terminal_modification': 'Boc', 'C-terminal_modification': 'Free', 'Non-terminal_modification': 'nan', 'peptide_conjugate_mixture': 'Peptide', 'conjugate_partner': 'nan', 'solution': '80/20 Ethanol/H2O', 'peptide_concentration(mg/ml)': '10.0', 'PH': '7.0', 'temperature(celsius)': '25.0', 'heating_cooling': 'No', 'incubation_period(min)': '60.0'}\n",
      "{'peptide_sequence': 'FF', 'self-assembly_phase': 'none', 'N-terminal_modification': 'Boc', 'C-terminal_modification': 'Free', 'Non-terminal_modification': 'nan', 'peptide_conjugate_mixture': 'Peptide', 'conjugate_partner': 'nan', 'solution': '90/10 Ethanol/H2O', 'peptide_concentration(mg/ml)': '0.2', 'PH': '7.0', 'temperature(celsius)': '25.0', 'heating_cooling': 'No', 'incubation_period(min)': '60.0'}\n",
      "{'peptide_sequence': 'FF', 'self-assembly_phase': 'none', 'N-terminal_modification': 'Boc', 'C-terminal_modification': 'Free', 'Non-terminal_modification': 'nan', 'peptide_conjugate_mixture': 'Peptide', 'conjugate_partner': 'nan', 'solution': '90/10 Ethanol/H2O', 'peptide_concentration(mg/ml)': '0.5', 'PH': '7.0', 'temperature(celsius)': '25.0', 'heating_cooling': 'No', 'incubation_period(min)': '60.0'}\n",
      "{'peptide_sequence': 'FF', 'self-assembly_phase': 'none', 'N-terminal_modification': 'Boc', 'C-terminal_modification': 'Free', 'Non-terminal_modification': 'nan', 'peptide_conjugate_mixture': 'Peptide', 'conjugate_partner': 'nan', 'solution': '90/10 Ethanol/H2O', 'peptide_concentration(mg/ml)': '1.0', 'PH': '7.0', 'temperature(celsius)': '25.0', 'heating_cooling': 'No', 'incubation_period(min)': '60.0'}\n",
      "{'peptide_sequence': 'FF', 'self-assembly_phase': 'none', 'N-terminal_modification': 'Boc', 'C-terminal_modification': 'Free', 'Non-terminal_modification': 'nan', 'peptide_conjugate_mixture': 'Peptide', 'conjugate_partner': 'nan', 'solution': '90/10 Ethanol/H2O', 'peptide_concentration(mg/ml)': '2.0', 'PH': '7.0', 'temperature(celsius)': '25.0', 'heating_cooling': 'No', 'incubation_period(min)': '60.0'}\n",
      "{'peptide_sequence': 'FF', 'self-assembly_phase': 'none', 'N-terminal_modification': 'Boc', 'C-terminal_modification': 'Free', 'Non-terminal_modification': 'nan', 'peptide_conjugate_mixture': 'Peptide', 'conjugate_partner': 'nan', 'solution': '90/10 Ethanol/H2O', 'peptide_concentration(mg/ml)': '4.0', 'PH': '7.0', 'temperature(celsius)': '25.0', 'heating_cooling': 'No', 'incubation_period(min)': '60.0'}\n",
      "{'peptide_sequence': 'FF', 'self-assembly_phase': 'none', 'N-terminal_modification': 'Boc', 'C-terminal_modification': 'Free', 'Non-terminal_modification': 'nan', 'peptide_conjugate_mixture': 'Peptide', 'conjugate_partner': 'nan', 'solution': '90/10 Ethanol/H2O', 'peptide_concentration(mg/ml)': '6.0', 'PH': '7.0', 'temperature(celsius)': '25.0', 'heating_cooling': 'No', 'incubation_period(min)': '60.0'}\n",
      "{'peptide_sequence': 'FF', 'self-assembly_phase': 'none', 'N-terminal_modification': 'Boc', 'C-terminal_modification': 'Free', 'Non-terminal_modification': 'nan', 'peptide_conjugate_mixture': 'Peptide', 'conjugate_partner': 'nan', 'solution': '90/10 Ethanol/H2O', 'peptide_concentration(mg/ml)': '8.0', 'PH': '7.0', 'temperature(celsius)': '25.0', 'heating_cooling': 'No', 'incubation_period(min)': '60.0'}\n",
      "{'peptide_sequence': 'FF', 'self-assembly_phase': 'none', 'N-terminal_modification': 'Boc', 'C-terminal_modification': 'Free', 'Non-terminal_modification': 'nan', 'peptide_conjugate_mixture': 'Peptide', 'conjugate_partner': 'nan', 'solution': '90/10 Ethanol/H2O', 'peptide_concentration(mg/ml)': '10.0', 'PH': '7.0', 'temperature(celsius)': '25.0', 'heating_cooling': 'No', 'incubation_period(min)': '60.0'}\n",
      "{'peptide_sequence': 'FF', 'self-assembly_phase': 'none', 'N-terminal_modification': 'Boc', 'C-terminal_modification': 'Free', 'Non-terminal_modification': 'nan', 'peptide_conjugate_mixture': 'Peptide', 'conjugate_partner': 'nan', 'solution': '100 Ethanol', 'peptide_concentration(mg/ml)': '0.2', 'PH': '7.0', 'temperature(celsius)': '25.0', 'heating_cooling': 'No', 'incubation_period(min)': '60.0'}\n",
      "{'peptide_sequence': 'FF', 'self-assembly_phase': 'none', 'N-terminal_modification': 'Boc', 'C-terminal_modification': 'Free', 'Non-terminal_modification': 'nan', 'peptide_conjugate_mixture': 'Peptide', 'conjugate_partner': 'nan', 'solution': '100 Ethanol', 'peptide_concentration(mg/ml)': '0.5', 'PH': '7.0', 'temperature(celsius)': '25.0', 'heating_cooling': 'No', 'incubation_period(min)': '60.0'}\n",
      "{'peptide_sequence': 'FF', 'self-assembly_phase': 'none', 'N-terminal_modification': 'Boc', 'C-terminal_modification': 'Free', 'Non-terminal_modification': 'nan', 'peptide_conjugate_mixture': 'Peptide', 'conjugate_partner': 'nan', 'solution': '100 Ethanol', 'peptide_concentration(mg/ml)': '1.0', 'PH': '7.0', 'temperature(celsius)': '25.0', 'heating_cooling': 'No', 'incubation_period(min)': '60.0'}\n",
      "{'peptide_sequence': 'FF', 'self-assembly_phase': 'none', 'N-terminal_modification': 'Boc', 'C-terminal_modification': 'Free', 'Non-terminal_modification': 'nan', 'peptide_conjugate_mixture': 'Peptide', 'conjugate_partner': 'nan', 'solution': '100 Ethanol', 'peptide_concentration(mg/ml)': '2.0', 'PH': '7.0', 'temperature(celsius)': '25.0', 'heating_cooling': 'No', 'incubation_period(min)': '60.0'}\n",
      "{'peptide_sequence': 'FF', 'self-assembly_phase': 'none', 'N-terminal_modification': 'Boc', 'C-terminal_modification': 'Free', 'Non-terminal_modification': 'nan', 'peptide_conjugate_mixture': 'Peptide', 'conjugate_partner': 'nan', 'solution': '100 Ethanol', 'peptide_concentration(mg/ml)': '4.0', 'PH': '7.0', 'temperature(celsius)': '25.0', 'heating_cooling': 'No', 'incubation_period(min)': '60.0'}\n",
      "{'peptide_sequence': 'FF', 'self-assembly_phase': 'none', 'N-terminal_modification': 'Boc', 'C-terminal_modification': 'Free', 'Non-terminal_modification': 'nan', 'peptide_conjugate_mixture': 'Peptide', 'conjugate_partner': 'nan', 'solution': '100 Ethanol', 'peptide_concentration(mg/ml)': '6.0', 'PH': '7.0', 'temperature(celsius)': '25.0', 'heating_cooling': 'No', 'incubation_period(min)': '60.0'}\n",
      "{'peptide_sequence': 'FF', 'self-assembly_phase': 'none', 'N-terminal_modification': 'Boc', 'C-terminal_modification': 'Free', 'Non-terminal_modification': 'nan', 'peptide_conjugate_mixture': 'Peptide', 'conjugate_partner': 'nan', 'solution': '100 Ethanol', 'peptide_concentration(mg/ml)': '8.0', 'PH': '7.0', 'temperature(celsius)': '25.0', 'heating_cooling': 'No', 'incubation_period(min)': '60.0'}\n",
      "{'peptide_sequence': 'FF', 'self-assembly_phase': 'none', 'N-terminal_modification': 'Boc', 'C-terminal_modification': 'Free', 'Non-terminal_modification': 'nan', 'peptide_conjugate_mixture': 'Peptide', 'conjugate_partner': 'nan', 'solution': '100 Ethanol', 'peptide_concentration(mg/ml)': '10.0', 'PH': '7.0', 'temperature(celsius)': '25.0', 'heating_cooling': 'No', 'incubation_period(min)': '60.0'}\n"
     ]
    }
   ],
   "source": [
    "\n",
    "for c in json.loads(completion.choices[0].message.content):\n",
    "    print(c)\n",
    "    \n",
    "print(\"#######################\")\n",
    "print(\"#######################\") \n",
    "\n",
    "# print(json.loads(testset[3]['messages'][2]['content']))\n",
    "for t in json.loads(testset[5]['messages'][2]['content']):\n",
    "   print(t)"
   ]
  },
  {
   "cell_type": "markdown",
   "id": "39e87e7f",
   "metadata": {},
   "source": [
    "# Testing examples 7"
   ]
  },
  {
   "cell_type": "code",
   "execution_count": 51,
   "id": "346cae18",
   "metadata": {},
   "outputs": [],
   "source": [
    "\n",
    "completion = client.chat.completions.create(\n",
    "  model=\"ft:gpt-3.5-turbo-0125:personal::95ba6w1r\",\n",
    "  messages=testset[6]['messages'][:2]\n",
    ")"
   ]
  },
  {
   "cell_type": "code",
   "execution_count": 54,
   "id": "82d2613b",
   "metadata": {},
   "outputs": [
    {
     "name": "stdout",
     "output_type": "stream",
     "text": [
      "{'peptide_sequence': 'FF', 'self-assembly_phase': 'fiber', 'N-terminal_modification': 'Free', 'C-terminal_modification': 'Free', 'Non-terminal_modification': 'nan', 'peptide_conjugate_mixture': 'Peptide', 'conjugate_partner': 'nan', 'solution': '100 H2O', 'peptide_concentration(mg/ml)': '5.0', 'PH': '7.0', 'temperature(celsius)': '25.0', 'heating_cooling': 'No', 'incubation_period(min)': '30.0'}\n",
      "{'peptide_sequence': 'FF', 'self-assembly_phase': 'fiber', 'N-terminal_modification': 'Free', 'C-terminal_modification': 'Free', 'Non-terminal_modification': 'nan', 'peptide_conjugate_mixture': 'Peptide', 'conjugate_partner': 'nan', 'solution': '100 H2O', 'peptide_concentration(mg/ml)': '1.0', 'PH': '7.0', 'temperature(celsius)': '25.0', 'heating_cooling': 'No', 'incubation_period(min)': '30.0'}\n",
      "{'peptide_sequence': 'FF', 'self-assembly_phase': 'none', 'N-terminal_modification': 'Free', 'C-terminal_modification': 'Free', 'Non-terminal_modification': 'nan', 'peptide_conjugate_mixture': 'Peptide', 'conjugate_partner': 'nan', 'solution': '100 H2O', 'peptide_concentration(mg/ml)': '0.5', 'PH': '7.0', 'temperature(celsius)': '25.0', 'heating_cooling': 'No', 'incubation_period(min)': '30.0'}\n",
      "{'peptide_sequence': 'FF', 'self-assembly_phase': 'fiber', 'N-terminal_modification': 'Free', 'C-terminal_modification': 'Free', 'Non-terminal_modification': 'nan', 'peptide_conjugate_mixture': 'Peptide', 'conjugate_partner': 'nan', 'solution': '100 H2O', 'peptide_concentration(mg/ml)': '5.0', 'PH': '7.0', 'temperature(celsius)': '25.0', 'heating_cooling': 'No', 'incubation_period(min)': '10.0'}\n",
      "{'peptide_sequence': 'FF', 'self-assembly_phase': 'sphere', 'N-terminal_modification': 'Free', 'C-terminal_modification': 'Free', 'Non-terminal_modification': 'nan', 'peptide_conjugate_mixture': 'Peptide', 'conjugate_partner': 'nan', 'solution': '100 H2O', 'peptide_concentration(mg/ml)': '5.0', 'PH': '7.0', 'temperature(celsius)': '25.0', 'heating_cooling': 'No', 'incubation_period(min)': '80.0'}\n",
      "{'peptide_sequence': 'FF', 'self-assembly_phase': 'fiber', 'N-terminal_modification': 'Free', 'C-terminal_modification': 'Free', 'Non-terminal_modification': 'nan', 'peptide_conjugate_mixture': 'Peptide', 'conjugate_partner': 'nan', 'solution': '100 H2O', 'peptide_concentration(mg/ml)': '5.0', 'PH': '7.0', 'temperature(celsius)': '25.0', 'heating_cooling': 'No', 'incubation_period(min)': '150.0'}\n",
      "#######################\n",
      "#######################\n",
      "{'peptide_sequence': 'FF', 'self-assembly_phase': 'fiber', 'N-terminal_modification': 'Free', 'C-terminal_modification': 'Free', 'Non-terminal_modification': 'nan', 'peptide_conjugate_mixture': 'Peptide', 'conjugate_partner': 'nan', 'solution': '50/50 Toluene/H2O', 'peptide_concentration(mg/ml)': '5.0', 'PH': '7.0', 'temperature(celsius)': '50.0', 'heating_cooling': 'No', 'incubation_period(min)': '150.0'}\n"
     ]
    }
   ],
   "source": [
    "\n",
    "for c in json.loads(completion.choices[0].message.content):\n",
    "    print(c)\n",
    "    \n",
    "print(\"#######################\")\n",
    "print(\"#######################\") \n",
    "\n",
    "print(json.loads(testset[6]['messages'][2]['content']))\n",
    "#for t in json.loads(testset[6]['messages'][2]['content']):\n",
    "#   print(t)"
   ]
  },
  {
   "cell_type": "markdown",
   "id": "699bb7ae",
   "metadata": {},
   "source": [
    "# Testing examples 8"
   ]
  },
  {
   "cell_type": "code",
   "execution_count": 55,
   "id": "758b3cfe",
   "metadata": {},
   "outputs": [],
   "source": [
    "\n",
    "completion = client.chat.completions.create(\n",
    "  model=\"ft:gpt-3.5-turbo-0125:personal::95ba6w1r\",\n",
    "  messages=testset[7]['messages'][:2]\n",
    ")"
   ]
  },
  {
   "cell_type": "code",
   "execution_count": 58,
   "id": "bfd0a3cc",
   "metadata": {},
   "outputs": [
    {
     "name": "stdout",
     "output_type": "stream",
     "text": [
      "{'peptide_sequence': 'FF', 'self-assembly_phase': 'hydrogel', 'N-terminal_modification': 'Free', 'C-terminal_modification': 'Free', 'Non-terminal_modification': 'nan', 'peptide_conjugate_mixture': 'Peptide', 'conjugate_partner': 'nan', 'solution': '100 H2O', 'peptide_concentration(mg/ml)': '5.0', 'PH': '8.0', 'temperature(celsius)': '25.0', 'heating_cooling': 'No', 'incubation_period(min)': '2160.0'}\n",
      "#######################\n",
      "#######################\n",
      "{'peptide_sequence': 'AA ', 'self-assembly_phase': 'hydrogel', 'N-terminal_modification': 'Napthalene', 'C-terminal_modification': 'Free', 'Non-terminal_modification': 'nan', 'peptide_conjugate_mixture': 'Conjugate', 'conjugate_partner': 'Napthalene', 'solution': '100 H2O', 'peptide_concentration(mg/ml)': '5.0', 'PH': '3.4', 'temperature(celsius)': '25.0', 'heating_cooling': 'No', 'incubation_period(min)': '1440.0'}\n",
      "{'peptide_sequence': 'AA', 'self-assembly_phase': 'hydrogel', 'N-terminal_modification': 'Napthalene', 'C-terminal_modification': 'Free', 'Non-terminal_modification': 'nan', 'peptide_conjugate_mixture': 'Conjugate', 'conjugate_partner': 'Napthalene', 'solution': '100 H2O', 'peptide_concentration(mg/ml)': '5.0', 'PH': '3.2', 'temperature(celsius)': '25.0', 'heating_cooling': 'No', 'incubation_period(min)': '1440.0'}\n",
      "{'peptide_sequence': 'AA', 'self-assembly_phase': 'hydrogel', 'N-terminal_modification': 'Napthalene', 'C-terminal_modification': 'Free', 'Non-terminal_modification': 'nan', 'peptide_conjugate_mixture': 'Conjugate', 'conjugate_partner': 'Napthalene', 'solution': '100 H2O', 'peptide_concentration(mg/ml)': '5.0', 'PH': '3.6', 'temperature(celsius)': '25.0', 'heating_cooling': 'No', 'incubation_period(min)': '1440.0'}\n"
     ]
    }
   ],
   "source": [
    "print(json.loads(completion.choices[0].message.content))\n",
    "\n",
    "    \n",
    "print(\"#######################\")\n",
    "print(\"#######################\") \n",
    "\n",
    "# print(json.loads(testset[7]['messages'][2]['content']))\n",
    "for t in json.loads(testset[7]['messages'][2]['content']):\n",
    "  print(t)"
   ]
  },
  {
   "cell_type": "markdown",
   "id": "b12c7b7f",
   "metadata": {},
   "source": [
    "# Testing examples 9"
   ]
  },
  {
   "cell_type": "code",
   "execution_count": 59,
   "id": "d5aaeb3b",
   "metadata": {},
   "outputs": [],
   "source": [
    "\n",
    "completion = client.chat.completions.create(\n",
    "  model=\"ft:gpt-3.5-turbo-0125:personal::95ba6w1r\",\n",
    "  messages=testset[8]['messages'][:2]\n",
    ")"
   ]
  },
  {
   "cell_type": "code",
   "execution_count": 60,
   "id": "81abde1f",
   "metadata": {},
   "outputs": [
    {
     "name": "stdout",
     "output_type": "stream",
     "text": [
      "{'peptide_sequence': 'FE', 'self-assembly_phase': 'vesicle', 'N-terminal_modification': 'Free', 'C-terminal_modification': 'Free', 'Non-terminal_modification': 'nan', 'peptide_conjugate_mixture': 'Peptide', 'conjugate_partner': 'nan', 'solution': '100 H2O', 'peptide_concentration(mg/ml)': '0.5', 'PH': '2.0', 'temperature(celsius)': '25.0', 'heating_cooling': 'No', 'incubation_period(min)': '1440.0'}\n",
      "{'peptide_sequence': 'FE', 'self-assembly_phase': 'vesicle', 'N-terminal_modification': 'Free', 'C-terminal_modification': 'Free', 'Non-terminal_modification': 'nan', 'peptide_conjugate_mixture': 'Peptide', 'conjugate_partner': 'nan', 'solution': '100 H2O', 'peptide_concentration(mg/ml)': '0.5', 'PH': '3.0', 'temperature(celsius)': '25.0', 'heating_cooling': 'No', 'incubation_period(min)': '1440.0'}\n",
      "{'peptide_sequence': 'FE', 'self-assembly_phase': 'vesicle', 'N-terminal_modification': 'Free', 'C-terminal_modification': 'Free', 'Non-terminal_modification': 'nan', 'peptide_conjugate_mixture': 'Peptide', 'conjugate_partner': 'nan', 'solution': '100 H2O', 'peptide_concentration(mg/ml)': '0.5', 'PH': '4.0', 'temperature(celsius)': '25.0', 'heating_cooling': 'No', 'incubation_period(min)': '1440.0'}\n",
      "{'peptide_sequence': 'FE', 'self-assembly_phase': 'vesicle', 'N-terminal_modification': 'Free', 'C-terminal_modification': 'Free', 'Non-terminal_modification': 'nan', 'peptide_conjugate_mixture': 'Peptide', 'conjugate_partner': 'nan', 'solution': '100 H2O', 'peptide_concentration(mg/ml)': '0.5', 'PH': '5.0', 'temperature(celsius)': '25.0', 'heating_cooling': 'No', 'incubation_period(min)': '1440.0'}\n",
      "{'peptide_sequence': 'FE', 'self-assembly_phase': 'vesicle', 'N-terminal_modification': 'Free', 'C-terminal_modification': 'Free', 'Non-terminal_modification': 'nan', 'peptide_conjugate_mixture': 'Peptide', 'conjugate_partner': 'nan', 'solution': '100 H2O', 'peptide_concentration(mg/ml)': '0.5', 'PH': '6.0', 'temperature(celsius)': '25.0', 'heating_cooling': 'No', 'incubation_period(min)': '1440.0'}\n",
      "{'peptide_sequence': 'FE', 'self-assembly_phase': 'vesicle', 'N-terminal_modification': 'Free', 'C-terminal_modification': 'Free', 'Non-terminal_modification': 'nan', 'peptide_conjugate_mixture': 'Peptide', 'conjugate_partner': 'nan', 'solution': '100 H2O', 'peptide_concentration(mg/ml)': '0.5', 'PH': '7.0', 'temperature(celsius)': '25.0', 'heating_cooling': 'No', 'incubation_period(min)': '1440.0'}\n",
      "{'peptide_sequence': 'FE', 'self-assembly_phase': 'vesicle', 'N-terminal_modification': 'Free', 'C-terminal_modification': 'Free', 'Non-terminal_modification': 'nan', 'peptide_conjugate_mixture': 'Peptide', 'conjugate_partner': 'nan', 'solution': '100 H2O', 'peptide_concentration(mg/ml)': '0.5', 'PH': '8.0', 'temperature(celsius)': '25.0', 'heating_cooling': 'No', 'incubation_period(min)': '1440.0'}\n",
      "{'peptide_sequence': 'FE', 'self-assembly_phase': 'vesicle', 'N-terminal_modification': 'Free', 'C-terminal_modification': 'Free', 'Non-terminal_modification': 'nan', 'peptide_conjugate_mixture': 'Peptide', 'conjugate_partner': 'nan', 'solution': '100 H2O', 'peptide_concentration(mg/ml)': '0.5', 'PH': '9.0', 'temperature(celsius)': '25.0', 'heating_cooling': 'No', 'incubation_period(min)': '1440.0'}\n",
      "{'peptide_sequence': 'FE', 'self-assembly_phase': 'vesicle', 'N-terminal_modification': 'Free', 'C-terminal_modification': 'Free', 'Non-terminal_modification': 'nan', 'peptide_conjugate_mixture': 'Peptide', 'conjugate_partner': 'nan', 'solution': '100 H2O', 'peptide_concentration(mg/ml)': '0.5', 'PH': '10.0', 'temperature(celsius)': '25.0', 'heating_cooling': 'No', 'incubation_period(min)': '1440.0'}\n",
      "{'peptide_sequence': 'FE', 'self-assembly_phase': 'vesicle', 'N-terminal_modification': 'Free', 'C-terminal_modification': 'Free', 'Non-terminal_modification': 'nan', 'peptide_conjugate_mixture': 'Peptide', 'conjugate_partner': 'nan', 'solution': '100 H2O', 'peptide_concentration(mg/ml)': '0.5', 'PH': '11.0', 'temperature(celsius)': '25.0', 'heating_cooling': 'No', 'incubation_period(min)': '1440.0'}\n",
      "{'peptide_sequence': 'FE', 'self-assembly_phase': 'vesicle', 'N-terminal_modification': 'Free', 'C-terminal_modification': 'Free', 'Non-terminal_modification': 'nan', 'peptide_conjugate_mixture': 'Peptide', 'conjugate_partner': 'nan', 'solution': '100 H2O', 'peptide_concentration(mg/ml)': '0.5', 'PH': '12.0', 'temperature(celsius)': '25.0', 'heating_cooling': 'No', 'incubation_period(min)': '1440.0'}\n",
      "#######################\n",
      "#######################\n",
      "{'peptide_sequence': 'VG', 'self-assembly_phase': 'nanosphere', 'N-terminal_modification': 'Free', 'C-terminal_modification': 'Free', 'Non-terminal_modification': 'nan', 'peptide_conjugate_mixture': 'Peptide', 'conjugate_partner': 'nan', 'solution': '100 H2O', 'peptide_concentration(mg/ml)': '10.45', 'PH': '6.96', 'temperature(celsius)': '37.0', 'heating_cooling': 'No', 'incubation_period(min)': '2160.0'}\n",
      "{'peptide_sequence': 'LG', 'self-assembly_phase': 'nanosphere', 'N-terminal_modification': 'Free', 'C-terminal_modification': 'Free', 'Non-terminal_modification': 'nan', 'peptide_conjugate_mixture': 'Peptide', 'conjugate_partner': 'nan', 'solution': '100 H2O', 'peptide_concentration(mg/ml)': '11.29', 'PH': '6.96', 'temperature(celsius)': '37.0', 'heating_cooling': 'No', 'incubation_period(min)': '2160.0'}\n"
     ]
    }
   ],
   "source": [
    "\n",
    "for c in json.loads(completion.choices[0].message.content):\n",
    "    print(c)\n",
    "\n",
    "    \n",
    "print(\"#######################\")\n",
    "print(\"#######################\") \n",
    "\n",
    "# print(json.loads(testset[8]['messages'][2]['content']))\n",
    "for t in json.loads(testset[8]['messages'][2]['content']):\n",
    "  print(t)"
   ]
  },
  {
   "cell_type": "markdown",
   "id": "2430fe95",
   "metadata": {},
   "source": [
    "# Testing examples 10"
   ]
  },
  {
   "cell_type": "code",
   "execution_count": 61,
   "id": "86f68612",
   "metadata": {},
   "outputs": [],
   "source": [
    "\n",
    "completion = client.chat.completions.create(\n",
    "  model=\"ft:gpt-3.5-turbo-0125:personal::95ba6w1r\",\n",
    "  messages=testset[9]['messages'][:2]\n",
    ")"
   ]
  },
  {
   "cell_type": "code",
   "execution_count": 62,
   "id": "cd4550b1",
   "metadata": {},
   "outputs": [
    {
     "name": "stdout",
     "output_type": "stream",
     "text": [
      "{'peptide_sequence': 'FVD', 'self-assembly_phase': 'hydrogel', 'N-terminal_modification': 'Free', 'C-terminal_modification': 'Free', 'Non-terminal_modification': 'nan', 'peptide_conjugate_mixture': 'Peptide', 'conjugate_partner': 'nan', 'solution': '8', 'peptide_concentration(mg/ml)': '10.0', 'PH': '7.6', 'temperature(celsius)': '25.0', 'heating_cooling': 'No', 'incubation_period(min)': 'nan'}\n",
      "{'peptide_sequence': 'FID', 'self-assembly_phase': 'hydrogel', 'N-terminal_modification': 'Free', 'C-terminal_modification': 'Free', 'Non-terminal_modification': 'nan', 'peptide_conjugate_mixture': 'Peptide', 'conjugate_partner': 'nan', 'solution': '8', 'peptide_concentration(mg/ml)': '10.0', 'PH': '7.6', 'temperature(celsius)': '25.0', 'heating_cooling': 'No', 'incubation_period(min)': 'nan'}\n",
      "{'peptide_sequence': 'FLD', 'self-assembly_phase': 'hydrogel', 'N-terminal_modification': 'Free', 'C-terminal_modification': 'Free', 'Non-terminal_modification': 'nan', 'peptide_conjugate_mixture': 'Peptide', 'conjugate_partner': 'nan', 'solution': '8', 'peptide_concentration(mg/ml)': '10.0', 'PH': '7.6', 'temperature(celsius)': '25.0', 'heating_cooling': 'No', 'incubation_period(min)': 'nan'}\n",
      "#######################\n",
      "#######################\n",
      "{'peptide_sequence': 'FGD', 'self-assembly_phase': 'none', 'N-terminal_modification': 'Free', 'C-terminal_modification': 'Free', 'Non-terminal_modification': 'nan', 'peptide_conjugate_mixture': 'Peptide', 'conjugate_partner': 'nan', 'solution': '100 H2O', 'peptide_concentration(mg/ml)': '6.75', 'PH': '7.0', 'temperature(celsius)': '25.0', 'heating_cooling': 'No', 'incubation_period(min)': '1440.0'}\n",
      "{'peptide_sequence': 'FAD', 'self-assembly_phase': 'none', 'N-terminal_modification': 'Free', 'C-terminal_modification': 'Free', 'Non-terminal_modification': 'nan', 'peptide_conjugate_mixture': 'Peptide', 'conjugate_partner': 'nan', 'solution': '100 H2O', 'peptide_concentration(mg/ml)': '7.03', 'PH': '7.0', 'temperature(celsius)': '25.0', 'heating_cooling': 'No', 'incubation_period(min)': '1440.0'}\n",
      "{'peptide_sequence': 'FVD', 'self-assembly_phase': 'hydrogel', 'N-terminal_modification': 'Free', 'C-terminal_modification': 'Free', 'Non-terminal_modification': 'nan', 'peptide_conjugate_mixture': 'Peptide', 'conjugate_partner': 'nan', 'solution': '100 H2O', 'peptide_concentration(mg/ml)': '7.59', 'PH': '7.0', 'temperature(celsius)': '25.0', 'heating_cooling': 'No', 'incubation_period(min)': '1440.0'}\n",
      "{'peptide_sequence': 'FID', 'self-assembly_phase': 'hydrogel', 'N-terminal_modification': 'Free', 'C-terminal_modification': 'Free', 'Non-terminal_modification': 'nan', 'peptide_conjugate_mixture': 'Peptide', 'conjugate_partner': 'nan', 'solution': '100 H2O', 'peptide_concentration(mg/ml)': '7.87', 'PH': '7.0', 'temperature(celsius)': '25.0', 'heating_cooling': 'No', 'incubation_period(min)': '1440.0'}\n",
      "{'peptide_sequence': 'FLD', 'self-assembly_phase': 'hydrogel', 'N-terminal_modification': 'Free', 'C-terminal_modification': 'Free', 'Non-terminal_modification': 'nan', 'peptide_conjugate_mixture': 'Peptide', 'conjugate_partner': 'nan', 'solution': '100 H2O', 'peptide_concentration(mg/ml)': '7.87', 'PH': '7.0', 'temperature(celsius)': '25.0', 'heating_cooling': 'No', 'incubation_period(min)': '1440.0'}\n",
      "{'peptide_sequence': 'FVD', 'self-assembly_phase': 'hydrogel', 'N-terminal_modification': 'Free', 'C-terminal_modification': 'Free', 'Non-terminal_modification': 'nan', 'peptide_conjugate_mixture': 'Peptide', 'conjugate_partner': 'nan', 'solution': '100 PBS', 'peptide_concentration(mg/ml)': '7.59', 'PH': '7.4', 'temperature(celsius)': '25.0', 'heating_cooling': 'No', 'incubation_period(min)': '1440.0'}\n",
      "{'peptide_sequence': 'FLD', 'self-assembly_phase': 'hydrogel', 'N-terminal_modification': 'Free', 'C-terminal_modification': 'Free', 'Non-terminal_modification': 'nan', 'peptide_conjugate_mixture': 'Peptide', 'conjugate_partner': 'nan', 'solution': '100 PBS', 'peptide_concentration(mg/ml)': '7.87', 'PH': '7.4', 'temperature(celsius)': '25.0', 'heating_cooling': 'No', 'incubation_period(min)': '1440.0'}\n",
      "{'peptide_sequence': 'FID', 'self-assembly_phase': 'hydrogel', 'N-terminal_modification': 'Free', 'C-terminal_modification': 'Free', 'Non-terminal_modification': 'nan', 'peptide_conjugate_mixture': 'Peptide', 'conjugate_partner': 'nan', 'solution': '100 PBS', 'peptide_concentration(mg/ml)': '7.87', 'PH': '7.4', 'temperature(celsius)': '25.0', 'heating_cooling': 'No', 'incubation_period(min)': '1440.0'}\n"
     ]
    }
   ],
   "source": [
    "\n",
    "for c in json.loads(completion.choices[0].message.content):\n",
    "    print(c)\n",
    "\n",
    "    \n",
    "print(\"#######################\")\n",
    "print(\"#######################\") \n",
    "\n",
    "# print(json.loads(testset[9]['messages'][2]['content']))\n",
    "for t in json.loads(testset[9]['messages'][2]['content']):\n",
    "  print(t)"
   ]
  },
  {
   "cell_type": "markdown",
   "id": "4737d662",
   "metadata": {},
   "source": [
    "# Testing examples 11"
   ]
  },
  {
   "cell_type": "code",
   "execution_count": 64,
   "id": "1b01b4ea",
   "metadata": {},
   "outputs": [],
   "source": [
    "\n",
    "completion = client.chat.completions.create(\n",
    "  model=\"ft:gpt-3.5-turbo-0125:personal::95ba6w1r\",\n",
    "  messages=testset[10]['messages'][:2]\n",
    ")"
   ]
  },
  {
   "cell_type": "code",
   "execution_count": 65,
   "id": "a46d6a67",
   "metadata": {},
   "outputs": [
    {
     "name": "stdout",
     "output_type": "stream",
     "text": [
      "{'peptide_sequence': 'WW', 'self-assembly_phase': 'sphere', 'N-terminal_modification': 'Free', 'C-terminal_modification': 'Free', 'Non-terminal_modification': 'nan', 'peptide_conjugate_mixture': 'Peptide', 'conjugate_partner': 'nan', 'solution': '0/100 HFP/H2O', 'peptide_concentration(mg/ml)': '5.0', 'PH': '5.0', 'temperature(celsius)': '25.0', 'heating_cooling': 'No', 'incubation_period(min)': 'nan'}\n",
      "{'peptide_sequence': 'WW', 'self-assembly_phase': 'sphere', 'N-terminal_modification': 'Free', 'C-terminal_modification': 'Free', 'Non-terminal_modification': 'nan', 'peptide_conjugate_mixture': 'Peptide', 'conjugate_partner': 'nan', 'solution': '0/100 HFP/H2O', 'peptide_concentration(mg/ml)': '10.0', 'PH': '5.0', 'temperature(celsius)': '25.0', 'heating_cooling': 'No', 'incubation_period(min)': 'nan'}\n",
      "{'peptide_sequence': 'WW', 'self-assembly_phase': 'fiber', 'N-terminal_modification': 'Free', 'C-terminal_modification': 'Free', 'Non-terminal_modification': 'nan', 'peptide_conjugate_mixture': 'Peptide', 'conjugate_partner': 'nan', 'solution': '0/100 HFP/H2O', 'peptide_concentration(mg/ml)': '20.0', 'PH': '5.0', 'temperature(celsius)': '25.0', 'heating_cooling': 'No', 'incubation_period(min)': 'nan'}\n",
      "{'peptide_sequence': 'WW', 'self-assembly_phase': 'fiber', 'N-terminal_modification': 'Free', 'C-terminal_modification': 'Free', 'Non-terminal_modification': 'nan', 'peptide_conjugate_mixture': 'Peptide', 'conjugate_partner': 'nan', 'solution': '0/100 HFP/H2O', 'peptide_concentration(mg/ml)': '30.0', 'PH': '5.0', 'temperature(celsius)': '25.0', 'heating_cooling': 'No', 'incubation_period(min)': 'nan'}\n",
      "#######################\n",
      "#######################\n",
      "{'peptide_sequence': 'WW', 'self-assembly_phase': 'nanosphere', 'N-terminal_modification': 'Free', 'C-terminal_modification': 'Free', 'Non-terminal_modification': 'nan', 'peptide_conjugate_mixture': 'Peptide', 'conjugate_partner': 'nan', 'solution': '2/98 HFP/H2O', 'peptide_concentration(mg/ml)': '0.35', 'PH': '7.5', 'temperature(celsius)': '37.0', 'heating_cooling': 'No', 'incubation_period(min)': '1440.0'}\n",
      "{'peptide_sequence': 'WW', 'self-assembly_phase': 'nanosphere', 'N-terminal_modification': 'Free', 'C-terminal_modification': 'Free', 'Non-terminal_modification': 'nan', 'peptide_conjugate_mixture': 'Peptide', 'conjugate_partner': 'nan', 'solution': '2/98 HFP/H2O', 'peptide_concentration(mg/ml)': '0.31', 'PH': '7.5', 'temperature(celsius)': '37.0', 'heating_cooling': 'No', 'incubation_period(min)': '1440.0'}\n"
     ]
    }
   ],
   "source": [
    "\n",
    "for c in json.loads(completion.choices[0].message.content):\n",
    "    print(c)\n",
    "\n",
    "    \n",
    "print(\"#######################\")\n",
    "print(\"#######################\") \n",
    "\n",
    "# print(json.loads(testset[10]['messages'][2]['content']))\n",
    "for t in json.loads(testset[10]['messages'][2]['content']):\n",
    "  print(t)"
   ]
  },
  {
   "cell_type": "markdown",
   "id": "1ab6d79c",
   "metadata": {},
   "source": [
    "# Testing examples 12"
   ]
  },
  {
   "cell_type": "code",
   "execution_count": 66,
   "id": "4e3c23ee",
   "metadata": {},
   "outputs": [],
   "source": [
    "\n",
    "completion = client.chat.completions.create(\n",
    "  model=\"ft:gpt-3.5-turbo-0125:personal::95ba6w1r\",\n",
    "  messages=testset[11]['messages'][:2]\n",
    ")"
   ]
  },
  {
   "cell_type": "code",
   "execution_count": 67,
   "id": "afc3bbbb",
   "metadata": {},
   "outputs": [
    {
     "name": "stdout",
     "output_type": "stream",
     "text": [
      "{'peptide_sequence': 'FF', 'self-assembly_phase': 'tube', 'N-terminal_modification': 'Free', 'C-terminal_modification': 'Free', 'Non-terminal_modification': 'nan', 'peptide_conjugate_mixture': 'Peptide', 'conjugate_partner': 'nan', 'solution': '100 HFP', 'peptide_concentration(mg/ml)': '2.0', 'PH': '7.0', 'temperature(celsius)': '25.0', 'heating_cooling': 'Yes', 'incubation_period(min)': '90.0'}\n",
      "{'peptide_sequence': 'FF', 'self-assembly_phase': 'tube', 'N-terminal_modification': 'Free', 'C-terminal_modification': 'Free', 'Non-terminal_modification': 'nan', 'peptide_conjugate_mixture': 'Peptide', 'conjugate_partner': 'nan', 'solution': '100 HFP', 'peptide_concentration(mg/ml)': '2.0', 'PH': '7.0', 'temperature(celsius)': '25.0', 'heating_cooling': 'Yes', 'incubation_period(min)': '180.0'}\n",
      "{'peptide_sequence': 'LL', 'self-assembly_phase': 'tube', 'N-terminal_modification': 'Free', 'C-terminal_modification': 'Free', 'Non-terminal_modification': 'nan', 'peptide_conjugate_mixture': 'Peptide', 'conjugate_partner': 'nan', 'solution': '100 HFP', 'peptide_concentration(mg/ml)': '2.0', 'PH': '7.0', 'temperature(celsius)': '25.0', 'heating_cooling': 'Yes', 'incubation_period(min)': '90.0'}\n",
      "{'peptide_sequence': 'LL', 'self-assembly_phase': 'tube', 'N-terminal_modification': 'Free', 'C-terminal_modification': 'Free', 'Non-terminal_modification': 'nan', 'peptide_conjugate_mixture': 'Peptide', 'conjugate_partner': 'nan', 'solution': '100 HFP', 'peptide_concentration(mg/ml)': '2.0', 'PH': '7.0', 'temperature(celsius)': '25.0', 'heating_cooling': 'Yes', 'incubation_period(min)': '497.5'}\n",
      "#######################\n",
      "#######################\n",
      "{'peptide_sequence': 'FF', 'self-assembly_phase': 'fiber', 'N-terminal_modification': 'Free', 'C-terminal_modification': 'Free', 'Non-terminal_modification': 'nan', 'peptide_conjugate_mixture': 'Peptide', 'conjugate_partner': 'nan', 'solution': '2/98 HFP/H2O', 'peptide_concentration(mg/ml)': '2.0', 'PH': '5.2', 'temperature(celsius)': '180.0', 'heating_cooling': 'No', 'incubation_period(min)': '180.0'}\n",
      "{'peptide_sequence': 'LL', 'self-assembly_phase': 'tube', 'N-terminal_modification': 'Free', 'C-terminal_modification': 'Free', 'Non-terminal_modification': 'nan', 'peptide_conjugate_mixture': 'Peptide', 'conjugate_partner': 'nan', 'solution': '2/98 HFP/H2O', 'peptide_concentration(mg/ml)': '2.0', 'PH': '5.2', 'temperature(celsius)': '25.0', 'heating_cooling': 'No', 'incubation_period(min)': 'nan'}\n",
      "{'peptide_sequence': 'LL', 'self-assembly_phase': 'fiber', 'N-terminal_modification': 'Free', 'C-terminal_modification': 'Free', 'Non-terminal_modification': 'nan', 'peptide_conjugate_mixture': 'Peptide', 'conjugate_partner': 'nan', 'solution': '2/98 HFP/H2O', 'peptide_concentration(mg/ml)': '2.0', 'PH': '5.2', 'temperature(celsius)': '180.0', 'heating_cooling': 'No', 'incubation_period(min)': '90.0'}\n"
     ]
    }
   ],
   "source": [
    "\n",
    "for c in json.loads(completion.choices[0].message.content):\n",
    "    print(c)\n",
    "\n",
    "    \n",
    "print(\"#######################\")\n",
    "print(\"#######################\") \n",
    "\n",
    "# print(json.loads(testset[10]['messages'][2]['content']))\n",
    "for t in json.loads(testset[11]['messages'][2]['content']):\n",
    "  print(t)"
   ]
  },
  {
   "cell_type": "markdown",
   "id": "7e6b9880",
   "metadata": {},
   "source": [
    "# Testing examples 13"
   ]
  },
  {
   "cell_type": "code",
   "execution_count": 68,
   "id": "e43059c5",
   "metadata": {},
   "outputs": [],
   "source": [
    "\n",
    "completion = client.chat.completions.create(\n",
    "  model=\"ft:gpt-3.5-turbo-0125:personal::95ba6w1r\",\n",
    "  messages=testset[12]['messages'][:2]\n",
    ")"
   ]
  },
  {
   "cell_type": "code",
   "execution_count": 69,
   "id": "cdc42045",
   "metadata": {},
   "outputs": [
    {
     "name": "stdout",
     "output_type": "stream",
     "text": [
      "{'peptide_sequence': 'FF', 'self-assembly_phase': 'tube', 'N-terminal_modification': 'Free', 'C-terminal_modification': 'Free', 'Non-terminal_modification': 'nan', 'peptide_conjugate_mixture': 'Peptide', 'conjugate_partner': 'nan', 'solution': '100 HFP', 'peptide_concentration(mg/ml)': '2.0', 'PH': '7.0', 'temperature(celsius)': '25.0', 'heating_cooling': 'No', 'incubation_period(min)': 'nan'}\n",
      "{'peptide_sequence': 'FF', 'self-assembly_phase': 'tube', 'N-terminal_modification': 'Free', 'C-terminal_modification': 'Free', 'Non-terminal_modification': 'nan', 'peptide_conjugate_mixture': 'Peptide', 'conjugate_partner': 'nan', 'solution': '100 HFP', 'peptide_concentration(mg/ml)': '2.0', 'PH': '7.0', 'temperature(celsius)': '37.0', 'heating_cooling': 'No', 'incubation_period(min)': 'nan'}\n",
      "{'peptide_sequence': 'FF', 'self-assembly_phase': 'tube', 'N-terminal_modification': 'Free', 'C-terminal_modification': 'Free', 'Non-terminal_modification': 'nan', 'peptide_conjugate_mixture': 'Peptide', 'conjugate_partner': 'nan', 'solution': '100 HFP', 'peptide_concentration(mg/ml)': '2.0', 'PH': '7.0', 'temperature(celsius)': '60.0', 'heating_cooling': 'No', 'incubation_period(min)': 'nan'}\n",
      "{'peptide_sequence': 'FF', 'self-assembly_phase': 'tube', 'N-terminal_modification': 'Free', 'C-terminal_modification': 'Free', 'Non-terminal_modification': 'nan', 'peptide_conjugate_mixture': 'Peptide', 'conjugate_partner': 'nan', 'solution': '100 HFP', 'peptide_concentration(mg/ml)': '2.0', 'PH': '7.0', 'temperature(celsius)': '70.0', 'heating_cooling': 'No', 'incubation_period(min)': 'nan'}\n",
      "{'peptide_sequence': 'FF', 'self-assembly_phase': 'tube', 'N-terminal_modification': 'Free', 'C-terminal_modification': 'Free', 'Non-terminal_modification': 'nan', 'peptide_conjugate_mixture': 'Peptide', 'conjugate_partner': 'nan', 'solution': '100 HFP', 'peptide_concentration(mg/ml)': '2.0', 'PH': '7.0', 'temperature(celsius)': '80.0', 'heating_cooling': 'No', 'incubation_period(min)': 'nan'}\n",
      "{'peptide_sequence': 'FF', 'self-assembly_phase': 'tube', 'N-terminal_modification': 'Free', 'C-terminal_modification': 'Free', 'Non-terminal_modification': 'nan', 'peptide_conjugate_mixture': 'Peptide', 'conjugate_partner': 'nan', 'solution': '100 HFP', 'peptide_concentration(mg/ml)': '2.0', 'PH': '7.0', 'temperature(celsius)': '90.0', 'heating_cooling': 'No', 'incubation_period(min)': 'nan'}\n",
      "#######################\n",
      "#######################\n",
      "{'peptide_sequence': 'FF', 'self-assembly_phase': 'tube', 'N-terminal_modification': 'Free', 'C-terminal_modification': 'Free', 'Non-terminal_modification': 'nan', 'peptide_conjugate_mixture': 'Peptide', 'conjugate_partner': 'nan', 'solution': '2/98 HFP/H2O', 'peptide_concentration(mg/ml)': '2.0', 'PH': '5.2', 'temperature(celsius)': '25.0', 'heating_cooling': 'No', 'incubation_period(min)': '5.0'}\n",
      "{'peptide_sequence': 'FF', 'self-assembly_phase': 'tube', 'N-terminal_modification': 'Free', 'C-terminal_modification': 'Free', 'Non-terminal_modification': 'nan', 'peptide_conjugate_mixture': 'Peptide', 'conjugate_partner': 'nan', 'solution': '2/98 HFP/H2O', 'peptide_concentration(mg/ml)': '2.0', 'PH': '5.2', 'temperature(celsius)': '37.0', 'heating_cooling': 'No', 'incubation_period(min)': '5.0'}\n",
      "{'peptide_sequence': 'FF', 'self-assembly_phase': 'tube', 'N-terminal_modification': 'Free', 'C-terminal_modification': 'Free', 'Non-terminal_modification': 'nan', 'peptide_conjugate_mixture': 'Peptide', 'conjugate_partner': 'nan', 'solution': '2/98 HFP/H2O', 'peptide_concentration(mg/ml)': '2.0', 'PH': '5.2', 'temperature(celsius)': '60.0', 'heating_cooling': 'No', 'incubation_period(min)': '5.0'}\n",
      "{'peptide_sequence': 'FF', 'self-assembly_phase': 'tube', 'N-terminal_modification': 'Free', 'C-terminal_modification': 'Free', 'Non-terminal_modification': 'nan', 'peptide_conjugate_mixture': 'Peptide', 'conjugate_partner': 'nan', 'solution': '2/98 HFP/H2O', 'peptide_concentration(mg/ml)': '2.0', 'PH': '5.2', 'temperature(celsius)': '70.0', 'heating_cooling': 'No', 'incubation_period(min)': '5.0'}\n",
      "{'peptide_sequence': 'FF', 'self-assembly_phase': 'tube', 'N-terminal_modification': 'Free', 'C-terminal_modification': 'Free', 'Non-terminal_modification': 'nan', 'peptide_conjugate_mixture': 'Peptide', 'conjugate_partner': 'nan', 'solution': '2/98 HFP/H2O', 'peptide_concentration(mg/ml)': '2.0', 'PH': '5.2', 'temperature(celsius)': '80.0', 'heating_cooling': 'No', 'incubation_period(min)': '5.0'}\n",
      "{'peptide_sequence': 'FF', 'self-assembly_phase': 'tube', 'N-terminal_modification': 'Free', 'C-terminal_modification': 'Free', 'Non-terminal_modification': 'nan', 'peptide_conjugate_mixture': 'Peptide', 'conjugate_partner': 'nan', 'solution': '2/98 HFP/H2O', 'peptide_concentration(mg/ml)': '2.0', 'PH': '5.2', 'temperature(celsius)': '90.0', 'heating_cooling': 'No', 'incubation_period(min)': '5.0'}\n"
     ]
    }
   ],
   "source": [
    "\n",
    "for c in json.loads(completion.choices[0].message.content):\n",
    "    print(c)\n",
    "\n",
    "    \n",
    "print(\"#######################\")\n",
    "print(\"#######################\") \n",
    "\n",
    "# print(json.loads(testset[10]['messages'][2]['content']))\n",
    "for t in json.loads(testset[12]['messages'][2]['content']):\n",
    "  print(t)"
   ]
  },
  {
   "cell_type": "markdown",
   "id": "b2966708",
   "metadata": {},
   "source": [
    "# Testing examples 14"
   ]
  },
  {
   "cell_type": "code",
   "execution_count": 70,
   "id": "f0c08f1c",
   "metadata": {},
   "outputs": [],
   "source": [
    "\n",
    "completion = client.chat.completions.create(\n",
    "  model=\"ft:gpt-3.5-turbo-0125:personal::95ba6w1r\",\n",
    "  messages=testset[13]['messages'][:2]\n",
    ")"
   ]
  },
  {
   "cell_type": "code",
   "execution_count": 71,
   "id": "974dda77",
   "metadata": {},
   "outputs": [
    {
     "name": "stdout",
     "output_type": "stream",
     "text": [
      "{'peptide_sequence': 'FF', 'self-assembly_phase': 'hydrogel', 'N-terminal_modification': 'Fmoc', 'C-terminal_modification': 'Free', 'Non-terminal_modification': 'nan', 'peptide_conjugate_mixture': 'Peptide', 'conjugate_partner': 'nan', 'solution': '100 H2O', 'peptide_concentration(mg/ml)': '0.985', 'PH': '8.5', 'temperature(celsius)': '25.0', 'heating_cooling': 'No', 'incubation_period(min)': '4320.0'}\n",
      "{'peptide_sequence': 'FF', 'self-assembly_phase': 'hydrogel', 'N-terminal_modification': 'Fmoc', 'C-terminal_modification': 'Free', 'Non-terminal_modification': 'nan', 'peptide_conjugate_mixture': 'Peptide', 'conjugate_partner': 'nan', 'solution': '100 H2O', 'peptide_concentration(mg/ml)': '0.985', 'PH': '7.0', 'temperature(celsius)': '25.0', 'heating_cooling': 'No', 'incubation_period(min)': '4320.0'}\n",
      "{'peptide_sequence': 'FF', 'self-assembly_phase': 'hydrogel', 'N-terminal_modification': 'Fmoc', 'C-terminal_modification': 'Free', 'Non-terminal_modification': 'nan', 'peptide_conjugate_mixture': 'Peptide', 'conjugate_partner': 'nan', 'solution': '100 H2O', 'peptide_concentration(mg/ml)': '0.985', 'PH': '5.5', 'temperature(celsius)': '25.0', 'heating_cooling': 'No', 'incubation_period(min)': '4320.0'}\n",
      "{'peptide_sequence': 'FF', 'self-assembly_phase': 'hydrogel', 'N-terminal_modification': 'Fmoc', 'C-terminal_modification': 'Free', 'Non-terminal_modification': 'nan', 'peptide_conjugate_mixture': 'Peptide', 'conjugate_partner': 'nan', 'solution': '100 H2O', 'peptide_concentration(mg/ml)': '0.985', 'PH': '4.0', 'temperature(celsius)': '25.0', 'heating_cooling': 'No', 'incubation_period(min)': '4320.0'}\n",
      "{'peptide_sequence': 'FF', 'self-assembly_phase': 'hydrogel', 'N-terminal_modification': 'Fmoc', 'C-terminal_modification': 'Free', 'Non-terminal_modification': 'nan', 'peptide_conjugate_mixture': 'Peptide', 'conjugate_partner': 'nan', 'solution': '100 H2O', 'peptide_concentration(mg/ml)': '0.985', 'PH': '2.5', 'temperature(celsius)': '25.0', 'heating_cooling': 'No', 'incubation_period(min)': '4320.0'}\n",
      "{'peptide_sequence': 'FF', 'self-assembly_phase': 'hydrogel', 'N-terminal_modification': 'Fmoc', 'C-terminal_modification': 'Free', 'Non-terminal_modification': 'nan', 'peptide_conjugate_mixture': 'Peptide', 'conjugate_partner': 'nan', 'solution': '100 H2O', 'peptide_concentration(mg/ml)': '0.985', 'PH': '1.0', 'temperature(celsius)': '25.0', 'heating_cooling': 'No', 'incubation_period(min)': '4320.0'}\n",
      "#######################\n",
      "#######################\n",
      "{'peptide_sequence': 'FF', 'self-assembly_phase': 'hydrogel', 'N-terminal_modification': 'Fmoc', 'C-terminal_modification': 'Free', 'Non-terminal_modification': 'nan', 'peptide_conjugate_mixture': 'Peptide', 'conjugate_partner': 'nan', 'solution': '100 H2O', 'peptide_concentration(mg/ml)': '8.02', 'PH': '3.0', 'temperature(celsius)': '25.0', 'heating_cooling': 'No', 'incubation_period(min)': '4320.0'}\n",
      "{'peptide_sequence': 'FF', 'self-assembly_phase': 'hydrogel', 'N-terminal_modification': 'Fmoc', 'C-terminal_modification': 'Free', 'Non-terminal_modification': 'nan', 'peptide_conjugate_mixture': 'Peptide', 'conjugate_partner': 'nan', 'solution': '100 H2O', 'peptide_concentration(mg/ml)': '8.02', 'PH': '3.2', 'temperature(celsius)': '25.0', 'heating_cooling': 'No', 'incubation_period(min)': '4320.0'}\n",
      "{'peptide_sequence': 'FF', 'self-assembly_phase': 'hydrogel', 'N-terminal_modification': 'Fmoc', 'C-terminal_modification': 'Free', 'Non-terminal_modification': 'nan', 'peptide_conjugate_mixture': 'Peptide', 'conjugate_partner': 'nan', 'solution': '100 H2O', 'peptide_concentration(mg/ml)': '8.02', 'PH': '3.4', 'temperature(celsius)': '25.0', 'heating_cooling': 'No', 'incubation_period(min)': '4320.0'}\n",
      "{'peptide_sequence': 'FF', 'self-assembly_phase': 'hydrogel', 'N-terminal_modification': 'Fmoc', 'C-terminal_modification': 'Free', 'Non-terminal_modification': 'nan', 'peptide_conjugate_mixture': 'Peptide', 'conjugate_partner': 'nan', 'solution': '100 H2O', 'peptide_concentration(mg/ml)': '8.02', 'PH': '3.6', 'temperature(celsius)': '25.0', 'heating_cooling': 'No', 'incubation_period(min)': '4320.0'}\n",
      "{'peptide_sequence': 'FF', 'self-assembly_phase': 'hydrogel', 'N-terminal_modification': 'Fmoc', 'C-terminal_modification': 'Free', 'Non-terminal_modification': 'nan', 'peptide_conjugate_mixture': 'Peptide', 'conjugate_partner': 'nan', 'solution': '100 H2O', 'peptide_concentration(mg/ml)': '8.02', 'PH': '3.8', 'temperature(celsius)': '25.0', 'heating_cooling': 'No', 'incubation_period(min)': '4320.0'}\n",
      "{'peptide_sequence': 'FF', 'self-assembly_phase': 'hydrogel', 'N-terminal_modification': 'Fmoc', 'C-terminal_modification': 'Free', 'Non-terminal_modification': 'nan', 'peptide_conjugate_mixture': 'Peptide', 'conjugate_partner': 'nan', 'solution': '100 H2O', 'peptide_concentration(mg/ml)': '8.02', 'PH': '4.0', 'temperature(celsius)': '25.0', 'heating_cooling': 'No', 'incubation_period(min)': '4320.0'}\n"
     ]
    }
   ],
   "source": [
    "for c in json.loads(completion.choices[0].message.content):\n",
    "    print(c)\n",
    "\n",
    "    \n",
    "print(\"#######################\")\n",
    "print(\"#######################\") \n",
    "\n",
    "# print(json.loads(testset[13]['messages'][2]['content']))\n",
    "for t in json.loads(testset[13]['messages'][2]['content']):\n",
    "  print(t)"
   ]
  },
  {
   "cell_type": "markdown",
   "id": "f5d33e1a",
   "metadata": {},
   "source": [
    "# Testing examples 15"
   ]
  },
  {
   "cell_type": "code",
   "execution_count": 72,
   "id": "49168491",
   "metadata": {},
   "outputs": [],
   "source": [
    "\n",
    "completion = client.chat.completions.create(\n",
    "  model=\"ft:gpt-3.5-turbo-0125:personal::95ba6w1r\",\n",
    "  messages=testset[14]['messages'][:2]\n",
    ")"
   ]
  },
  {
   "cell_type": "code",
   "execution_count": 73,
   "id": "cb3c3924",
   "metadata": {},
   "outputs": [
    {
     "name": "stdout",
     "output_type": "stream",
     "text": [
      "{'peptide_sequence': 'FF', 'self-assembly_phase': 'none', 'N-terminal_modification': 'Free', 'C-terminal_modification': 'Free', 'Non-terminal_modification': 'Napthalene', 'peptide_conjugate_mixture': 'Peptide', 'conjugate_partner': '2-Napthaleneacetic acid', 'solution': '100 H2O', 'peptide_concentration(mg/ml)': '4.86', 'PH': '9.0', 'temperature(celsius)': '25.0', 'heating_cooling': 'No', 'incubation_period(min)': '1440.0'}\n",
      "{'peptide_sequence': 'FF', 'self-assembly_phase': 'none', 'N-terminal_modification': 'Free', 'C-terminal_modification': 'Free', 'Non-terminal_modification': 'Napthalene', 'peptide_conjugate_mixture': 'Peptide', 'conjugate_partner': '2-Napthaleneacetic acid', 'solution': '100 H2O', 'peptide_concentration(mg/ml)': '3.63', 'PH': '8.5', 'temperature(celsius)': '25.0', 'heating_cooling': 'No', 'incubation_period(min)': '1440.0'}\n",
      "{'peptide_sequence': 'FF', 'self-assembly_phase': 'none', 'N-terminal_modification': 'Free', 'C-terminal_modification': 'Free', 'Non-terminal_modification': 'Napthalene', 'peptide_conjugate_mixture': 'Peptide', 'conjugate_partner': '2-Napthaleneacetic acid', 'solution': '100 H2O', 'peptide_concentration(mg/ml)': '2.43', 'PH': '8.0', 'temperature(celsius)': '25.0', 'heating_cooling': 'No', 'incubation_period(min)': '1440.0'}\n",
      "{'peptide_sequence': 'FF', 'self-assembly_phase': 'hydrogel', 'N-terminal_modification': 'Free', 'C-terminal_modification': 'Free', 'Non-terminal_modification': 'Napthalene', 'peptide_conjugate_mixture': 'Peptide', 'conjugate_partner': '2-Napthaleneacetic acid', 'solution': '100 H2O', 'peptide_concentration(mg/ml)': '1.35', 'PH': '6.5', 'temperature(celsius)': '25.0', 'heating_cooling': 'No', 'incubation_period(min)': '1440.0'}\n",
      "{'peptide_sequence': 'FF', 'self-assembly_phase': 'hydrogel', 'N-terminal_modification': 'Free', 'C-terminal_modification': 'Free', 'Non-terminal_modification': 'Napthalene', 'peptide_conjugate_mixture': 'Peptide', 'conjugate_partner': '2-Napthaleneacetic acid', 'solution': '100 H2O', 'peptide_concentration(mg/ml)': '0.9', 'PH': '7.0', 'temperature(celsius)': '25.0', 'heating_cooling': 'No', 'incubation_period(min)': '1440.0'}\n",
      "{'peptide_sequence': 'FF', 'self-assembly_phase': 'none', 'N-terminal_modification': 'Free', 'C-terminal_modification': 'Free', 'Non-terminal_modification': 'Napthalene', 'peptide_conjugate_mixture': 'Peptide', 'conjugate_partner': '2-Napthaleneacetic acid', 'solution': '100 H2O', 'peptide_concentration(mg/ml)': '0.45', 'PH': '7.0', 'temperature(celsius)': '25.0', 'heating_cooling': 'No', 'incubation_period(min)': '1440.0'}\n",
      "{'peptide_sequence': 'FF', 'self-assembly_phase': 'none', 'N-terminal_modification': 'Free', 'C-terminal_modification': 'Free', 'Non-terminal_modification': 'Napthalene', 'peptide_conjugate_mixture': 'Peptide', 'conjugate_partner': '2-Napthaleneacetic acid', 'solution': '100 H2O', 'peptide_concentration(mg/ml)': '0.3', 'PH': '7.0', 'temperature(celsius)': '25.0', 'heating_cooling': 'No', 'incubation_period(min)': '1440.0'}\n",
      "{'peptide_sequence': 'FF', 'self-assembly_phase': 'none', 'N-terminal_modification': 'Free', 'C-terminal_modification': 'Free', 'Non-terminal_modification': 'Napthalene', 'peptide_conjugate_mixture': 'Peptide', 'conjugate_partner': '2-Napthaleneacetic acid', 'solution': '100 H2O', 'peptide_concentration(mg/ml)': '0.15', 'PH': '7.0', 'temperature(celsius)': '25.0', 'heating_cooling': 'No', 'incubation_period(min)': '1440.0'}\n",
      "{'peptide_sequence': 'FF', 'self-assembly_phase': 'none', 'N-terminal_modification': 'Free', 'C-terminal_modification': 'Free', 'Non-terminal_modification': 'Napthalene', 'peptide_conjugate_mixture': 'Peptide', 'conjugate_partner': '2-Napthaleneacetic acid', 'solution': '100 H2O', 'peptide_concentration(mg/ml)': '0.12', 'PH': '7.0', 'temperature(celsius)': '25.0', 'heating_cooling': 'No', 'incubation_period(min)': '1440.0'}\n",
      "#######################\n",
      "#######################\n",
      "{'peptide_sequence': 'FF', 'self-assembly_phase': 'hydrogel', 'N-terminal_modification': 'Napthalene', 'C-terminal_modification': 'Free', 'Non-terminal_modification': 'nan', 'peptide_conjugate_mixture': 'Conjugate', 'conjugate_partner': 'Napthalene', 'solution': '100 H2O', 'peptide_concentration(mg/ml)': '20.0', 'PH': '6.0', 'temperature(celsius)': '25.0', 'heating_cooling': 'No', 'incubation_period(min)': '1440.0'}\n",
      "{'peptide_sequence': 'FF', 'self-assembly_phase': 'hydrogel', 'N-terminal_modification': 'Napthalene', 'C-terminal_modification': 'Free', 'Non-terminal_modification': 'nan', 'peptide_conjugate_mixture': 'Conjugate', 'conjugate_partner': 'Napthalene', 'solution': '100 H2O', 'peptide_concentration(mg/ml)': '15.0', 'PH': '6.0', 'temperature(celsius)': '25.0', 'heating_cooling': 'No', 'incubation_period(min)': '1440.0'}\n",
      "{'peptide_sequence': 'FF', 'self-assembly_phase': 'hydrogel', 'N-terminal_modification': 'Napthalene', 'C-terminal_modification': 'Free', 'Non-terminal_modification': 'nan', 'peptide_conjugate_mixture': 'Conjugate', 'conjugate_partner': 'Napthalene', 'solution': '100 H2O', 'peptide_concentration(mg/ml)': '10.0', 'PH': '6.0', 'temperature(celsius)': '25.0', 'heating_cooling': 'No', 'incubation_period(min)': '1440.0'}\n",
      "{'peptide_sequence': 'FF', 'self-assembly_phase': 'hydrogel', 'N-terminal_modification': 'Napthalene', 'C-terminal_modification': 'Free', 'Non-terminal_modification': 'nan', 'peptide_conjugate_mixture': 'Conjugate', 'conjugate_partner': 'Napthalene', 'solution': '100 H2O', 'peptide_concentration(mg/ml)': '5.0', 'PH': '6.0', 'temperature(celsius)': '25.0', 'heating_cooling': 'No', 'incubation_period(min)': '1440.0'}\n",
      "{'peptide_sequence': 'FF', 'self-assembly_phase': 'hydrogel', 'N-terminal_modification': 'Napthalene', 'C-terminal_modification': 'Free', 'Non-terminal_modification': 'nan', 'peptide_conjugate_mixture': 'Conjugate', 'conjugate_partner': 'Napthalene', 'solution': '100 H2O', 'peptide_concentration(mg/ml)': '20.0', 'PH': '6.2', 'temperature(celsius)': '25.0', 'heating_cooling': 'No', 'incubation_period(min)': '1440.0'}\n",
      "{'peptide_sequence': 'FF', 'self-assembly_phase': 'hydrogel', 'N-terminal_modification': 'Napthalene', 'C-terminal_modification': 'Free', 'Non-terminal_modification': 'nan', 'peptide_conjugate_mixture': 'Conjugate', 'conjugate_partner': 'Napthalene', 'solution': '100 H2O', 'peptide_concentration(mg/ml)': '15.0', 'PH': '6.2', 'temperature(celsius)': '25.0', 'heating_cooling': 'No', 'incubation_period(min)': '1440.0'}\n",
      "{'peptide_sequence': 'FF', 'self-assembly_phase': 'hydrogel', 'N-terminal_modification': 'Napthalene', 'C-terminal_modification': 'Free', 'Non-terminal_modification': 'nan', 'peptide_conjugate_mixture': 'Conjugate', 'conjugate_partner': 'Napthalene', 'solution': '100 H2O', 'peptide_concentration(mg/ml)': '10.0', 'PH': '6.2', 'temperature(celsius)': '25.0', 'heating_cooling': 'No', 'incubation_period(min)': '1440.0'}\n",
      "{'peptide_sequence': 'FF', 'self-assembly_phase': 'hydrogel', 'N-terminal_modification': 'Napthalene', 'C-terminal_modification': 'Free', 'Non-terminal_modification': 'nan', 'peptide_conjugate_mixture': 'Conjugate', 'conjugate_partner': 'Napthalene', 'solution': '100 H2O', 'peptide_concentration(mg/ml)': '5.0', 'PH': '6.2', 'temperature(celsius)': '25.0', 'heating_cooling': 'No', 'incubation_period(min)': '1440.0'}\n",
      "{'peptide_sequence': 'FF', 'self-assembly_phase': 'hydrogel', 'N-terminal_modification': 'Napthalene', 'C-terminal_modification': 'Free', 'Non-terminal_modification': 'nan', 'peptide_conjugate_mixture': 'Conjugate', 'conjugate_partner': 'Napthalene', 'solution': '100 H2O', 'peptide_concentration(mg/ml)': '20.0', 'PH': '6.4', 'temperature(celsius)': '25.0', 'heating_cooling': 'No', 'incubation_period(min)': '1440.0'}\n",
      "{'peptide_sequence': 'FF', 'self-assembly_phase': 'hydrogel', 'N-terminal_modification': 'Napthalene', 'C-terminal_modification': 'Free', 'Non-terminal_modification': 'nan', 'peptide_conjugate_mixture': 'Conjugate', 'conjugate_partner': 'Napthalene', 'solution': '100 H2O', 'peptide_concentration(mg/ml)': '15.0', 'PH': '6.4', 'temperature(celsius)': '25.0', 'heating_cooling': 'No', 'incubation_period(min)': '1440.0'}\n",
      "{'peptide_sequence': 'FF', 'self-assembly_phase': 'hydrogel', 'N-terminal_modification': 'Napthalene', 'C-terminal_modification': 'Free', 'Non-terminal_modification': 'nan', 'peptide_conjugate_mixture': 'Conjugate', 'conjugate_partner': 'Napthalene', 'solution': '100 H2O', 'peptide_concentration(mg/ml)': '10.0', 'PH': '6.4', 'temperature(celsius)': '25.0', 'heating_cooling': 'No', 'incubation_period(min)': '1440.0'}\n",
      "{'peptide_sequence': 'FF', 'self-assembly_phase': 'hydrogel', 'N-terminal_modification': 'Napthalene', 'C-terminal_modification': 'Free', 'Non-terminal_modification': 'nan', 'peptide_conjugate_mixture': 'Conjugate', 'conjugate_partner': 'Napthalene', 'solution': '100 H2O', 'peptide_concentration(mg/ml)': '5.0', 'PH': '6.4', 'temperature(celsius)': '25.0', 'heating_cooling': 'No', 'incubation_period(min)': '1440.0'}\n",
      "{'peptide_sequence': 'FF', 'self-assembly_phase': 'hydrogel', 'N-terminal_modification': 'Napthalene', 'C-terminal_modification': 'Free', 'Non-terminal_modification': 'nan', 'peptide_conjugate_mixture': 'Conjugate', 'conjugate_partner': 'Napthalene', 'solution': '100 H2O', 'peptide_concentration(mg/ml)': '20.0', 'PH': '6.6', 'temperature(celsius)': '25.0', 'heating_cooling': 'No', 'incubation_period(min)': '1440.0'}\n",
      "{'peptide_sequence': 'FF', 'self-assembly_phase': 'hydrogel', 'N-terminal_modification': 'Napthalene', 'C-terminal_modification': 'Free', 'Non-terminal_modification': 'nan', 'peptide_conjugate_mixture': 'Conjugate', 'conjugate_partner': 'Napthalene', 'solution': '100 H2O', 'peptide_concentration(mg/ml)': '15.0', 'PH': '6.6', 'temperature(celsius)': '25.0', 'heating_cooling': 'No', 'incubation_period(min)': '1440.0'}\n",
      "{'peptide_sequence': 'FF', 'self-assembly_phase': 'hydrogel', 'N-terminal_modification': 'Napthalene', 'C-terminal_modification': 'Free', 'Non-terminal_modification': 'nan', 'peptide_conjugate_mixture': 'Conjugate', 'conjugate_partner': 'Napthalene', 'solution': '100 H2O', 'peptide_concentration(mg/ml)': '10.0', 'PH': '6.6', 'temperature(celsius)': '25.0', 'heating_cooling': 'No', 'incubation_period(min)': '1440.0'}\n",
      "{'peptide_sequence': 'FF', 'self-assembly_phase': 'hydrogel', 'N-terminal_modification': 'Napthalene', 'C-terminal_modification': 'Free', 'Non-terminal_modification': 'nan', 'peptide_conjugate_mixture': 'Conjugate', 'conjugate_partner': 'Napthalene', 'solution': '100 H2O', 'peptide_concentration(mg/ml)': '5.0', 'PH': '6.6', 'temperature(celsius)': '25.0', 'heating_cooling': 'No', 'incubation_period(min)': '1440.0'}\n",
      "{'peptide_sequence': 'FF', 'self-assembly_phase': 'hydrogel', 'N-terminal_modification': 'Napthalene', 'C-terminal_modification': 'Free', 'Non-terminal_modification': 'nan', 'peptide_conjugate_mixture': 'Conjugate', 'conjugate_partner': 'Napthalene', 'solution': '100 H2O', 'peptide_concentration(mg/ml)': '20.0', 'PH': '6.8', 'temperature(celsius)': '25.0', 'heating_cooling': 'No', 'incubation_period(min)': '1440.0'}\n",
      "{'peptide_sequence': 'FF', 'self-assembly_phase': 'hydrogel', 'N-terminal_modification': 'Napthalene', 'C-terminal_modification': 'Free', 'Non-terminal_modification': 'nan', 'peptide_conjugate_mixture': 'Conjugate', 'conjugate_partner': 'Napthalene', 'solution': '100 H2O', 'peptide_concentration(mg/ml)': '15.0', 'PH': '6.8', 'temperature(celsius)': '25.0', 'heating_cooling': 'No', 'incubation_period(min)': '1440.0'}\n",
      "{'peptide_sequence': 'FF', 'self-assembly_phase': 'hydrogel', 'N-terminal_modification': 'Napthalene', 'C-terminal_modification': 'Free', 'Non-terminal_modification': 'nan', 'peptide_conjugate_mixture': 'Conjugate', 'conjugate_partner': 'Napthalene', 'solution': '100 H2O', 'peptide_concentration(mg/ml)': '10.0', 'PH': '6.8', 'temperature(celsius)': '25.0', 'heating_cooling': 'No', 'incubation_period(min)': '1440.0'}\n",
      "{'peptide_sequence': 'FF', 'self-assembly_phase': 'hydrogel', 'N-terminal_modification': 'Napthalene', 'C-terminal_modification': 'Free', 'Non-terminal_modification': 'nan', 'peptide_conjugate_mixture': 'Conjugate', 'conjugate_partner': 'Napthalene', 'solution': '100 H2O', 'peptide_concentration(mg/ml)': '5.0', 'PH': '6.8', 'temperature(celsius)': '25.0', 'heating_cooling': 'No', 'incubation_period(min)': '1440.0'}\n",
      "{'peptide_sequence': 'FF', 'self-assembly_phase': 'hydrogel', 'N-terminal_modification': 'Napthalene', 'C-terminal_modification': 'Free', 'Non-terminal_modification': 'nan', 'peptide_conjugate_mixture': 'Conjugate', 'conjugate_partner': 'Napthalene', 'solution': '100 H2O', 'peptide_concentration(mg/ml)': '20.0', 'PH': '7.0', 'temperature(celsius)': '25.0', 'heating_cooling': 'No', 'incubation_period(min)': '1440.0'}\n",
      "{'peptide_sequence': 'FF', 'self-assembly_phase': 'hydrogel', 'N-terminal_modification': 'Napthalene', 'C-terminal_modification': 'Free', 'Non-terminal_modification': 'nan', 'peptide_conjugate_mixture': 'Conjugate', 'conjugate_partner': 'Napthalene', 'solution': '100 H2O', 'peptide_concentration(mg/ml)': '15.0', 'PH': '7.0', 'temperature(celsius)': '25.0', 'heating_cooling': 'No', 'incubation_period(min)': '1440.0'}\n",
      "{'peptide_sequence': 'FF', 'self-assembly_phase': 'hydrogel', 'N-terminal_modification': 'Napthalene', 'C-terminal_modification': 'Free', 'Non-terminal_modification': 'nan', 'peptide_conjugate_mixture': 'Conjugate', 'conjugate_partner': 'Napthalene', 'solution': '100 H2O', 'peptide_concentration(mg/ml)': '10.0', 'PH': '7.0', 'temperature(celsius)': '25.0', 'heating_cooling': 'No', 'incubation_period(min)': '1440.0'}\n",
      "{'peptide_sequence': 'FF', 'self-assembly_phase': 'hydrogel', 'N-terminal_modification': 'Napthalene', 'C-terminal_modification': 'Free', 'Non-terminal_modification': 'nan', 'peptide_conjugate_mixture': 'Conjugate', 'conjugate_partner': 'Napthalene', 'solution': '100 H2O', 'peptide_concentration(mg/ml)': '5.0', 'PH': '7.0', 'temperature(celsius)': '25.0', 'heating_cooling': 'No', 'incubation_period(min)': '1440.0'}\n"
     ]
    }
   ],
   "source": [
    "for c in json.loads(completion.choices[0].message.content):\n",
    "    print(c)\n",
    "\n",
    "    \n",
    "print(\"#######################\")\n",
    "print(\"#######################\") \n",
    "\n",
    "# print(json.loads(testset[14]['messages'][2]['content']))\n",
    "for t in json.loads(testset[14]['messages'][2]['content']):\n",
    "  print(t)"
   ]
  },
  {
   "cell_type": "markdown",
   "id": "7a73c13f",
   "metadata": {},
   "source": [
    "# Testing examples 16"
   ]
  },
  {
   "cell_type": "code",
   "execution_count": 74,
   "id": "1eb6d32b",
   "metadata": {},
   "outputs": [],
   "source": [
    "\n",
    "completion = client.chat.completions.create(\n",
    "  model=\"ft:gpt-3.5-turbo-0125:personal::95ba6w1r\",\n",
    "  messages=testset[15]['messages'][:2]\n",
    ")"
   ]
  },
  {
   "cell_type": "code",
   "execution_count": 75,
   "id": "69527268",
   "metadata": {},
   "outputs": [
    {
     "name": "stdout",
     "output_type": "stream",
     "text": [
      "{'peptide_sequence': 'FWK', 'self-assembly_phase': 'ribbon', 'N-terminal_modification': 'Fmoc', 'C-terminal_modification': 'Free', 'Non-terminal_modification': 'nan', 'peptide_conjugate_mixture': 'Peptide', 'conjugate_partner': 'nan', 'solution': '100 H2O', 'peptide_concentration(mg/ml)': '0.07', 'PH': '5.0', 'temperature(celsius)': '25.0', 'heating_cooling': 'Yes', 'incubation_period(min)': '4320.0'}\n",
      "{'peptide_sequence': 'FWK', 'self-assembly_phase': 'ribbon', 'N-terminal_modification': 'Fmoc', 'C-terminal_modification': 'Free', 'Non-terminal_modification': 'nan', 'peptide_conjugate_mixture': 'Peptide', 'conjugate_partner': 'nan', 'solution': '100 H2O', 'peptide_concentration(mg/ml)': '0.07', 'PH': '6.0', 'temperature(celsius)': '25.0', 'heating_cooling': 'Yes', 'incubation_period(min)': '4320.0'}\n",
      "{'peptide_sequence': 'FWK', 'self-assembly_phase': 'nanofiber', 'N-terminal_modification': 'Fmoc', 'C-terminal_modification': 'Free', 'Non-terminal_modification': 'nan', 'peptide_conjugate_mixture': 'Peptide', 'conjugate_partner': 'nan', 'solution': '100 H2O', 'peptide_concentration(mg/ml)': '0.07', 'PH': '7.0', 'temperature(celsius)': '25.0', 'heating_cooling': 'Yes', 'incubation_period(min)': '4320.0'}\n",
      "{'peptide_sequence': 'FWK', 'self-assembly_phase': 'nanofiber', 'N-terminal_modification': 'Fmoc', 'C-terminal_modification': 'Free', 'Non-terminal_modification': 'nan', 'peptide_conjugate_mixture': 'Peptide', 'conjugate_partner': 'nan', 'solution': '100 H2O', 'peptide_concentration(mg/ml)': '0.07', 'PH': '7.5', 'temperature(celsius)': '25.0', 'heating_cooling': 'Yes', 'incubation_period(min)': '4320.0'}\n",
      "{'peptide_sequence': 'FWK', 'self-assembly_phase': 'nanofiber', 'N-terminal_modification': 'Fmoc', 'C-terminal_modification': 'Free', 'Non-terminal_modification': 'nan', 'peptide_conjugate_mixture': 'Peptide', 'conjugate_partner': 'nan', 'solution': '100 H2O', 'peptide_concentration(mg/ml)': '0.07', 'PH': '8.0', 'temperature(celsius)': '25.0', 'heating_cooling': 'Yes', 'incubation_period(min)': '4320.0'}\n",
      "{'peptide_sequence': 'FWK', 'self-assembly_phase': 'ribbon', 'N-terminal_modification': 'Fmoc', 'C-terminal_modification': 'Free', 'Non-terminal_modification': 'nan', 'peptide_conjugate_mixture': 'Peptide', 'conjugate_partner': 'nan', 'solution': '100 H2O', 'peptide_concentration(mg/ml)': '0.07', 'PH': '8.5', 'temperature(celsius)': '25.0', 'heating_cooling': 'Yes', 'incubation_period(min)': '4320.0'}\n",
      "{'peptide_sequence': 'FWK', 'self-assembly_phase': 'ribbon', 'N-terminal_modification': 'Fmoc', 'C-terminal_modification': 'Free', 'Non-terminal_modification': 'nan', 'peptide_conjugate_mixture': 'Peptide', 'conjugate_partner': 'nan', 'solution': '100 H2O', 'peptide_concentration(mg/ml)': '0.07', 'PH': '9.0', 'temperature(celsius)': '25.0', 'heating_cooling': 'Yes', 'incubation_period(min)': '4320.0'}\n",
      "{'peptide_sequence': 'FWK', 'self-assembly_phase': 'ribbon', 'N-terminal_modification': 'Fmoc', 'C-terminal_modification': 'Free', 'Non-terminal_modification': 'nan', 'peptide_conjugate_mixture': 'Peptide', 'conjugate_partner': 'nan', 'solution': '100 H2O', 'peptide_concentration(mg/ml)': '0.07', 'PH': '9.5', 'temperature(celsius)': '25.0', 'heating_cooling': 'Yes', 'incubation_period(min)': '4320.0'}\n",
      "{'peptide_sequence': 'FWK', 'self-assembly_phase': 'ribbon', 'N-terminal_modification': 'Fmoc', 'C-terminal_modification': 'Free', 'Non-terminal_modification': 'nan', 'peptide_conjugate_mixture': 'Peptide', 'conjugate_partner': 'nan', 'solution': '100 H2O', 'peptide_concentration(mg/ml)': '0.07', 'PH': '10.0', 'temperature(celsius)': '25.0', 'heating_cooling': 'Yes', 'incubation_period(min)': '4320.0'}\n",
      "{'peptide_sequence': 'FWK', 'self-assembly_phase': 'ribbon', 'N-terminal_modification': 'Fmoc', 'C-terminal_modification': 'Free', 'Non-terminal_modification': 'nan', 'peptide_conjugate_mixture': 'Peptide', 'conjugate_partner': 'nan', 'solution': '100 H2O', 'peptide_concentration(mg/ml)': '0.07', 'PH': '10.5', 'temperature(celsius)': '25.0', 'heating_cooling': 'Yes', 'incubation_period(min)': '4320.0'}\n",
      "{'peptide_sequence': 'FWK', 'self-assembly_phase': 'ribbon', 'N-terminal_modification': 'Fmoc', 'C-terminal_modification': 'Free', 'Non-terminal_modification': 'nan', 'peptide_conjugate_mixture': 'Peptide', 'conjugate_partner': 'nan', 'solution': '100 H2O', 'peptide_concentration(mg/ml)': '0.07', 'PH': '11.0', 'temperature(celsius)': '25.0', 'heating_cooling': 'Yes', 'incubation_period(min)': '4320.0'}\n",
      "{'peptide_sequence': 'FWK', 'self-assembly_phase': 'ribbon', 'N-terminal_modification': 'Fmoc', 'C-terminal_modification': 'Free', 'Non-terminal_modification': 'nan', 'peptide_conjugate_mixture': 'Peptide', 'conjugate_partner': 'nan', 'solution': '100 H2O', 'peptide_concentration(mg/ml)': '0.07', 'PH': '11.5', 'temperature(celsius)': '25.0', 'heating_cooling': 'Yes', 'incubation_period(min)': '4320.0'}\n",
      "{'peptide_sequence': 'FWK', 'self-assembly_phase': 'ribbon', 'N-terminal_modification': 'Fmoc', 'C-terminal_modification': 'Free', 'Non-terminal_modification': 'nan', 'peptide_conjugate_mixture': 'Peptide', 'conjugate_partner': 'nan', 'solution': '100 H2O', 'peptide_concentration(mg/ml)': '0.07', 'PH': '12.0', 'temperature(celsius)': '25.0', 'heating_cooling': 'Yes', 'incubation_period(min)': '4320.0'}\n",
      "#######################\n",
      "#######################\n",
      "{'peptide_sequence': 'FWK', 'self-assembly_phase': 'ribbon', 'N-terminal_modification': 'Fmoc', 'C-terminal_modification': 'Free', 'Non-terminal_modification': 'nan', 'peptide_conjugate_mixture': 'Peptide', 'conjugate_partner': 'nan', 'solution': '50/50 Acetonitrile/H2O', 'peptide_concentration(mg/ml)': '7.0', 'PH': '6.0', 'temperature(celsius)': '25.0', 'heating_cooling': 'Yes', 'incubation_period(min)': '1440.0'}\n",
      "{'peptide_sequence': 'FWK', 'self-assembly_phase': 'ribbon', 'N-terminal_modification': 'Fmoc', 'C-terminal_modification': 'Free', 'Non-terminal_modification': 'nan', 'peptide_conjugate_mixture': 'Peptide', 'conjugate_partner': 'nan', 'solution': '50/50 Acetonitrile/H2O', 'peptide_concentration(mg/ml)': '7.0', 'PH': '7.0', 'temperature(celsius)': '25.0', 'heating_cooling': 'Yes', 'incubation_period(min)': '1440.0'}\n",
      "{'peptide_sequence': 'FWK', 'self-assembly_phase': 'ribbon', 'N-terminal_modification': 'Fmoc', 'C-terminal_modification': 'Free', 'Non-terminal_modification': 'nan', 'peptide_conjugate_mixture': 'Peptide', 'conjugate_partner': 'nan', 'solution': '50/50 Acetonitrile/H2O', 'peptide_concentration(mg/ml)': '7.0', 'PH': '8.0', 'temperature(celsius)': '25.0', 'heating_cooling': 'Yes', 'incubation_period(min)': '1440.0'}\n",
      "{'peptide_sequence': 'FWK', 'self-assembly_phase': 'ribbon', 'N-terminal_modification': 'Fmoc', 'C-terminal_modification': 'Free', 'Non-terminal_modification': 'nan', 'peptide_conjugate_mixture': 'Peptide', 'conjugate_partner': 'nan', 'solution': '50/50 Acetonitrile/H2O', 'peptide_concentration(mg/ml)': '7.0', 'PH': '9.0', 'temperature(celsius)': '25.0', 'heating_cooling': 'Yes', 'incubation_period(min)': '1440.0'}\n",
      "{'peptide_sequence': 'FWK', 'self-assembly_phase': 'ribbon', 'N-terminal_modification': 'Fmoc', 'C-terminal_modification': 'Free', 'Non-terminal_modification': 'nan', 'peptide_conjugate_mixture': 'Peptide', 'conjugate_partner': 'nan', 'solution': '50/50 Acetonitrile/H2O', 'peptide_concentration(mg/ml)': '7.0', 'PH': '10.0', 'temperature(celsius)': '25.0', 'heating_cooling': 'Yes', 'incubation_period(min)': '1440.0'}\n",
      "{'peptide_sequence': 'FWK', 'self-assembly_phase': 'ribbon', 'N-terminal_modification': 'Fmoc', 'C-terminal_modification': 'Free', 'Non-terminal_modification': 'nan', 'peptide_conjugate_mixture': 'Peptide', 'conjugate_partner': 'nan', 'solution': '50/50 Acetonitrile/H2O', 'peptide_concentration(mg/ml)': '7.0', 'PH': '11.0', 'temperature(celsius)': '25.0', 'heating_cooling': 'Yes', 'incubation_period(min)': '1440.0'}\n",
      "{'peptide_sequence': 'FWK', 'self-assembly_phase': 'fiber', 'N-terminal_modification': 'Fmoc', 'C-terminal_modification': 'Free', 'Non-terminal_modification': 'nan', 'peptide_conjugate_mixture': 'Peptide', 'conjugate_partner': 'nan', 'solution': '50/50 Acetonitrile/H2O', 'peptide_concentration(mg/ml)': '7.0', 'PH': '5.0', 'temperature(celsius)': '25.0', 'heating_cooling': 'Yes', 'incubation_period(min)': '1440.0'}\n",
      "{'peptide_sequence': 'FWK', 'self-assembly_phase': 'fiber', 'N-terminal_modification': 'Fmoc', 'C-terminal_modification': 'Free', 'Non-terminal_modification': 'nan', 'peptide_conjugate_mixture': 'Peptide', 'conjugate_partner': 'nan', 'solution': '50/50 Acetonitrile/H2O', 'peptide_concentration(mg/ml)': '7.0', 'PH': '12.0', 'temperature(celsius)': '25.0', 'heating_cooling': 'Yes', 'incubation_period(min)': '1440.0'}\n",
      "{'peptide_sequence': 'FWK', 'self-assembly_phase': 'fiber', 'N-terminal_modification': 'Fmoc', 'C-terminal_modification': 'Amidation', 'Non-terminal_modification': 'nan', 'peptide_conjugate_mixture': 'Peptide', 'conjugate_partner': 'nan', 'solution': '50/50 Acetonitrile/H2O', 'peptide_concentration(mg/ml)': '7.0', 'PH': '4.0', 'temperature(celsius)': '25.0', 'heating_cooling': 'Yes', 'incubation_period(min)': '1440.0'}\n",
      "{'peptide_sequence': 'FWK', 'self-assembly_phase': 'fiber', 'N-terminal_modification': 'Fmoc', 'C-terminal_modification': 'Amidation', 'Non-terminal_modification': 'nan', 'peptide_conjugate_mixture': 'Peptide', 'conjugate_partner': 'nan', 'solution': '50/50 Acetonitrile/H2O', 'peptide_concentration(mg/ml)': '7.0', 'PH': '5.6', 'temperature(celsius)': '25.0', 'heating_cooling': 'Yes', 'incubation_period(min)': '1440.0'}\n",
      "{'peptide_sequence': 'FWK', 'self-assembly_phase': 'fiber', 'N-terminal_modification': 'Fmoc', 'C-terminal_modification': 'Amidation', 'Non-terminal_modification': 'nan', 'peptide_conjugate_mixture': 'Peptide', 'conjugate_partner': 'nan', 'solution': '50/50 Acetonitrile/H2O', 'peptide_concentration(mg/ml)': '7.0', 'PH': '7.2', 'temperature(celsius)': '25.0', 'heating_cooling': 'Yes', 'incubation_period(min)': '1440.0'}\n",
      "{'peptide_sequence': 'FWK', 'self-assembly_phase': 'fiber', 'N-terminal_modification': 'Fmoc', 'C-terminal_modification': 'Amidation', 'Non-terminal_modification': 'nan', 'peptide_conjugate_mixture': 'Peptide', 'conjugate_partner': 'nan', 'solution': '50/50 Acetonitrile/H2O', 'peptide_concentration(mg/ml)': '7.0', 'PH': '8.8', 'temperature(celsius)': '25.0', 'heating_cooling': 'Yes', 'incubation_period(min)': '1440.0'}\n",
      "{'peptide_sequence': 'FWK', 'self-assembly_phase': 'fiber', 'N-terminal_modification': 'Fmoc', 'C-terminal_modification': 'Amidation', 'Non-terminal_modification': 'nan', 'peptide_conjugate_mixture': 'Peptide', 'conjugate_partner': 'nan', 'solution': '50/50 Acetonitrile/H2O', 'peptide_concentration(mg/ml)': '7.0', 'PH': '10.4', 'temperature(celsius)': '25.0', 'heating_cooling': 'Yes', 'incubation_period(min)': '1440.0'}\n",
      "{'peptide_sequence': 'FWK', 'self-assembly_phase': 'fiber', 'N-terminal_modification': 'Fmoc', 'C-terminal_modification': 'Amidation', 'Non-terminal_modification': 'nan', 'peptide_conjugate_mixture': 'Peptide', 'conjugate_partner': 'nan', 'solution': '50/50 Acetonitrile/H2O', 'peptide_concentration(mg/ml)': '7.0', 'PH': '12.0', 'temperature(celsius)': '25.0', 'heating_cooling': 'Yes', 'incubation_period(min)': '1440.0'}\n"
     ]
    }
   ],
   "source": [
    "for c in json.loads(completion.choices[0].message.content):\n",
    "    print(c)\n",
    "\n",
    "    \n",
    "print(\"#######################\")\n",
    "print(\"#######################\") \n",
    "\n",
    "# print(json.loads(testset[14]['messages'][2]['content']))\n",
    "for t in json.loads(testset[15]['messages'][2]['content']):\n",
    "  print(t)"
   ]
  },
  {
   "cell_type": "markdown",
   "id": "36e6fb29",
   "metadata": {},
   "source": [
    "# Testing examples 17"
   ]
  },
  {
   "cell_type": "code",
   "execution_count": 76,
   "id": "726de1d2",
   "metadata": {},
   "outputs": [],
   "source": [
    "\n",
    "completion = client.chat.completions.create(\n",
    "  model=\"ft:gpt-3.5-turbo-0125:personal::95ba6w1r\",\n",
    "  messages=testset[16]['messages'][:2]\n",
    ")"
   ]
  },
  {
   "cell_type": "code",
   "execution_count": 77,
   "id": "060a3a0a",
   "metadata": {},
   "outputs": [
    {
     "name": "stdout",
     "output_type": "stream",
     "text": [
      "{'peptide_sequence': 'FFK', 'self-assembly_phase': 'vesicle', 'N-terminal_modification': 'Fmoc', 'C-terminal_modification': 'Free', 'Non-terminal_modification': 'nan', 'peptide_conjugate_mixture': 'Peptide', 'conjugate_partner': 'nan', 'solution': '1/9.5 HFP/H2O', 'peptide_concentration(mg/ml)': '1.0', 'PH': '5.0', 'temperature(celsius)': '25.0', 'heating_cooling': 'Yes', 'incubation_period(min)': '1008.0'}\n",
      "{'peptide_sequence': 'FFK', 'self-assembly_phase': 'fiber', 'N-terminal_modification': 'Fmoc', 'C-terminal_modification': 'Free', 'Non-terminal_modification': 'nan', 'peptide_conjugate_mixture': 'Peptide', 'conjugate_partner': 'nan', 'solution': '8/2.5 HFP/H2O', 'peptide_concentration(mg/ml)': '1.0', 'PH': '5.0', 'temperature(celsius)': '25.0', 'heating_cooling': 'Yes', 'incubation_period(min)': '1008.0'}\n",
      "{'peptide_sequence': 'FFK', 'self-assembly_phase': 'vesicle', 'N-terminal_modification': 'Fmoc', 'C-terminal_modification': 'Free', 'Non-terminal_modification': 'nan', 'peptide_conjugate_mixture': 'Peptide', 'conjugate_partner': 'nan', 'solution': '6.5/3.5 HFP/H2O', 'peptide_concentration(mg/ml)': '1.0', 'PH': '5.0', 'temperature(celsius)': '25.0', 'heating_cooling': 'Yes', 'incubation_period(min)': '1008.0'}\n",
      "{'peptide_sequence': 'FFK', 'self-assembly_phase': 'vesicle', 'N-terminal_modification': 'Fmoc', 'C-terminal_modification': 'Free', 'Non-terminal_modification': 'nan', 'peptide_conjugate_mixture': 'Peptide', 'conjugate_partner': 'nan', 'solution': '5/5 HFP/H2O', 'peptide_concentration(mg/ml)': '1.0', 'PH': '5.0', 'temperature(celsius)': '25.0', 'heating_cooling': 'Yes', 'incubation_period(min)': '1008.0'}\n",
      "{'peptide_sequence': 'FFK', 'self-assembly_phase': 'vesicle', 'N-terminal_modification': 'Fmoc', 'C-terminal_modification': 'Free', 'Non-terminal_modification': 'nan', 'peptide_conjugate_mixture': 'Peptide', 'conjugate_partner': 'nan', 'solution': '3.5/6.5 HFP/H2O', 'peptide_concentration(mg/ml)': '1.0', 'PH': '5.0', 'temperature(celsius)': '25.0', 'heating_cooling': 'Yes', 'incubation_period(min)': '1008.0'}\n",
      "{'peptide_sequence': 'FFK', 'self-assembly_phase': 'vesicle', 'N-terminal_modification': 'Fmoc', 'C-terminal_modification': 'Free', 'Non-terminal_modification': 'nan', 'peptide_conjugate_mixture': 'Peptide', 'conjugate_partner': 'nan', 'solution': '2/7 HFP/H2O', 'peptide_concentration(mg/ml)': '1.0', 'PH': '5.0', 'temperature(celsius)': '25.0', 'heating_cooling': 'Yes', 'incubation_period(min)': '1008.0'}\n",
      "{'peptide_sequence': 'FFK', 'self-assembly_phase': 'vesicle', 'N-terminal_modification': 'Fmoc', 'C-terminal_modification': 'Free', 'Non-terminal_modification': 'nan', 'peptide_conjugate_mixture': 'Peptide', 'conjugate_partner': 'nan', 'solution': '1.5/7.5 HFP/H2O', 'peptide_concentration(mg/ml)': '1.0', 'PH': '5.0', 'temperature(celsius)': '25.0', 'heating_cooling': 'Yes', 'incubation_period(min)': '1008.0'}\n",
      "{'peptide_sequence': 'FFK', 'self-assembly_phase': 'vesicle', 'N-terminal_modification': 'Fmoc', 'C-terminal_modification': 'Free', 'Non-terminal_modification': 'nan', 'peptide_conjugate_mixture': 'Peptide', 'conjugate_partner': 'nan', 'solution': '1/9.5 HFP/H2O', 'peptide_concentration(mg/ml)': '1.0', 'PH': '5.0', 'temperature(celsius)': '25.0', 'heating_cooling': 'Yes', 'incubation_period(min)': '10080.0'}\n",
      "{'peptide_sequence': 'FYK', 'self-assembly_phase': 'fiber', 'N-terminal_modification': 'Fmoc', 'C-terminal_modification': 'Free', 'Non-terminal_modification': 'nan', 'peptide_conjugate_mixture': 'Peptide', 'conjugate_partner': 'nan', 'solution': 'HFP', 'peptide_concentration(mg/ml)': '5.0', 'PH': '5.0', 'temperature(celsius)': '25.0', 'heating_cooling': 'Yes', 'incubation_period(min)': '1008.0'}\n",
      "{'peptide_sequence': 'YFK', 'self-assembly_phase': 'vesicle', 'N-terminal_modification': 'Fmoc', 'C-terminal_modification': 'Free', 'Non-terminal_modification': 'nan', 'peptide_conjugate_mixture': 'Peptide', 'conjugate_partner': 'nan', 'solution': 'HFP', 'peptide_concentration(mg/ml)': '5.0', 'PH': '5.0', 'temperature(celsius)': '25.0', 'heating_cooling': 'Yes', 'incubation_period(min)': '1008.0'}\n",
      "{'peptide_sequence': 'YYK', 'self-assembly_phase': 'vesicle', 'N-terminal_modification': 'Fmoc', 'C-terminal_modification': 'Free', 'Non-terminal_modification': 'nan', 'peptide_conjugate_mixture': 'Peptide', 'conjugate_partner': 'nan', 'solution': 'HFP', 'peptide_concentration(mg/ml)': '5.0', 'PH': '5.0', 'temperature(celsius)': '25.0', 'heating_cooling': 'Yes', 'incubation_period(min)': '1008.0'}\n",
      "#######################\n",
      "#######################\n",
      "{'peptide_sequence': 'FFK', 'self-assembly_phase': 'tube', 'N-terminal_modification': 'Acetylation', 'C-terminal_modification': 'Amidation', 'Non-terminal_modification': 'nan', 'peptide_conjugate_mixture': 'Peptide', 'conjugate_partner': 'nan', 'solution': '5/95 HFP/H2O', 'peptide_concentration(mg/ml)': '1.0', 'PH': '5.5', 'temperature(celsius)': '25.0', 'heating_cooling': 'No', 'incubation_period(min)': '20160.0'}\n",
      "{'peptide_sequence': 'FYK', 'self-assembly_phase': 'fiber', 'N-terminal_modification': 'Acetylation', 'C-terminal_modification': 'Amidation', 'Non-terminal_modification': 'nan', 'peptide_conjugate_mixture': 'Peptide', 'conjugate_partner': 'nan', 'solution': '5/95 HFP/H2O', 'peptide_concentration(mg/ml)': '5.0', 'PH': '5.5', 'temperature(celsius)': '25.0', 'heating_cooling': 'No', 'incubation_period(min)': '20160.0'}\n",
      "{'peptide_sequence': 'YFK', 'self-assembly_phase': 'fiber', 'N-terminal_modification': 'Acetylation', 'C-terminal_modification': 'Amidation', 'Non-terminal_modification': 'nan', 'peptide_conjugate_mixture': 'Peptide', 'conjugate_partner': 'nan', 'solution': '5/95 HFP/H2O', 'peptide_concentration(mg/ml)': '5.0', 'PH': '5.5', 'temperature(celsius)': '25.0', 'heating_cooling': 'No', 'incubation_period(min)': '20160.0'}\n"
     ]
    }
   ],
   "source": [
    "for c in json.loads(completion.choices[0].message.content):\n",
    "    print(c)\n",
    "\n",
    "    \n",
    "print(\"#######################\")\n",
    "print(\"#######################\") \n",
    "\n",
    "# print(json.loads(testset[16]['messages'][2]['content']))\n",
    "for t in json.loads(testset[16]['messages'][2]['content']):\n",
    "  print(t)"
   ]
  },
  {
   "cell_type": "markdown",
   "id": "6a37e29c",
   "metadata": {},
   "source": [
    "# Testing examples 18"
   ]
  },
  {
   "cell_type": "code",
   "execution_count": 78,
   "id": "7b837767",
   "metadata": {},
   "outputs": [],
   "source": [
    "\n",
    "completion = client.chat.completions.create(\n",
    "  model=\"ft:gpt-3.5-turbo-0125:personal::95ba6w1r\",\n",
    "  messages=testset[17]['messages'][:2]\n",
    ")"
   ]
  },
  {
   "cell_type": "code",
   "execution_count": 79,
   "id": "cd30303c",
   "metadata": {},
   "outputs": [
    {
     "name": "stdout",
     "output_type": "stream",
     "text": [
      "{'peptide_sequence': 'lld', 'self-assembly_phase': 'hydrogel', 'N-terminal_modification': 'Free', 'C-terminal_modification': 'Free', 'Non-terminal_modification': 'nan', 'peptide_conjugate_mixture': 'Peptide', 'conjugate_partner': 'nan', 'solution': '100 H2O', 'peptide_concentration(mg/ml)': '1.0', 'PH': '7.0', 'temperature(celsius)': '25.0', 'heating_cooling': 'No', 'incubation_period(min)': '1440.0'}\n",
      "{'peptide_sequence': 'lld', 'self-assembly_phase': 'hydrogel', 'N-terminal_modification': 'Free', 'C-terminal_modification': 'Free', 'Non-terminal_modification': 'nan', 'peptide_conjugate_mixture': 'Peptide', 'conjugate_partner': 'nan', 'solution': '100 H2O', 'peptide_concentration(mg/ml)': '1.0', 'PH': '7.0', 'temperature(celsius)': '25.0', 'heating_cooling': 'No', 'incubation_period(min)': '1440.0'}\n",
      "{'peptide_sequence': 'ddl', 'self-assembly_phase': 'hydrogel', 'N-terminal_modification': 'Free', 'C-terminal_modification': 'Free', 'Non-terminal_modification': 'nan', 'peptide_conjugate_mixture': 'Peptide', 'conjugate_partner': 'nan', 'solution': '100 H2O', 'peptide_concentration(mg/ml)': '1.0', 'PH': '7.0', 'temperature(celsius)': '25.0', 'heating_cooling': 'No', 'incubation_period(min)': '1440.0'}\n",
      "#######################\n",
      "#######################\n",
      "{'peptide_sequence': 'fFV', 'self-assembly_phase': 'fiber', 'N-terminal_modification': 'Free', 'C-terminal_modification': 'Free', 'Non-terminal_modification': 'nan', 'peptide_conjugate_mixture': 'Peptide', 'conjugate_partner': 'nan', 'solution': '100 PBS', 'peptide_concentration(mg/ml)': '7.0', 'PH': '7.4', 'temperature(celsius)': '25.0', 'heating_cooling': 'No', 'incubation_period(min)': 'nan'}\n",
      "{'peptide_sequence': 'Ffv', 'self-assembly_phase': 'fiber', 'N-terminal_modification': 'Free', 'C-terminal_modification': 'Free', 'Non-terminal_modification': 'nan', 'peptide_conjugate_mixture': 'Peptide', 'conjugate_partner': 'nan', 'solution': '100 PBS', 'peptide_concentration(mg/ml)': '7.0', 'PH': '7.4', 'temperature(celsius)': '25.0', 'heating_cooling': 'No', 'incubation_period(min)': 'nan'}\n",
      "{'peptide_sequence': 'FFV', 'self-assembly_phase': 'none', 'N-terminal_modification': 'Free', 'C-terminal_modification': 'Free', 'Non-terminal_modification': 'nan', 'peptide_conjugate_mixture': 'Peptide', 'conjugate_partner': 'nan', 'solution': '100 PBS', 'peptide_concentration(mg/ml)': '7.0', 'PH': '7.4', 'temperature(celsius)': '25.0', 'heating_cooling': 'No', 'incubation_period(min)': 'nan'}\n",
      "{'peptide_sequence': 'ffv', 'self-assembly_phase': 'none', 'N-terminal_modification': 'Free', 'C-terminal_modification': 'Free', 'Non-terminal_modification': 'nan', 'peptide_conjugate_mixture': 'Peptide', 'conjugate_partner': 'nan', 'solution': '100 PBS', 'peptide_concentration(mg/ml)': '7.0', 'PH': '7.4', 'temperature(celsius)': '25.0', 'heating_cooling': 'No', 'incubation_period(min)': 'nan'}\n"
     ]
    }
   ],
   "source": [
    "for c in json.loads(completion.choices[0].message.content):\n",
    "    print(c)\n",
    "\n",
    "    \n",
    "print(\"#######################\")\n",
    "print(\"#######################\") \n",
    "\n",
    "# print(json.loads(testset[16]['messages'][2]['content']))\n",
    "for t in json.loads(testset[17]['messages'][2]['content']):\n",
    "  print(t)"
   ]
  },
  {
   "cell_type": "markdown",
   "id": "b684eb93",
   "metadata": {},
   "source": [
    "# Testing examples 19"
   ]
  },
  {
   "cell_type": "code",
   "execution_count": 80,
   "id": "de568eeb",
   "metadata": {},
   "outputs": [],
   "source": [
    "\n",
    "completion = client.chat.completions.create(\n",
    "  model=\"ft:gpt-3.5-turbo-0125:personal::95ba6w1r\",\n",
    "  messages=testset[18]['messages'][:2]\n",
    ")"
   ]
  },
  {
   "cell_type": "code",
   "execution_count": 81,
   "id": "25b5227b",
   "metadata": {},
   "outputs": [
    {
     "name": "stdout",
     "output_type": "stream",
     "text": [
      "{'peptide_sequence': 'FF', 'self-assembly_phase': 'hydrogel', 'N-terminal_modification': 'Fmoc', 'C-terminal_modification': 'Free', 'Non-terminal_modification': 'nan', 'peptide_conjugate_mixture': 'Peptide', 'conjugate_partner': 'nan', 'solution': '5/95 HFP/H2O', 'peptide_concentration(mg/ml)': '5.0', 'PH': '7.0', 'temperature(celsius)': '25.0', 'heating_cooling': 'No', 'incubation_period(min)': 'nan'}\n",
      "{'peptide_sequence': 'FF', 'self-assembly_phase': 'hydrogel', 'N-terminal_modification': 'Fmoc', 'C-terminal_modification': 'Free', 'Non-terminal_modification': 'nan', 'peptide_conjugate_mixture': 'Peptide', 'conjugate_partner': 'nan', 'solution': '5/95 HFP/H2O', 'peptide_concentration(mg/ml)': '5.0', 'PH': '7.0', 'temperature(celsius)': '25.0', 'heating_cooling': 'No', 'incubation_period(min)': 'nan'}\n",
      "{'peptide_sequence': 'NalNal', 'self-assembly_phase': 'hydrogel', 'N-terminal_modification': 'Fmoc', 'C-terminal_modification': 'Free', 'Non-terminal_modification': 'nan', 'peptide_conjugate_mixture': 'Peptide', 'conjugate_partner': 'nan', 'solution': '5/95 HFP/H2O', 'peptide_concentration(mg/ml)': '5.0', 'PH': '7.0', 'temperature(celsius)': '25.0', 'heating_cooling': 'No', 'incubation_period(min)': 'nan'}\n",
      "{'peptide_sequence': 'FP', 'self-assembly_phase': 'hydrogel', 'N-terminal_modification': 'Fmoc', 'C-terminal_modification': 'Free', 'Non-terminal_modification': 'nan', 'peptide_conjugate_mixture': 'Peptide', 'conjugate_partner': 'nan', 'solution': '5/95 HFP/H2O', 'peptide_concentration(mg/ml)': '5.0', 'PH': '7.0', 'temperature(celsius)': '25.0', 'heating_cooling': 'No', 'incubation_period(min)': 'nan'}\n",
      "{'peptide_sequence': 'FS', 'self-assembly_phase': 'hydrogel', 'N-terminal_modification': 'Fmoc', 'C-terminal_modification': 'Free', 'Non-terminal_modification': 'nan', 'peptide_conjugate_mixture': 'Peptide', 'conjugate_partner': 'nan', 'solution': '5/95 HFP/H2O', 'peptide_concentration(mg/ml)': '5.0', 'PH': '7.0', 'temperature(celsius)': '25.0', 'heating_cooling': 'No', 'incubation_period(min)': 'nan'}\n",
      "{'peptide_sequence': 'FG', 'self-assembly_phase': 'hydrogel', 'N-terminal_modification': 'Fmoc', 'C-terminal_modification': 'Free', 'Non-terminal_modification': 'nan', 'peptide_conjugate_mixture': 'Peptide', 'conjugate_partner': 'nan', 'solution': '5/95 HFP/H2O', 'peptide_concentration(mg/ml)': '5.0', 'PH': '7.0', 'temperature(celsius)': '25.0', 'heating_cooling': 'No', 'incubation_period(min)': 'nan'}\n",
      "{'peptide_sequence': 'GF', 'self-assembly_phase': 'hydrogel', 'N-terminal_modification': 'Fmoc', 'C-terminal_modification': 'Free', 'Non-terminal_modification': 'nan', 'peptide_conjugate_mixture': 'Peptide', 'conjugate_partner': 'nan', 'solution': '5/95 HFP/H2O', 'peptide_concentration(mg/ml)': '5.0', 'PH': '7.0', 'temperature(celsius)': '25.0', 'heating_cooling': 'No', 'incubation_period(min)': 'nan'}\n",
      "#######################\n",
      "#######################\n",
      "{'peptide_sequence': 'RGD', 'self-assembly_phase': 'tube', 'N-terminal_modification': 'Fmoc', 'C-terminal_modification': 'Free', 'Non-terminal_modification': 'nan', 'peptide_conjugate_mixture': 'Peptide', 'conjugate_partner': 'nan', 'solution': '20/80 DMSO/H2O', 'peptide_concentration(mg/ml)': '5.0', 'PH': '3.0', 'temperature(celsius)': '25.0', 'heating_cooling': 'No', 'incubation_period(min)': 'nan'}\n",
      "{'peptide_sequence': 'RGD', 'self-assembly_phase': 'tube', 'N-terminal_modification': 'Fmoc', 'C-terminal_modification': 'Free', 'Non-terminal_modification': 'nan', 'peptide_conjugate_mixture': 'Peptide', 'conjugate_partner': 'nan', 'solution': '5/95 DMSO/H2O', 'peptide_concentration(mg/ml)': '5.0', 'PH': '3.0', 'temperature(celsius)': '25.0', 'heating_cooling': 'No', 'incubation_period(min)': 'nan'}\n",
      "{'peptide_sequence': 'RGD', 'self-assembly_phase': 'tube', 'N-terminal_modification': 'Fmoc', 'C-terminal_modification': 'Free', 'Non-terminal_modification': 'nan', 'peptide_conjugate_mixture': 'Peptide', 'conjugate_partner': 'nan', 'solution': '20/80 DMSO/H2O', 'peptide_concentration(mg/ml)': '5.0', 'PH': '5.2', 'temperature(celsius)': '25.0', 'heating_cooling': 'No', 'incubation_period(min)': 'nan'}\n",
      "{'peptide_sequence': 'RGD', 'self-assembly_phase': 'tube', 'N-terminal_modification': 'Fmoc', 'C-terminal_modification': 'Free', 'Non-terminal_modification': 'nan', 'peptide_conjugate_mixture': 'Peptide', 'conjugate_partner': 'nan', 'solution': '5/95 DMSO/H2O', 'peptide_concentration(mg/ml)': '5.0', 'PH': '5.2', 'temperature(celsius)': '25.0', 'heating_cooling': 'No', 'incubation_period(min)': 'nan'}\n",
      "{'peptide_sequence': 'RGD', 'self-assembly_phase': 'tube', 'N-terminal_modification': 'Fmoc', 'C-terminal_modification': 'Free', 'Non-terminal_modification': 'nan', 'peptide_conjugate_mixture': 'Peptide', 'conjugate_partner': 'nan', 'solution': '20/80 DMSO/H2O', 'peptide_concentration(mg/ml)': '5.0', 'PH': '5.85', 'temperature(celsius)': '25.0', 'heating_cooling': 'No', 'incubation_period(min)': 'nan'}\n",
      "{'peptide_sequence': 'RGD', 'self-assembly_phase': 'tube', 'N-terminal_modification': 'Fmoc', 'C-terminal_modification': 'Free', 'Non-terminal_modification': 'nan', 'peptide_conjugate_mixture': 'Peptide', 'conjugate_partner': 'nan', 'solution': '5/95 DMSO/H2O', 'peptide_concentration(mg/ml)': '5.0', 'PH': '5.85', 'temperature(celsius)': '25.0', 'heating_cooling': 'No', 'incubation_period(min)': 'nan'}\n",
      "{'peptide_sequence': 'RGD', 'self-assembly_phase': 'none', 'N-terminal_modification': 'Fmoc', 'C-terminal_modification': 'Free', 'Non-terminal_modification': 'nan', 'peptide_conjugate_mixture': 'Peptide', 'conjugate_partner': 'nan', 'solution': '20/80 DMSO/H2O', 'peptide_concentration(mg/ml)': '5.0', 'PH': '7.15', 'temperature(celsius)': '25.0', 'heating_cooling': 'No', 'incubation_period(min)': 'nan'}\n",
      "{'peptide_sequence': 'RGD', 'self-assembly_phase': 'none', 'N-terminal_modification': 'Fmoc', 'C-terminal_modification': 'Free', 'Non-terminal_modification': 'nan', 'peptide_conjugate_mixture': 'Peptide', 'conjugate_partner': 'nan', 'solution': '5/95 DMSO/H2O', 'peptide_concentration(mg/ml)': '5.0', 'PH': '7.15', 'temperature(celsius)': '25.0', 'heating_cooling': 'No', 'incubation_period(min)': 'nan'}\n",
      "{'peptide_sequence': 'RGD', 'self-assembly_phase': 'none', 'N-terminal_modification': 'Fmoc', 'C-terminal_modification': 'Free', 'Non-terminal_modification': 'nan', 'peptide_conjugate_mixture': 'Peptide', 'conjugate_partner': 'nan', 'solution': '20/80 DMSO/H2O', 'peptide_concentration(mg/ml)': '5.0', 'PH': '7.8', 'temperature(celsius)': '25.0', 'heating_cooling': 'No', 'incubation_period(min)': 'nan'}\n",
      "{'peptide_sequence': 'RGD', 'self-assembly_phase': 'none', 'N-terminal_modification': 'Fmoc', 'C-terminal_modification': 'Free', 'Non-terminal_modification': 'nan', 'peptide_conjugate_mixture': 'Peptide', 'conjugate_partner': 'nan', 'solution': '5/95 DMSO/H2O', 'peptide_concentration(mg/ml)': '5.0', 'PH': '7.8', 'temperature(celsius)': '25.0', 'heating_cooling': 'No', 'incubation_period(min)': 'nan'}\n",
      "{'peptide_sequence': 'FG', 'self-assembly_phase': 'hydrogel', 'N-terminal_modification': 'Fmoc', 'C-terminal_modification': 'Free', 'Non-terminal_modification': 'nan', 'peptide_conjugate_mixture': 'Peptide', 'conjugate_partner': 'nan', 'solution': '20/80 DMSO/H2O', 'peptide_concentration(mg/ml)': '5.0', 'PH': '3.0', 'temperature(celsius)': '25.0', 'heating_cooling': 'No', 'incubation_period(min)': 'nan'}\n",
      "{'peptide_sequence': 'FG', 'self-assembly_phase': 'hydrogel', 'N-terminal_modification': 'Fmoc', 'C-terminal_modification': 'Free', 'Non-terminal_modification': 'nan', 'peptide_conjugate_mixture': 'Peptide', 'conjugate_partner': 'nan', 'solution': '20/80 DMSO/H2O', 'peptide_concentration(mg/ml)': '5.0', 'PH': '4.8', 'temperature(celsius)': '25.0', 'heating_cooling': 'No', 'incubation_period(min)': 'nan'}\n",
      "{'peptide_sequence': 'FG', 'self-assembly_phase': 'none', 'N-terminal_modification': 'Fmoc', 'C-terminal_modification': 'Free', 'Non-terminal_modification': 'nan', 'peptide_conjugate_mixture': 'Peptide', 'conjugate_partner': 'nan', 'solution': '20/80 DMSO/H2O', 'peptide_concentration(mg/ml)': '5.0', 'PH': '6.6', 'temperature(celsius)': '25.0', 'heating_cooling': 'No', 'incubation_period(min)': 'nan'}\n",
      "{'peptide_sequence': 'FG', 'self-assembly_phase': 'none', 'N-terminal_modification': 'Fmoc', 'C-terminal_modification': 'Free', 'Non-terminal_modification': 'nan', 'peptide_conjugate_mixture': 'Peptide', 'conjugate_partner': 'nan', 'solution': '20/80 DMSO/H2O', 'peptide_concentration(mg/ml)': '5.0', 'PH': '8.4', 'temperature(celsius)': '25.0', 'heating_cooling': 'No', 'incubation_period(min)': 'nan'}\n",
      "{'peptide_sequence': 'FG', 'self-assembly_phase': 'none', 'N-terminal_modification': 'Fmoc', 'C-terminal_modification': 'Free', 'Non-terminal_modification': 'nan', 'peptide_conjugate_mixture': 'Peptide', 'conjugate_partner': 'nan', 'solution': '20/80 DMSO/H2O', 'peptide_concentration(mg/ml)': '5.0', 'PH': '10.2', 'temperature(celsius)': '25.0', 'heating_cooling': 'No', 'incubation_period(min)': 'nan'}\n",
      "{'peptide_sequence': 'FG', 'self-assembly_phase': 'none', 'N-terminal_modification': 'Fmoc', 'C-terminal_modification': 'Free', 'Non-terminal_modification': 'nan', 'peptide_conjugate_mixture': 'Peptide', 'conjugate_partner': 'nan', 'solution': '20/80 DMSO/H2O', 'peptide_concentration(mg/ml)': '5.0', 'PH': '12.0', 'temperature(celsius)': '25.0', 'heating_cooling': 'No', 'incubation_period(min)': 'nan'}\n",
      "{'peptide_sequence': 'FG', 'self-assembly_phase': 'hydrogel', 'N-terminal_modification': 'Fmoc', 'C-terminal_modification': 'Free', 'Non-terminal_modification': 'nan', 'peptide_conjugate_mixture': 'Peptide', 'conjugate_partner': 'nan', 'solution': '5/95 DMSO/H2O', 'peptide_concentration(mg/ml)': '5.0', 'PH': '3.0', 'temperature(celsius)': '25.0', 'heating_cooling': 'No', 'incubation_period(min)': 'nan'}\n",
      "{'peptide_sequence': 'FG', 'self-assembly_phase': 'hydrogel', 'N-terminal_modification': 'Fmoc', 'C-terminal_modification': 'Free', 'Non-terminal_modification': 'nan', 'peptide_conjugate_mixture': 'Peptide', 'conjugate_partner': 'nan', 'solution': '5/95 DMSO/H2O', 'peptide_concentration(mg/ml)': '5.0', 'PH': '4.8', 'temperature(celsius)': '25.0', 'heating_cooling': 'No', 'incubation_period(min)': 'nan'}\n",
      "{'peptide_sequence': 'FG', 'self-assembly_phase': 'none', 'N-terminal_modification': 'Fmoc', 'C-terminal_modification': 'Free', 'Non-terminal_modification': 'nan', 'peptide_conjugate_mixture': 'Peptide', 'conjugate_partner': 'nan', 'solution': '5/95 DMSO/H2O', 'peptide_concentration(mg/ml)': '5.0', 'PH': '6.6', 'temperature(celsius)': '25.0', 'heating_cooling': 'No', 'incubation_period(min)': 'nan'}\n",
      "{'peptide_sequence': 'FG', 'self-assembly_phase': 'none', 'N-terminal_modification': 'Fmoc', 'C-terminal_modification': 'Free', 'Non-terminal_modification': 'nan', 'peptide_conjugate_mixture': 'Peptide', 'conjugate_partner': 'nan', 'solution': '5/95 DMSO/H2O', 'peptide_concentration(mg/ml)': '5.0', 'PH': '8.4', 'temperature(celsius)': '25.0', 'heating_cooling': 'No', 'incubation_period(min)': 'nan'}\n",
      "{'peptide_sequence': 'FG', 'self-assembly_phase': 'none', 'N-terminal_modification': 'Fmoc', 'C-terminal_modification': 'Free', 'Non-terminal_modification': 'nan', 'peptide_conjugate_mixture': 'Peptide', 'conjugate_partner': 'nan', 'solution': '5/95 DMSO/H2O', 'peptide_concentration(mg/ml)': '5.0', 'PH': '10.2', 'temperature(celsius)': '25.0', 'heating_cooling': 'No', 'incubation_period(min)': 'nan'}\n",
      "{'peptide_sequence': 'FG', 'self-assembly_phase': 'none', 'N-terminal_modification': 'Fmoc', 'C-terminal_modification': 'Free', 'Non-terminal_modification': 'nan', 'peptide_conjugate_mixture': 'Peptide', 'conjugate_partner': 'nan', 'solution': '5/95 DMSO/H2O', 'peptide_concentration(mg/ml)': '5.0', 'PH': '12.0', 'temperature(celsius)': '25.0', 'heating_cooling': 'No', 'incubation_period(min)': 'nan'}\n",
      "{'peptide_sequence': 'FF', 'self-assembly_phase': 'hydrogel', 'N-terminal_modification': 'Fmoc', 'C-terminal_modification': 'Free', 'Non-terminal_modification': 'nan', 'peptide_conjugate_mixture': 'Peptide', 'conjugate_partner': 'nan', 'solution': '20/80 DMSO/H2O', 'peptide_concentration(mg/ml)': '5.0', 'PH': '3.0', 'temperature(celsius)': '25.0', 'heating_cooling': 'No', 'incubation_period(min)': 'nan'}\n",
      "{'peptide_sequence': 'FF', 'self-assembly_phase': 'hydrogel', 'N-terminal_modification': 'Fmoc', 'C-terminal_modification': 'Free', 'Non-terminal_modification': 'nan', 'peptide_conjugate_mixture': 'Peptide', 'conjugate_partner': 'nan', 'solution': '20/80 DMSO/H2O', 'peptide_concentration(mg/ml)': '5.0', 'PH': '4.8', 'temperature(celsius)': '25.0', 'heating_cooling': 'No', 'incubation_period(min)': 'nan'}\n",
      "{'peptide_sequence': 'FF', 'self-assembly_phase': 'hydrogel', 'N-terminal_modification': 'Fmoc', 'C-terminal_modification': 'Free', 'Non-terminal_modification': 'nan', 'peptide_conjugate_mixture': 'Peptide', 'conjugate_partner': 'nan', 'solution': '20/80 DMSO/H2O', 'peptide_concentration(mg/ml)': '5.0', 'PH': '6.6', 'temperature(celsius)': '25.0', 'heating_cooling': 'No', 'incubation_period(min)': 'nan'}\n",
      "{'peptide_sequence': 'FF', 'self-assembly_phase': 'hydrogel', 'N-terminal_modification': 'Fmoc', 'C-terminal_modification': 'Free', 'Non-terminal_modification': 'nan', 'peptide_conjugate_mixture': 'Peptide', 'conjugate_partner': 'nan', 'solution': '20/80 DMSO/H2O', 'peptide_concentration(mg/ml)': '5.0', 'PH': '8.4', 'temperature(celsius)': '25.0', 'heating_cooling': 'No', 'incubation_period(min)': 'nan'}\n",
      "{'peptide_sequence': 'FF', 'self-assembly_phase': 'hydrogel', 'N-terminal_modification': 'Fmoc', 'C-terminal_modification': 'Free', 'Non-terminal_modification': 'nan', 'peptide_conjugate_mixture': 'Peptide', 'conjugate_partner': 'nan', 'solution': '20/80 DMSO/H2O', 'peptide_concentration(mg/ml)': '5.0', 'PH': '10.2', 'temperature(celsius)': '25.0', 'heating_cooling': 'No', 'incubation_period(min)': 'nan'}\n",
      "{'peptide_sequence': 'FF', 'self-assembly_phase': 'hydrogel', 'N-terminal_modification': 'Fmoc', 'C-terminal_modification': 'Free', 'Non-terminal_modification': 'nan', 'peptide_conjugate_mixture': 'Peptide', 'conjugate_partner': 'nan', 'solution': '20/80 DMSO/H2O', 'peptide_concentration(mg/ml)': '5.0', 'PH': '12.0', 'temperature(celsius)': '25.0', 'heating_cooling': 'No', 'incubation_period(min)': 'nan'}\n",
      "{'peptide_sequence': 'FF', 'self-assembly_phase': 'hydrogel', 'N-terminal_modification': 'Fmoc', 'C-terminal_modification': 'Free', 'Non-terminal_modification': 'nan', 'peptide_conjugate_mixture': 'Peptide', 'conjugate_partner': 'nan', 'solution': '5/95 DMSO/H2O', 'peptide_concentration(mg/ml)': '5.0', 'PH': '3.0', 'temperature(celsius)': '25.0', 'heating_cooling': 'No', 'incubation_period(min)': 'nan'}\n",
      "{'peptide_sequence': 'FF', 'self-assembly_phase': 'hydrogel', 'N-terminal_modification': 'Fmoc', 'C-terminal_modification': 'Free', 'Non-terminal_modification': 'nan', 'peptide_conjugate_mixture': 'Peptide', 'conjugate_partner': 'nan', 'solution': '5/95 DMSO/H2O', 'peptide_concentration(mg/ml)': '5.0', 'PH': '4.8', 'temperature(celsius)': '25.0', 'heating_cooling': 'No', 'incubation_period(min)': 'nan'}\n",
      "{'peptide_sequence': 'FF', 'self-assembly_phase': 'hydrogel', 'N-terminal_modification': 'Fmoc', 'C-terminal_modification': 'Free', 'Non-terminal_modification': 'nan', 'peptide_conjugate_mixture': 'Peptide', 'conjugate_partner': 'nan', 'solution': '5/95 DMSO/H2O', 'peptide_concentration(mg/ml)': '5.0', 'PH': '6.6', 'temperature(celsius)': '25.0', 'heating_cooling': 'No', 'incubation_period(min)': 'nan'}\n",
      "{'peptide_sequence': 'FF', 'self-assembly_phase': 'hydrogel', 'N-terminal_modification': 'Fmoc', 'C-terminal_modification': 'Free', 'Non-terminal_modification': 'nan', 'peptide_conjugate_mixture': 'Peptide', 'conjugate_partner': 'nan', 'solution': '5/95 DMSO/H2O', 'peptide_concentration(mg/ml)': '5.0', 'PH': '8.4', 'temperature(celsius)': '25.0', 'heating_cooling': 'No', 'incubation_period(min)': 'nan'}\n",
      "{'peptide_sequence': 'FF', 'self-assembly_phase': 'hydrogel', 'N-terminal_modification': 'Fmoc', 'C-terminal_modification': 'Free', 'Non-terminal_modification': 'nan', 'peptide_conjugate_mixture': 'Peptide', 'conjugate_partner': 'nan', 'solution': '5/95 DMSO/H2O', 'peptide_concentration(mg/ml)': '5.0', 'PH': '10.2', 'temperature(celsius)': '25.0', 'heating_cooling': 'No', 'incubation_period(min)': 'nan'}\n",
      "{'peptide_sequence': 'FF', 'self-assembly_phase': 'hydrogel', 'N-terminal_modification': 'Fmoc', 'C-terminal_modification': 'Free', 'Non-terminal_modification': 'nan', 'peptide_conjugate_mixture': 'Peptide', 'conjugate_partner': 'nan', 'solution': '5/95 DMSO/H2O', 'peptide_concentration(mg/ml)': '5.0', 'PH': '12.0', 'temperature(celsius)': '25.0', 'heating_cooling': 'No', 'incubation_period(min)': 'nan'}\n",
      "{'peptide_sequence': 'FP', 'self-assembly_phase': 'none', 'N-terminal_modification': 'Fmoc', 'C-terminal_modification': 'Free', 'Non-terminal_modification': 'nan', 'peptide_conjugate_mixture': 'Peptide', 'conjugate_partner': 'nan', 'solution': '20/80 DMSO/H2O', 'peptide_concentration(mg/ml)': '5.0', 'PH': '3.0', 'temperature(celsius)': '25.0', 'heating_cooling': 'No', 'incubation_period(min)': 'nan'}\n",
      "{'peptide_sequence': 'FP', 'self-assembly_phase': 'none', 'N-terminal_modification': 'Fmoc', 'C-terminal_modification': 'Free', 'Non-terminal_modification': 'nan', 'peptide_conjugate_mixture': 'Peptide', 'conjugate_partner': 'nan', 'solution': '20/80 DMSO/H2O', 'peptide_concentration(mg/ml)': '5.0', 'PH': '4.8', 'temperature(celsius)': '25.0', 'heating_cooling': 'No', 'incubation_period(min)': 'nan'}\n",
      "{'peptide_sequence': 'FP', 'self-assembly_phase': 'none', 'N-terminal_modification': 'Fmoc', 'C-terminal_modification': 'Free', 'Non-terminal_modification': 'nan', 'peptide_conjugate_mixture': 'Peptide', 'conjugate_partner': 'nan', 'solution': '20/80 DMSO/H2O', 'peptide_concentration(mg/ml)': '5.0', 'PH': '6.6', 'temperature(celsius)': '25.0', 'heating_cooling': 'No', 'incubation_period(min)': 'nan'}\n",
      "{'peptide_sequence': 'FP', 'self-assembly_phase': 'none', 'N-terminal_modification': 'Fmoc', 'C-terminal_modification': 'Free', 'Non-terminal_modification': 'nan', 'peptide_conjugate_mixture': 'Peptide', 'conjugate_partner': 'nan', 'solution': '20/80 DMSO/H2O', 'peptide_concentration(mg/ml)': '5.0', 'PH': '8.4', 'temperature(celsius)': '25.0', 'heating_cooling': 'No', 'incubation_period(min)': 'nan'}\n",
      "{'peptide_sequence': 'FP', 'self-assembly_phase': 'none', 'N-terminal_modification': 'Fmoc', 'C-terminal_modification': 'Free', 'Non-terminal_modification': 'nan', 'peptide_conjugate_mixture': 'Peptide', 'conjugate_partner': 'nan', 'solution': '20/80 DMSO/H2O', 'peptide_concentration(mg/ml)': '5.0', 'PH': '10.2', 'temperature(celsius)': '25.0', 'heating_cooling': 'No', 'incubation_period(min)': 'nan'}\n",
      "{'peptide_sequence': 'FP', 'self-assembly_phase': 'none', 'N-terminal_modification': 'Fmoc', 'C-terminal_modification': 'Free', 'Non-terminal_modification': 'nan', 'peptide_conjugate_mixture': 'Peptide', 'conjugate_partner': 'nan', 'solution': '20/80 DMSO/H2O', 'peptide_concentration(mg/ml)': '5.0', 'PH': '12.0', 'temperature(celsius)': '25.0', 'heating_cooling': 'No', 'incubation_period(min)': 'nan'}\n",
      "{'peptide_sequence': 'FP', 'self-assembly_phase': 'none', 'N-terminal_modification': 'Fmoc', 'C-terminal_modification': 'Free', 'Non-terminal_modification': 'nan', 'peptide_conjugate_mixture': 'Peptide', 'conjugate_partner': 'nan', 'solution': '5/95 DMSO/H2O', 'peptide_concentration(mg/ml)': '5.0', 'PH': '3.0', 'temperature(celsius)': '25.0', 'heating_cooling': 'No', 'incubation_period(min)': 'nan'}\n",
      "{'peptide_sequence': 'FP', 'self-assembly_phase': 'none', 'N-terminal_modification': 'Fmoc', 'C-terminal_modification': 'Free', 'Non-terminal_modification': 'nan', 'peptide_conjugate_mixture': 'Peptide', 'conjugate_partner': 'nan', 'solution': '5/95 DMSO/H2O', 'peptide_concentration(mg/ml)': '5.0', 'PH': '4.8', 'temperature(celsius)': '25.0', 'heating_cooling': 'No', 'incubation_period(min)': 'nan'}\n",
      "{'peptide_sequence': 'FP', 'self-assembly_phase': 'none', 'N-terminal_modification': 'Fmoc', 'C-terminal_modification': 'Free', 'Non-terminal_modification': 'nan', 'peptide_conjugate_mixture': 'Peptide', 'conjugate_partner': 'nan', 'solution': '5/95 DMSO/H2O', 'peptide_concentration(mg/ml)': '5.0', 'PH': '6.6', 'temperature(celsius)': '25.0', 'heating_cooling': 'No', 'incubation_period(min)': 'nan'}\n",
      "{'peptide_sequence': 'FP', 'self-assembly_phase': 'none', 'N-terminal_modification': 'Fmoc', 'C-terminal_modification': 'Free', 'Non-terminal_modification': 'nan', 'peptide_conjugate_mixture': 'Peptide', 'conjugate_partner': 'nan', 'solution': '5/95 DMSO/H2O', 'peptide_concentration(mg/ml)': '5.0', 'PH': '8.4', 'temperature(celsius)': '25.0', 'heating_cooling': 'No', 'incubation_period(min)': 'nan'}\n",
      "{'peptide_sequence': 'FP', 'self-assembly_phase': 'none', 'N-terminal_modification': 'Fmoc', 'C-terminal_modification': 'Free', 'Non-terminal_modification': 'nan', 'peptide_conjugate_mixture': 'Peptide', 'conjugate_partner': 'nan', 'solution': '5/95 DMSO/H2O', 'peptide_concentration(mg/ml)': '5.0', 'PH': '10.2', 'temperature(celsius)': '25.0', 'heating_cooling': 'No', 'incubation_period(min)': 'nan'}\n",
      "{'peptide_sequence': 'FP', 'self-assembly_phase': 'none', 'N-terminal_modification': 'Fmoc', 'C-terminal_modification': 'Free', 'Non-terminal_modification': 'nan', 'peptide_conjugate_mixture': 'Peptide', 'conjugate_partner': 'nan', 'solution': '5/95 DMSO/H2O', 'peptide_concentration(mg/ml)': '5.0', 'PH': '12.0', 'temperature(celsius)': '25.0', 'heating_cooling': 'No', 'incubation_period(min)': 'nan'}\n"
     ]
    }
   ],
   "source": [
    "for c in json.loads(completion.choices[0].message.content):\n",
    "    print(c)\n",
    "\n",
    "    \n",
    "print(\"#######################\")\n",
    "print(\"#######################\") \n",
    "\n",
    "# print(json.loads(testset[16]['messages'][2]['content']))\n",
    "for t in json.loads(testset[18]['messages'][2]['content']):\n",
    "  print(t)"
   ]
  },
  {
   "cell_type": "markdown",
   "id": "425e3756",
   "metadata": {},
   "source": [
    "# Testing examples 20"
   ]
  },
  {
   "cell_type": "code",
   "execution_count": 90,
   "id": "3c808c57",
   "metadata": {},
   "outputs": [],
   "source": [
    "\n",
    "completion = client.chat.completions.create(\n",
    "  model=\"ft:gpt-3.5-turbo-0125:personal::95ba6w1r\",\n",
    "  messages=testset[19]['messages'][:2]\n",
    ")"
   ]
  },
  {
   "cell_type": "code",
   "execution_count": 92,
   "id": "1525b155",
   "metadata": {},
   "outputs": [
    {
     "name": "stdout",
     "output_type": "stream",
     "text": [
      "{'peptide_sequence': 'lFF', 'self-assembly_phase': 'none', 'N-terminal_modification': 'Free', 'C-terminal_modification': 'Free', 'Non-terminal_modification': 'nan', 'peptide_conjugate_mixture': 'Peptide', 'conjugate_partner': 'nan', 'solution': '100 H2O', 'peptide_concentration(mg/ml)': '11.3', 'PH': '7.0', 'temperature(degree celsius)': '25.0', 'heating_cooling': 'No', 'incubation_period(min)': '2160.0'}\n",
      "{'peptide_sequence': 'lFF', 'self-assembly_phase': 'none', 'N-terminal_modification': 'Free', 'C-terminal_modification': 'Free', 'Non-terminal_modification': 'nan', 'peptide_conjugate_mixture': 'Peptide', 'conjugate_partner': 'nan', 'solution': '100 H2O', 'peptide_concentration(mg/ml)': '11.3', 'PH': '7.0', 'temperature(degree celsius)': '25.0', 'heating_cooling': 'No', 'incubation_period(min)': '4320.0'}\n",
      "{'peptide_sequence': 'lFF', 'self-assembly_phase': 'fiber', 'N-terminal_modification': 'Free', 'C-terminal_modification': 'Free', 'Non-terminal_modification': 'nan', 'peptide_conjugate_mixture': 'Peptide', 'conjugate_partner': 'nan', 'solution': '100 H2O', 'peptide_concentration(mg/ml)': '12.5', 'PH': '7.0', 'temperature(degree celsius)': '25.0', 'heating_cooling': 'No', 'incubation_period(min)': '4320.0'}\n",
      "{'peptide_sequence': 'lFF', 'self-assembly_phase': 'fiber', 'N-terminal_modification': 'Free', 'C-terminal_modification': 'Free', 'Non-terminal_modification': 'nan', 'peptide_conjugate_mixture': 'Peptide', 'conjugate_partner': 'nan', 'solution': '100 H2O', 'peptide_concentration(mg/ml)': '14.1', 'PH': '7.0', 'temperature(degree celsius)': '25.0', 'heating_cooling': 'No', 'incubation_period(min)': '4320.0'}\n",
      "{'peptide_sequence': 'lFF', 'self-assembly_phase': 'fiber', 'N-terminal_modification': 'Free', 'C-terminal_modification': 'Free', 'Non-terminal_modification': 'nan', 'peptide_conjugate_mixture': 'Peptide', 'conjugate_partner': 'nan', 'solution': '100 H2O', 'peptide_concentration(mg/ml)': '15.7', 'PH': '7.0', 'temperature(degree celsius)': '25.0', 'heating_cooling': 'No', 'incubation_period(min)': '4320.0'}\n",
      "{'peptide_sequence': 'lFF', 'self-assembly_phase': 'none', 'N-terminal_modification': 'Free', 'C-terminal_modification': 'Free', 'Non-terminal_modification': 'nan', 'peptide_conjugate_mixture': 'Peptide', 'conjugate_partner': 'nan', 'solution': '100 H2O', 'peptide_concentration(mg/ml)': '17.2', 'PH': '7.0', 'temperature(degree celsius)': '25.0', 'heating_cooling': 'No', 'incubation_period(min)': '4320.0'}\n",
      "{'peptide_sequence': 'lFF', 'self-assembly_phase': 'none', 'N-terminal_modification': 'Free', 'C-terminal_modification': 'Free', 'Non-terminal_modification': 'nan', 'peptide_conjugate_mixture': 'Peptide', 'conjugate_partner': 'nan', 'solution': '100 H2O', 'peptide_concentration(mg/ml)': '18.8', 'PH': '7.0', 'temperature(degree celsius)': '25.0', 'heating_cooling': 'No', 'incubation_period(min)': '4320.0'}\n",
      "{'peptide_sequence': 'lFF', 'self-assembly_phase': 'none', 'N-terminal_modification': 'Free', 'C-terminal_modification': 'Free', 'Non-terminal_modification': 'nan', 'peptide_conjugate_mixture': 'Peptide', 'conjugate_partner': 'nan', 'solution': '100 H2O', 'peptide_concentration(mg/ml)': '20.4', 'PH': '7.0', 'temperature(degree celsius)': '25.0', 'heating_cooling': 'No', 'incubation_period(min)': '4320.0'}\n",
      "{'peptide_sequence': 'lFF', 'self-assembly_phase': 'none', 'N-terminal_modification': 'Free', 'C-terminal_modification': 'Free', 'Non-terminal_modification': 'nan', 'peptide_conjugate_mixture': 'Peptide', 'conjugate_partner': 'nan', 'solution': '100 H2O', 'peptide_concentration(mg/ml)': '22.0', 'PH': '7.0', 'temperature(degree celsius)': '25.0', 'heating_cooling': 'No', 'incubation_period(min)': '4320.0'}\n",
      "{'peptide_sequence': 'lFF', 'self-assembly_phase': 'none', 'N-terminal_modification': 'Free', 'C-terminal_modification': 'Free', 'Non-terminal_modification': 'nan', 'peptide_conjugate_mixture': 'Peptide', 'conjugate_partner': 'nan', 'solution': '100 H2O', 'peptide_concentration(mg/ml)': '23.6', 'PH': '7.0', 'temperature(degree celsius)': '25.0', 'heating_cooling': 'No', 'incubation_period(min)': '4320.0'}\n",
      "{'peptide_sequence': 'lFF', 'self-assembly_phase': 'none', 'N-terminal_modification': 'Free', 'C-terminal_modification': 'Free', 'Non-terminal_modification': 'nan', 'peptide_conjugate_mixture': 'Peptide', 'conjugate_partner': 'nan', 'solution': '100 H2O', 'peptide_concentration(mg/ml)': '25.2', 'PH': '7.0', 'temperature(degree celsius)': '25.0', 'heating_cooling': 'No', 'incubation_period(min)': '4320.0'}\n",
      "{'peptide_sequence': 'lFF', 'self-assembly_phase': 'none', 'N-terminal_modification': 'Free', 'C-terminal_modification': 'Free', 'Non-terminal_modification': 'nan', 'peptide_conjugate_mixture': 'Peptide', 'conjugate_partner': 'nan', 'solution': '100 H2O', 'peptide_concentration(mg/ml)': '26.8', 'PH': '7.0', 'temperature(degree celsius)': '25.0', 'heating_cooling': 'No', 'incubation_period(min)': '4320.0'}\n",
      "{'peptide_sequence': 'lFF', 'self-assembly_phase': 'none', 'N-terminal_modification': 'Free', 'C-terminal_modification': 'Free', 'Non-terminal_modification': 'nan', 'peptide_conjugate_mixture': 'Peptide', 'conjugate_partner': 'nan', 'solution': '100 H2O', 'peptide_concentration(mg/ml)': '28.4', 'PH': '7.0', 'temperature(degree celsius)': '25.0', 'heating_cooling': 'No', 'incubation_period(min)': '4320.0'}\n",
      "{'peptide_sequence': 'lFF', 'self-assembly_phase': 'none', 'N-terminal_modification': 'Free', 'C-terminal_modification': 'Free', 'Non-terminal_modification': 'nan', 'peptide_conjugate_mixture': 'Peptide', 'conjugate_partner': 'nan', 'solution': '100 H2O', 'peptide_concentration(mg/ml)': '30.0', 'PH': '7.0', 'temperature(degree celsius)': '25.0', 'heating_cooling': 'No', 'incubation_period(min)': '4320.0'}\n",
      "{'peptide_sequence': 'dFF', 'self-assembly_phase': 'fiber', 'N-terminal_modification': 'Free', 'C-terminal_modification': 'Free', 'Non-terminal_modification': 'nan', 'peptide_conjugate_mixture': 'Peptide', 'conjugate_partner': 'nan', 'solution': '100 H2O', 'peptide_concentration(mg/ml)': '12.5', 'PH': '7.0', 'temperature(degree celsius)': '25.0', 'heating_cooling': 'No', 'incubation_period(min)': '4320.0'}\n",
      "{'peptide_sequence': 'dFF', 'self-assembly_phase': 'fiber', 'N-terminal_modification': 'Free', 'C-terminal_modification': 'Free', 'Non-terminal_modification': 'nan', 'peptide_conjugate_mixture': 'Peptide', 'conjugate_partner': 'nan', 'solution': '100 H2O', 'peptide_concentration(mg/ml)': '14.1', 'PH': '7.0', 'temperature(degree celsius)': '25.0', 'heating_cooling': 'No', 'incubation_period(min)': '4320.0'}\n",
      "{'peptide_sequence': 'dFF', 'self-assembly_phase': 'fiber', 'N-terminal_modification': 'Free', 'C-terminal_modification': 'Free', 'Non-terminal_modification': 'nan', 'peptide_conjugate_mixture': 'Peptide', 'conjugate_partner': 'nan', 'solution': '100 H2O', 'peptide_concentration(mg/ml)': '15.7', 'PH': '7.0', 'temperature(degree celsius)': '25.0', 'heating_cooling': 'No', 'incubation_period(min)': '4320.0'}\n",
      "{'peptide_sequence': 'dFF', 'self-assembly_phase': 'none', 'N-terminal_modification': 'Free', 'C-terminal_modification': 'Free', 'Non-terminal_modification': 'nan', 'peptide_conjugate_mixture': 'Peptide', 'conjugate_partner': 'nan', 'solution': '100 H2O', 'peptide_concentration(mg/ml)': '17.2', 'PH': '7.0', 'temperature(degree celsius)': '25.0', 'heating_cooling': 'No', 'incubation_period(min)': '4320.0'}\n",
      "{'peptide_sequence': 'dFF', 'self-assembly_phase': 'none', 'N-terminal_modification': 'Free', 'C-terminal_modification': 'Free', 'Non-terminal_modification': 'nan', 'peptide_conjugate_mixture': 'Peptide', 'conjugate_partner': 'nan', 'solution': '100 H2O', 'peptide_concentration(mg/ml)': '18.8', 'PH': '7.0', 'temperature(degree celsius)': '25.0', 'heating_cooling': 'No', 'incubation_period(min)': '4320.0'}\n",
      "{'peptide_sequence': 'dFF', 'self-assembly_phase': 'none', 'N-terminal_modification': 'Free', 'C-terminal_modification': 'Free', 'Non-terminal_modification': 'nan', 'peptide_conjugate_mixture': 'Peptide', 'conjugate_partner': 'nan', 'solution': '100 H2O', 'peptide_concentration(mg/ml)': '20.4', 'PH': '7.0', 'temperature(degree celsius)': '25.0', 'heating_cooling': 'No', 'incubation_period(min)': '4320.0'}\n",
      "{'peptide_sequence': 'dFF', 'self-assembly_phase': 'none', 'N-terminal_modification': 'Free', 'C-terminal_modification': 'Free', 'Non-terminal_modification': 'nan', 'peptide_conjugate_mixture': 'Peptide', 'conjugate_partner': 'nan', 'solution': '100 H2O', 'peptide_concentration(mg/ml)': '22.0', 'PH': '7.0', 'temperature(degree celsius)': '25.0', 'heating_cooling': 'No', 'incubation_period(min)': '4320.0'}\n",
      "{'peptide_sequence': 'dFF', 'self-assembly_phase': 'none', 'N-terminal_modification': 'Free', 'C-terminal_modification': 'Free', 'Non-terminal_modification': 'nan', 'peptide_conjugate_mixture': 'Peptide', 'conjugate_partner': 'nan', 'solution': '100 H2O', 'peptide_concentration(mg/ml)': '23.6', 'PH': '7.0', 'temperature(degree celsius)': '25.0', 'heating_cooling': 'No', 'incubation_period(min)': '4320.0'}\n",
      "{'peptide_sequence': 'dFF', 'self-assembly_phase': 'none', 'N-terminal_modification': 'Free', 'C-terminal_modification': 'Free', 'Non-terminal_modification': 'nan', 'peptide_conjugate_mixture': 'Peptide', 'conjugate_partner': 'nan', 'solution': '100 H2O', 'peptide_concentration(mg/ml)': '25.2', 'PH': '7.0', 'temperature(degree celsius)': '25.0', 'heating_cooling': 'No', 'incubation_period(min)': '4320.0'}\n",
      "{'peptide_sequence': 'dFF', 'self-assembly_phase': 'none', 'N-terminal_modification': 'Free', 'C-terminal_modification': 'Free', 'Non-terminal_modification': 'nan', 'peptide_conjugate_mixture': 'Peptide', 'conjugate_partner': 'nan', 'solution': '100 H2O', 'peptide_concentration(mg/ml)': '26.8', 'PH': '7.0', 'temperature(degree celsius)': '25.0', 'heating_cooling': 'No', 'incubation_period(min)': '4320.0'}\n",
      "{'peptide_sequence': 'dFF', 'self-assembly_phase': 'none', 'N-terminal_modification': 'Free', 'C-terminal_modification': 'Free', 'Non-terminal_modification': 'nan', 'peptide_conjugate_mixture': 'Peptide', 'conjugate_partner': 'nan', 'solution': '100 H2O', 'peptide_concentration(mg/ml)': '28.4', 'PH': '7.0', 'temperature(degree celsius)': '25.0', 'heating_cooling': 'No', 'incubation_period(min)': '4320.0'}\n",
      "{'peptide_sequence': 'dFF', 'self-assembly_phase': 'none', 'N-terminal_modification': 'Free', 'C-terminal_modification': 'Free', 'Non-terminal_modification': 'nan', 'peptide_conjugate_mixture': 'Peptide', 'conjugate_partner': 'nan', 'solution': '100 H2O', 'peptide_concentration(mg/ml)': '30.0', 'PH': '7.0', 'temperature(degree celsius)': '25.0', 'heating_cooling': 'No', 'incubation_period(min)': '4320.0'}\n",
      "#######################\n",
      "#######################\n",
      "{'peptide_sequence': 'LFF', 'self-assembly_phase': 'nanosphere', 'N-terminal_modification': 'Free', 'C-terminal_modification': 'Free', 'Non-terminal_modification': 'nan', 'peptide_conjugate_mixture': 'Peptide', 'conjugate_partner': 'nan', 'solution': '100 PBS', 'peptide_concentration(mg/ml)': '10.0', 'PH': '7.4', 'temperature(celsius)': '25.0', 'heating_cooling': 'No', 'incubation_period(min)': '5.0'}\n",
      "{'peptide_sequence': 'lFF', 'self-assembly_phase': 'hydrogel', 'N-terminal_modification': 'Free', 'C-terminal_modification': 'Free', 'Non-terminal_modification': 'nan', 'peptide_conjugate_mixture': 'Peptide', 'conjugate_partner': 'nan', 'solution': '100 PBS', 'peptide_concentration(mg/ml)': '10.0', 'PH': '7.4', 'temperature(celsius)': '25.0', 'heating_cooling': 'No', 'incubation_period(min)': '5.0'}\n"
     ]
    }
   ],
   "source": [
    "for c in json.loads(completion.choices[0].message.content):\n",
    "    print(c)\n",
    "\n",
    "    \n",
    "print(\"#######################\")\n",
    "print(\"#######################\") \n",
    "\n",
    "# print(json.loads(testset[16]['messages'][2]['content']))\n",
    "for t in json.loads(testset[19]['messages'][2]['content']):\n",
    "  print(t)"
   ]
  },
  {
   "cell_type": "markdown",
   "id": "db1d0d57",
   "metadata": {},
   "source": [
    "# Testing examples 21"
   ]
  },
  {
   "cell_type": "code",
   "execution_count": 93,
   "id": "3b7a5ccf",
   "metadata": {},
   "outputs": [],
   "source": [
    "\n",
    "completion = client.chat.completions.create(\n",
    "  model=\"ft:gpt-3.5-turbo-0125:personal::95ba6w1r\",\n",
    "  messages=testset[20]['messages'][:2]\n",
    ")"
   ]
  },
  {
   "cell_type": "code",
   "execution_count": 94,
   "id": "ae3b86cb",
   "metadata": {},
   "outputs": [
    {
     "name": "stdout",
     "output_type": "stream",
     "text": [
      "{'peptide_sequence': 'FF', 'self-assembly_phase': 'nanotube', 'N-terminal_modification': 'Free', 'C-terminal_modification': 'Free', 'Non-terminal_modification': 'nan', 'peptide_conjugate_mixture': 'Peptide', 'conjugate_partner': 'nan', 'solution': '10/90 H2O/DMF', 'peptide_concentration(mg/ml)': '1.0', 'PH': '7.0', 'temperature(celsius)': '25.0', 'heating_cooling': 'No', 'incubation_period(min)': 'nan'}\n",
      "{'peptide_sequence': 'FW', 'self-assembly_phase': 'nanotube', 'N-terminal_modification': 'Free', 'C-terminal_modification': 'Free', 'Non-terminal_modification': 'nan', 'peptide_conjugate_mixture': 'Peptide', 'conjugate_partner': 'nan', 'solution': '10/90 H2O/DMF', 'peptide_concentration(mg/ml)': '1.0', 'PH': '7.0', 'temperature(celsius)': '25.0', 'heating_cooling': 'No', 'incubation_period(min)': 'nan'}\n",
      "{'peptide_sequence': 'FF', 'self-assembly_phase': 'fiber', 'N-terminal_modification': 'Free', 'C-terminal_modification': 'Free', 'Non-terminal_modification': 'nan', 'peptide_conjugate_mixture': 'Peptide', 'conjugate_partner': 'nan', 'solution': '10/90 H2O/DMF', 'peptide_concentration(mg/ml)': '1.0', 'PH': '7.0', 'temperature(celsius)': '25.0', 'heating_cooling': 'No', 'incubation_period(min)': 'nan'}\n",
      "{'peptide_sequence': 'FW', 'self-assembly_phase': 'fiber', 'N-terminal_modification': 'Free', 'C-terminal_modification': 'Free', 'Non-terminal_modification': 'nan', 'peptide_conjugate_mixture': 'Peptide', 'conjugate_partner': 'nan', 'solution': '10/90 H2O/DMF', 'peptide_concentration(mg/ml)': '1.0', 'PH': '7.0', 'temperature(celsius)': '25.0', 'heating_cooling': 'No', 'incubation_period(min)': 'nan'}\n",
      "#######################\n",
      "#######################\n",
      "{'peptide_sequence': 'FW', 'self-assembly_phase': 'fiber', 'N-terminal_modification': 'Free', 'C-terminal_modification': 'Free', 'Non-terminal_modification': 'nan', 'peptide_conjugate_mixture': 'Peptide', 'conjugate_partner': 'nan', 'solution': '100 Methanol', 'peptide_concentration(mg/ml)': '1.665', 'PH': '7.0', 'temperature(celsius)': '70.0', 'heating_cooling': 'No', 'incubation_period(min)': '5.0'}\n",
      "{'peptide_sequence': 'WW', 'self-assembly_phase': 'nanosphere', 'N-terminal_modification': 'Free', 'C-terminal_modification': 'Free', 'Non-terminal_modification': 'nan', 'peptide_conjugate_mixture': 'Peptide', 'conjugate_partner': 'nan', 'solution': '100 Methanol', 'peptide_concentration(mg/ml)': '1.855', 'PH': '7.0', 'temperature(celsius)': '70.0', 'heating_cooling': 'No', 'incubation_period(min)': '5.0'}\n",
      "{'peptide_sequence': 'YY', 'self-assembly_phase': 'tube', 'N-terminal_modification': 'Free', 'C-terminal_modification': 'Free', 'Non-terminal_modification': 'nan', 'peptide_conjugate_mixture': 'Peptide', 'conjugate_partner': 'nan', 'solution': '100 DMSO', 'peptide_concentration(mg/ml)': '1.632', 'PH': '7.0', 'temperature(celsius)': '70.0', 'heating_cooling': 'No', 'incubation_period(min)': '5.0'}\n",
      "{'peptide_sequence': 'FF', 'self-assembly_phase': 'nanosphere', 'N-terminal_modification': 'Free', 'C-terminal_modification': 'Free', 'Non-terminal_modification': 'nan', 'peptide_conjugate_mixture': 'Peptide', 'conjugate_partner': 'nan', 'solution': '100 DMSO', 'peptide_concentration(mg/ml)': '1.472', 'PH': '7.0', 'temperature(celsius)': '70.0', 'heating_cooling': 'No', 'incubation_period(min)': '5.0'}\n",
      "{'peptide_sequence': 'HH', 'self-assembly_phase': 'fiber', 'N-terminal_modification': 'Free', 'C-terminal_modification': 'Free', 'Non-terminal_modification': 'nan', 'peptide_conjugate_mixture': 'Peptide', 'conjugate_partner': 'nan', 'solution': '100 Methanol', 'peptide_concentration(mg/ml)': '1.372', 'PH': '7.0', 'temperature(celsius)': '70.0', 'heating_cooling': 'No', 'incubation_period(min)': '5.0'}\n"
     ]
    }
   ],
   "source": [
    "for c in json.loads(completion.choices[0].message.content):\n",
    "    print(c)\n",
    "\n",
    "    \n",
    "print(\"#######################\")\n",
    "print(\"#######################\") \n",
    "\n",
    "# print(json.loads(testset[16]['messages'][2]['content']))\n",
    "for t in json.loads(testset[20]['messages'][2]['content']):\n",
    "  print(t)"
   ]
  },
  {
   "cell_type": "markdown",
   "id": "3ae54b60",
   "metadata": {},
   "source": [
    "# Testing examples 22"
   ]
  },
  {
   "cell_type": "code",
   "execution_count": 95,
   "id": "a98e96c3",
   "metadata": {},
   "outputs": [],
   "source": [
    "completion = client.chat.completions.create(\n",
    "  model=\"ft:gpt-3.5-turbo-0125:personal::95ba6w1r\",\n",
    "  messages=testset[21]['messages'][:2]\n",
    ")"
   ]
  },
  {
   "cell_type": "code",
   "execution_count": 96,
   "id": "f80e94bb",
   "metadata": {},
   "outputs": [
    {
     "name": "stdout",
     "output_type": "stream",
     "text": [
      "{'peptide_sequence': 'FF', 'self-assembly_phase': 'crystal', 'N-terminal_modification': 'Free', 'C-terminal_modification': 'Free', 'Non-terminal_modification': 'nan', 'peptide_conjugate_mixture': 'Peptide', 'conjugate_partner': 'nan', 'solution': '100 H2O', 'peptide_concentration(mg/ml)': '0.5', 'PH': '7.0', 'temperature(celsius)': '24.0', 'heating_cooling': 'Yes', 'incubation_period(min)': '1320.0'}\n",
      "{'peptide_sequence': 'FF', 'self-assembly_phase': 'crystal', 'N-terminal_modification': 'Free', 'C-terminal_modification': 'Free', 'Non-terminal_modification': 'nan', 'peptide_conjugate_mixture': 'Peptide', 'conjugate_partner': 'nan', 'solution': '100 H2O', 'peptide_concentration(mg/ml)': '0.5', 'PH': '7.0', 'temperature(celsius)': '26.0', 'heating_cooling': 'Yes', 'incubation_period(min)': '1320.0'}\n",
      "{'peptide_sequence': 'FF', 'self-assembly_phase': 'crystal', 'N-terminal_modification': 'Free', 'C-terminal_modification': 'Free', 'Non-terminal_modification': 'nan', 'peptide_conjugate_mixture': 'Peptide', 'conjugate_partner': 'nan', 'solution': '100 H2O', 'peptide_concentration(mg/ml)': '0.5', 'PH': '7.0', 'temperature(celsius)': '28.0', 'heating_cooling': 'Yes', 'incubation_period(min)': '1320.0'}\n",
      "{'peptide_sequence': 'FF', 'self-assembly_phase': 'none', 'N-terminal_modification': 'Free', 'C-terminal_modification': 'Free', 'Non-terminal_modification': 'nan', 'peptide_conjugate_mixture': 'Peptide', 'conjugate_partner': 'nan', 'solution': '100 H2O', 'peptide_concentration(mg/ml)': '0.5', 'PH': '7.0', 'temperature(celsius)': '22.0', 'heating_cooling': 'Yes', 'incubation_period(min)': '1320.0'}\n",
      "{'peptide_sequence': 'FF', 'self-assembly_phase': 'none', 'N-terminal_modification': 'Free', 'C-terminal_modification': 'Free', 'Non-terminal_modification': 'nan', 'peptide_conjugate_mixture': 'Peptide', 'conjugate_partner': 'nan', 'solution': '100 H2O', 'peptide_concentration(mg/ml)': '0.5', 'PH': '7.0', 'temperature(celsius)': '20.9', 'heating_cooling': 'Yes', 'incubation_period(min)': '1320.0'}\n",
      "#######################\n",
      "#######################\n",
      "{'peptide_sequence': 'FF', 'self-assembly_phase': 'tube', 'N-terminal_modification': 'Free', 'C-terminal_modification': 'Free', 'Non-terminal_modification': 'nan', 'peptide_conjugate_mixture': 'Peptide', 'conjugate_partner': 'nan', 'solution': '100 H2O', 'peptide_concentration(mg/ml)': '0.605', 'PH': '7.0', 'temperature(celsius)': '4.0', 'heating_cooling': 'No', 'incubation_period(min)': 'nan'}\n",
      "{'peptide_sequence': 'FF', 'self-assembly_phase': 'tube', 'N-terminal_modification': 'Free', 'C-terminal_modification': 'Free', 'Non-terminal_modification': 'nan', 'peptide_conjugate_mixture': 'Peptide', 'conjugate_partner': 'nan', 'solution': '100 H2O', 'peptide_concentration(mg/ml)': '0.66', 'PH': '7.0', 'temperature(celsius)': '4.0', 'heating_cooling': 'No', 'incubation_period(min)': 'nan'}\n",
      "{'peptide_sequence': 'FF', 'self-assembly_phase': 'none', 'N-terminal_modification': 'Free', 'C-terminal_modification': 'Free', 'Non-terminal_modification': 'nan', 'peptide_conjugate_mixture': 'Peptide', 'conjugate_partner': 'nan', 'solution': '100 H2O', 'peptide_concentration(mg/ml)': '0.495', 'PH': '7.0', 'temperature(celsius)': '4.0', 'heating_cooling': 'No', 'incubation_period(min)': 'nan'}\n",
      "{'peptide_sequence': 'FF', 'self-assembly_phase': 'none', 'N-terminal_modification': 'Free', 'C-terminal_modification': 'Free', 'Non-terminal_modification': 'nan', 'peptide_conjugate_mixture': 'Peptide', 'conjugate_partner': 'nan', 'solution': '100 H2O', 'peptide_concentration(mg/ml)': '0.44', 'PH': '7.0', 'temperature(celsius)': '4.0', 'heating_cooling': 'No', 'incubation_period(min)': 'nan'}\n",
      "{'peptide_sequence': 'FF', 'self-assembly_phase': 'tube', 'N-terminal_modification': 'Free', 'C-terminal_modification': 'Free', 'Non-terminal_modification': 'nan', 'peptide_conjugate_mixture': 'Peptide', 'conjugate_partner': 'nan', 'solution': '100 H2O', 'peptide_concentration(mg/ml)': '0.55', 'PH': '7.0', 'temperature(celsius)': '8.0', 'heating_cooling': 'No', 'incubation_period(min)': 'nan'}\n",
      "{'peptide_sequence': 'FF', 'self-assembly_phase': 'tube', 'N-terminal_modification': 'Free', 'C-terminal_modification': 'Free', 'Non-terminal_modification': 'nan', 'peptide_conjugate_mixture': 'Peptide', 'conjugate_partner': 'nan', 'solution': '100 H2O', 'peptide_concentration(mg/ml)': '0.6', 'PH': '7.0', 'temperature(celsius)': '8.0', 'heating_cooling': 'No', 'incubation_period(min)': 'nan'}\n",
      "{'peptide_sequence': 'FF', 'self-assembly_phase': 'none', 'N-terminal_modification': 'Free', 'C-terminal_modification': 'Free', 'Non-terminal_modification': 'nan', 'peptide_conjugate_mixture': 'Peptide', 'conjugate_partner': 'nan', 'solution': '100 H2O', 'peptide_concentration(mg/ml)': '0.45', 'PH': '7.0', 'temperature(celsius)': '8.0', 'heating_cooling': 'No', 'incubation_period(min)': 'nan'}\n",
      "{'peptide_sequence': 'FF', 'self-assembly_phase': 'none', 'N-terminal_modification': 'Free', 'C-terminal_modification': 'Free', 'Non-terminal_modification': 'nan', 'peptide_conjugate_mixture': 'Peptide', 'conjugate_partner': 'nan', 'solution': '100 H2O', 'peptide_concentration(mg/ml)': '0.4', 'PH': '7.0', 'temperature(celsius)': '8.0', 'heating_cooling': 'No', 'incubation_period(min)': 'nan'}\n",
      "{'peptide_sequence': 'FF', 'self-assembly_phase': 'tube', 'N-terminal_modification': 'Free', 'C-terminal_modification': 'Free', 'Non-terminal_modification': 'nan', 'peptide_conjugate_mixture': 'Peptide', 'conjugate_partner': 'nan', 'solution': '100 H2O', 'peptide_concentration(mg/ml)': '0.55', 'PH': '7.0', 'temperature(celsius)': '12.0', 'heating_cooling': 'No', 'incubation_period(min)': 'nan'}\n",
      "{'peptide_sequence': 'FF', 'self-assembly_phase': 'tube', 'N-terminal_modification': 'Free', 'C-terminal_modification': 'Free', 'Non-terminal_modification': 'nan', 'peptide_conjugate_mixture': 'Peptide', 'conjugate_partner': 'nan', 'solution': '100 H2O', 'peptide_concentration(mg/ml)': '0.6', 'PH': '7.0', 'temperature(celsius)': '12.0', 'heating_cooling': 'No', 'incubation_period(min)': 'nan'}\n",
      "{'peptide_sequence': 'FF', 'self-assembly_phase': 'none', 'N-terminal_modification': 'Free', 'C-terminal_modification': 'Free', 'Non-terminal_modification': 'nan', 'peptide_conjugate_mixture': 'Peptide', 'conjugate_partner': 'nan', 'solution': '100 H2O', 'peptide_concentration(mg/ml)': '0.45', 'PH': '7.0', 'temperature(celsius)': '12.0', 'heating_cooling': 'No', 'incubation_period(min)': 'nan'}\n",
      "{'peptide_sequence': 'FF', 'self-assembly_phase': 'none', 'N-terminal_modification': 'Free', 'C-terminal_modification': 'Free', 'Non-terminal_modification': 'nan', 'peptide_conjugate_mixture': 'Peptide', 'conjugate_partner': 'nan', 'solution': '100 H2O', 'peptide_concentration(mg/ml)': '0.4', 'PH': '7.0', 'temperature(celsius)': '12.0', 'heating_cooling': 'No', 'incubation_period(min)': 'nan'}\n",
      "{'peptide_sequence': 'FF', 'self-assembly_phase': 'tube', 'N-terminal_modification': 'Free', 'C-terminal_modification': 'Free', 'Non-terminal_modification': 'nan', 'peptide_conjugate_mixture': 'Peptide', 'conjugate_partner': 'nan', 'solution': '100 H2O', 'peptide_concentration(mg/ml)': '0.605', 'PH': '7.0', 'temperature(celsius)': '16.0', 'heating_cooling': 'No', 'incubation_period(min)': 'nan'}\n",
      "{'peptide_sequence': 'FF', 'self-assembly_phase': 'tube', 'N-terminal_modification': 'Free', 'C-terminal_modification': 'Free', 'Non-terminal_modification': 'nan', 'peptide_conjugate_mixture': 'Peptide', 'conjugate_partner': 'nan', 'solution': '100 H2O', 'peptide_concentration(mg/ml)': '0.66', 'PH': '7.0', 'temperature(celsius)': '16.0', 'heating_cooling': 'No', 'incubation_period(min)': 'nan'}\n",
      "{'peptide_sequence': 'FF', 'self-assembly_phase': 'none', 'N-terminal_modification': 'Free', 'C-terminal_modification': 'Free', 'Non-terminal_modification': 'nan', 'peptide_conjugate_mixture': 'Peptide', 'conjugate_partner': 'nan', 'solution': '100 H2O', 'peptide_concentration(mg/ml)': '0.495', 'PH': '7.0', 'temperature(celsius)': '16.0', 'heating_cooling': 'No', 'incubation_period(min)': 'nan'}\n",
      "{'peptide_sequence': 'FF', 'self-assembly_phase': 'none', 'N-terminal_modification': 'Free', 'C-terminal_modification': 'Free', 'Non-terminal_modification': 'nan', 'peptide_conjugate_mixture': 'Peptide', 'conjugate_partner': 'nan', 'solution': '100 H2O', 'peptide_concentration(mg/ml)': '0.44', 'PH': '7.0', 'temperature(celsius)': '16.0', 'heating_cooling': 'No', 'incubation_period(min)': 'nan'}\n",
      "{'peptide_sequence': 'FF', 'self-assembly_phase': 'tube', 'N-terminal_modification': 'Free', 'C-terminal_modification': 'Free', 'Non-terminal_modification': 'nan', 'peptide_conjugate_mixture': 'Peptide', 'conjugate_partner': 'nan', 'solution': '100 H2O', 'peptide_concentration(mg/ml)': '0.627', 'PH': '7.0', 'temperature(celsius)': '20.0', 'heating_cooling': 'No', 'incubation_period(min)': 'nan'}\n",
      "{'peptide_sequence': 'FF', 'self-assembly_phase': 'tube', 'N-terminal_modification': 'Free', 'C-terminal_modification': 'Free', 'Non-terminal_modification': 'nan', 'peptide_conjugate_mixture': 'Peptide', 'conjugate_partner': 'nan', 'solution': '100 H2O', 'peptide_concentration(mg/ml)': '0.684', 'PH': '7.0', 'temperature(celsius)': '20.0', 'heating_cooling': 'No', 'incubation_period(min)': 'nan'}\n",
      "{'peptide_sequence': 'FF', 'self-assembly_phase': 'none', 'N-terminal_modification': 'Free', 'C-terminal_modification': 'Free', 'Non-terminal_modification': 'nan', 'peptide_conjugate_mixture': 'Peptide', 'conjugate_partner': 'nan', 'solution': '100 H2O', 'peptide_concentration(mg/ml)': '0.513', 'PH': '7.0', 'temperature(celsius)': '20.0', 'heating_cooling': 'No', 'incubation_period(min)': 'nan'}\n",
      "{'peptide_sequence': 'FF', 'self-assembly_phase': 'none', 'N-terminal_modification': 'Free', 'C-terminal_modification': 'Free', 'Non-terminal_modification': 'nan', 'peptide_conjugate_mixture': 'Peptide', 'conjugate_partner': 'nan', 'solution': '100 H2O', 'peptide_concentration(mg/ml)': '0.456', 'PH': '7.0', 'temperature(celsius)': '20.0', 'heating_cooling': 'No', 'incubation_period(min)': 'nan'}\n",
      "{'peptide_sequence': 'FF', 'self-assembly_phase': 'tube', 'N-terminal_modification': 'Free', 'C-terminal_modification': 'Free', 'Non-terminal_modification': 'nan', 'peptide_conjugate_mixture': 'Peptide', 'conjugate_partner': 'nan', 'solution': '100 H2O', 'peptide_concentration(mg/ml)': '0.66', 'PH': '7.0', 'temperature(celsius)': '24.0', 'heating_cooling': 'No', 'incubation_period(min)': 'nan'}\n",
      "{'peptide_sequence': 'FF', 'self-assembly_phase': 'tube', 'N-terminal_modification': 'Free', 'C-terminal_modification': 'Free', 'Non-terminal_modification': 'nan', 'peptide_conjugate_mixture': 'Peptide', 'conjugate_partner': 'nan', 'solution': '100 H2O', 'peptide_concentration(mg/ml)': '0.72', 'PH': '7.0', 'temperature(celsius)': '24.0', 'heating_cooling': 'No', 'incubation_period(min)': 'nan'}\n",
      "{'peptide_sequence': 'FF', 'self-assembly_phase': 'none', 'N-terminal_modification': 'Free', 'C-terminal_modification': 'Free', 'Non-terminal_modification': 'nan', 'peptide_conjugate_mixture': 'Peptide', 'conjugate_partner': 'nan', 'solution': '100 H2O', 'peptide_concentration(mg/ml)': '0.54', 'PH': '7.0', 'temperature(celsius)': '24.0', 'heating_cooling': 'No', 'incubation_period(min)': 'nan'}\n",
      "{'peptide_sequence': 'FF', 'self-assembly_phase': 'none', 'N-terminal_modification': 'Free', 'C-terminal_modification': 'Free', 'Non-terminal_modification': 'nan', 'peptide_conjugate_mixture': 'Peptide', 'conjugate_partner': 'nan', 'solution': '100 H2O', 'peptide_concentration(mg/ml)': '0.48', 'PH': '7.0', 'temperature(celsius)': '24.0', 'heating_cooling': 'No', 'incubation_period(min)': 'nan'}\n",
      "{'peptide_sequence': 'FF', 'self-assembly_phase': 'tube', 'N-terminal_modification': 'Free', 'C-terminal_modification': 'Free', 'Non-terminal_modification': 'nan', 'peptide_conjugate_mixture': 'Peptide', 'conjugate_partner': 'nan', 'solution': '100 H2O', 'peptide_concentration(mg/ml)': '0.715', 'PH': '7.0', 'temperature(celsius)': '28.0', 'heating_cooling': 'No', 'incubation_period(min)': 'nan'}\n",
      "{'peptide_sequence': 'FF', 'self-assembly_phase': 'tube', 'N-terminal_modification': 'Free', 'C-terminal_modification': 'Free', 'Non-terminal_modification': 'nan', 'peptide_conjugate_mixture': 'Peptide', 'conjugate_partner': 'nan', 'solution': '100 H2O', 'peptide_concentration(mg/ml)': '0.78', 'PH': '7.0', 'temperature(celsius)': '28.0', 'heating_cooling': 'No', 'incubation_period(min)': 'nan'}\n",
      "{'peptide_sequence': 'FF', 'self-assembly_phase': 'none', 'N-terminal_modification': 'Free', 'C-terminal_modification': 'Free', 'Non-terminal_modification': 'nan', 'peptide_conjugate_mixture': 'Peptide', 'conjugate_partner': 'nan', 'solution': '100 H2O', 'peptide_concentration(mg/ml)': '0.585', 'PH': '7.0', 'temperature(celsius)': '28.0', 'heating_cooling': 'No', 'incubation_period(min)': 'nan'}\n",
      "{'peptide_sequence': 'FF', 'self-assembly_phase': 'none', 'N-terminal_modification': 'Free', 'C-terminal_modification': 'Free', 'Non-terminal_modification': 'nan', 'peptide_conjugate_mixture': 'Peptide', 'conjugate_partner': 'nan', 'solution': '100 H2O', 'peptide_concentration(mg/ml)': '0.52', 'PH': '7.0', 'temperature(celsius)': '28.0', 'heating_cooling': 'No', 'incubation_period(min)': 'nan'}\n",
      "{'peptide_sequence': 'FF', 'self-assembly_phase': 'tube', 'N-terminal_modification': 'Free', 'C-terminal_modification': 'Free', 'Non-terminal_modification': 'nan', 'peptide_conjugate_mixture': 'Peptide', 'conjugate_partner': 'nan', 'solution': '100 H2O', 'peptide_concentration(mg/ml)': '0.77', 'PH': '7.0', 'temperature(celsius)': '32.0', 'heating_cooling': 'No', 'incubation_period(min)': 'nan'}\n",
      "{'peptide_sequence': 'FF', 'self-assembly_phase': 'tube', 'N-terminal_modification': 'Free', 'C-terminal_modification': 'Free', 'Non-terminal_modification': 'nan', 'peptide_conjugate_mixture': 'Peptide', 'conjugate_partner': 'nan', 'solution': '100 H2O', 'peptide_concentration(mg/ml)': '0.84', 'PH': '7.0', 'temperature(celsius)': '32.0', 'heating_cooling': 'No', 'incubation_period(min)': 'nan'}\n",
      "{'peptide_sequence': 'FF', 'self-assembly_phase': 'none', 'N-terminal_modification': 'Free', 'C-terminal_modification': 'Free', 'Non-terminal_modification': 'nan', 'peptide_conjugate_mixture': 'Peptide', 'conjugate_partner': 'nan', 'solution': '100 H2O', 'peptide_concentration(mg/ml)': '0.63', 'PH': '7.0', 'temperature(celsius)': '32.0', 'heating_cooling': 'No', 'incubation_period(min)': 'nan'}\n",
      "{'peptide_sequence': 'FF', 'self-assembly_phase': 'none', 'N-terminal_modification': 'Free', 'C-terminal_modification': 'Free', 'Non-terminal_modification': 'nan', 'peptide_conjugate_mixture': 'Peptide', 'conjugate_partner': 'nan', 'solution': '100 H2O', 'peptide_concentration(mg/ml)': '0.56', 'PH': '7.0', 'temperature(celsius)': '32.0', 'heating_cooling': 'No', 'incubation_period(min)': 'nan'}\n",
      "{'peptide_sequence': 'FF', 'self-assembly_phase': 'tube', 'N-terminal_modification': 'Free', 'C-terminal_modification': 'Free', 'Non-terminal_modification': 'nan', 'peptide_conjugate_mixture': 'Peptide', 'conjugate_partner': 'nan', 'solution': '100 H2O', 'peptide_concentration(mg/ml)': '0.858', 'PH': '7.0', 'temperature(celsius)': '37.0', 'heating_cooling': 'No', 'incubation_period(min)': 'nan'}\n",
      "{'peptide_sequence': 'FF', 'self-assembly_phase': 'tube', 'N-terminal_modification': 'Free', 'C-terminal_modification': 'Free', 'Non-terminal_modification': 'nan', 'peptide_conjugate_mixture': 'Peptide', 'conjugate_partner': 'nan', 'solution': '100 H2O', 'peptide_concentration(mg/ml)': '0.936', 'PH': '7.0', 'temperature(celsius)': '37.0', 'heating_cooling': 'No', 'incubation_period(min)': 'nan'}\n",
      "{'peptide_sequence': 'FF', 'self-assembly_phase': 'none', 'N-terminal_modification': 'Free', 'C-terminal_modification': 'Free', 'Non-terminal_modification': 'nan', 'peptide_conjugate_mixture': 'Peptide', 'conjugate_partner': 'nan', 'solution': '100 H2O', 'peptide_concentration(mg/ml)': '0.702', 'PH': '7.0', 'temperature(celsius)': '37.0', 'heating_cooling': 'No', 'incubation_period(min)': 'nan'}\n",
      "{'peptide_sequence': 'FF', 'self-assembly_phase': 'none', 'N-terminal_modification': 'Free', 'C-terminal_modification': 'Free', 'Non-terminal_modification': 'nan', 'peptide_conjugate_mixture': 'Peptide', 'conjugate_partner': 'nan', 'solution': '100 H2O', 'peptide_concentration(mg/ml)': '0.624', 'PH': '7.0', 'temperature(celsius)': '37.0', 'heating_cooling': 'No', 'incubation_period(min)': 'nan'}\n",
      "{'peptide_sequence': 'FF', 'self-assembly_phase': 'tube', 'N-terminal_modification': 'Free', 'C-terminal_modification': 'Free', 'Non-terminal_modification': 'nan', 'peptide_conjugate_mixture': 'Peptide', 'conjugate_partner': 'nan', 'solution': '100 H2O', 'peptide_concentration(mg/ml)': '0.968', 'PH': '7.0', 'temperature(celsius)': '42.5', 'heating_cooling': 'No', 'incubation_period(min)': 'nan'}\n",
      "{'peptide_sequence': 'FF', 'self-assembly_phase': 'tube', 'N-terminal_modification': 'Free', 'C-terminal_modification': 'Free', 'Non-terminal_modification': 'nan', 'peptide_conjugate_mixture': 'Peptide', 'conjugate_partner': 'nan', 'solution': '100 H2O', 'peptide_concentration(mg/ml)': '1.056', 'PH': '7.0', 'temperature(celsius)': '42.5', 'heating_cooling': 'No', 'incubation_period(min)': 'nan'}\n",
      "{'peptide_sequence': 'FF', 'self-assembly_phase': 'none', 'N-terminal_modification': 'Free', 'C-terminal_modification': 'Free', 'Non-terminal_modification': 'nan', 'peptide_conjugate_mixture': 'Peptide', 'conjugate_partner': 'nan', 'solution': '100 H2O', 'peptide_concentration(mg/ml)': '0.792', 'PH': '7.0', 'temperature(celsius)': '42.5', 'heating_cooling': 'No', 'incubation_period(min)': 'nan'}\n",
      "{'peptide_sequence': 'FF', 'self-assembly_phase': 'none', 'N-terminal_modification': 'Free', 'C-terminal_modification': 'Free', 'Non-terminal_modification': 'nan', 'peptide_conjugate_mixture': 'Peptide', 'conjugate_partner': 'nan', 'solution': '100 H2O', 'peptide_concentration(mg/ml)': '0.704', 'PH': '7.0', 'temperature(celsius)': '42.5', 'heating_cooling': 'No', 'incubation_period(min)': 'nan'}\n",
      "{'peptide_sequence': 'FF', 'self-assembly_phase': 'tube', 'N-terminal_modification': 'Free', 'C-terminal_modification': 'Free', 'Non-terminal_modification': 'nan', 'peptide_conjugate_mixture': 'Peptide', 'conjugate_partner': 'nan', 'solution': '100 H2O', 'peptide_concentration(mg/ml)': '1.012', 'PH': '7.0', 'temperature(celsius)': '44.0', 'heating_cooling': 'No', 'incubation_period(min)': 'nan'}\n",
      "{'peptide_sequence': 'FF', 'self-assembly_phase': 'tube', 'N-terminal_modification': 'Free', 'C-terminal_modification': 'Free', 'Non-terminal_modification': 'nan', 'peptide_conjugate_mixture': 'Peptide', 'conjugate_partner': 'nan', 'solution': '100 H2O', 'peptide_concentration(mg/ml)': '1.104', 'PH': '7.0', 'temperature(celsius)': '44.0', 'heating_cooling': 'No', 'incubation_period(min)': 'nan'}\n",
      "{'peptide_sequence': 'FF', 'self-assembly_phase': 'none', 'N-terminal_modification': 'Free', 'C-terminal_modification': 'Free', 'Non-terminal_modification': 'nan', 'peptide_conjugate_mixture': 'Peptide', 'conjugate_partner': 'nan', 'solution': '100 H2O', 'peptide_concentration(mg/ml)': '0.828', 'PH': '7.0', 'temperature(celsius)': '44.0', 'heating_cooling': 'No', 'incubation_period(min)': 'nan'}\n",
      "{'peptide_sequence': 'FF', 'self-assembly_phase': 'none', 'N-terminal_modification': 'Free', 'C-terminal_modification': 'Free', 'Non-terminal_modification': 'nan', 'peptide_conjugate_mixture': 'Peptide', 'conjugate_partner': 'nan', 'solution': '100 H2O', 'peptide_concentration(mg/ml)': '0.736', 'PH': '7.0', 'temperature(celsius)': '44.0', 'heating_cooling': 'No', 'incubation_period(min)': 'nan'}\n",
      "{'peptide_sequence': 'FF', 'self-assembly_phase': 'tube', 'N-terminal_modification': 'Free', 'C-terminal_modification': 'Free', 'Non-terminal_modification': 'nan', 'peptide_conjugate_mixture': 'Peptide', 'conjugate_partner': 'nan', 'solution': '100 H2O', 'peptide_concentration(mg/ml)': '1.122', 'PH': '7.0', 'temperature(celsius)': '48.0', 'heating_cooling': 'No', 'incubation_period(min)': 'nan'}\n",
      "{'peptide_sequence': 'FF', 'self-assembly_phase': 'tube', 'N-terminal_modification': 'Free', 'C-terminal_modification': 'Free', 'Non-terminal_modification': 'nan', 'peptide_conjugate_mixture': 'Peptide', 'conjugate_partner': 'nan', 'solution': '100 H2O', 'peptide_concentration(mg/ml)': '1.224', 'PH': '7.0', 'temperature(celsius)': '48.0', 'heating_cooling': 'No', 'incubation_period(min)': 'nan'}\n",
      "{'peptide_sequence': 'FF', 'self-assembly_phase': 'none', 'N-terminal_modification': 'Free', 'C-terminal_modification': 'Free', 'Non-terminal_modification': 'nan', 'peptide_conjugate_mixture': 'Peptide', 'conjugate_partner': 'nan', 'solution': '100 H2O', 'peptide_concentration(mg/ml)': '0.918', 'PH': '7.0', 'temperature(celsius)': '48.0', 'heating_cooling': 'No', 'incubation_period(min)': 'nan'}\n",
      "{'peptide_sequence': 'FF', 'self-assembly_phase': 'none', 'N-terminal_modification': 'Free', 'C-terminal_modification': 'Free', 'Non-terminal_modification': 'nan', 'peptide_conjugate_mixture': 'Peptide', 'conjugate_partner': 'nan', 'solution': '100 H2O', 'peptide_concentration(mg/ml)': '0.816', 'PH': '7.0', 'temperature(celsius)': '48.0', 'heating_cooling': 'No', 'incubation_period(min)': 'nan'}\n",
      "{'peptide_sequence': 'FF', 'self-assembly_phase': 'tube', 'N-terminal_modification': 'Free', 'C-terminal_modification': 'Free', 'Non-terminal_modification': 'nan', 'peptide_conjugate_mixture': 'Peptide', 'conjugate_partner': 'nan', 'solution': '100 H2O', 'peptide_concentration(mg/ml)': '1.232', 'PH': '7.0', 'temperature(celsius)': '52.0', 'heating_cooling': 'No', 'incubation_period(min)': 'nan'}\n",
      "{'peptide_sequence': 'FF', 'self-assembly_phase': 'tube', 'N-terminal_modification': 'Free', 'C-terminal_modification': 'Free', 'Non-terminal_modification': 'nan', 'peptide_conjugate_mixture': 'Peptide', 'conjugate_partner': 'nan', 'solution': '100 H2O', 'peptide_concentration(mg/ml)': '1.344', 'PH': '7.0', 'temperature(celsius)': '52.0', 'heating_cooling': 'No', 'incubation_period(min)': 'nan'}\n",
      "{'peptide_sequence': 'FF', 'self-assembly_phase': 'none', 'N-terminal_modification': 'Free', 'C-terminal_modification': 'Free', 'Non-terminal_modification': 'nan', 'peptide_conjugate_mixture': 'Peptide', 'conjugate_partner': 'nan', 'solution': '100 H2O', 'peptide_concentration(mg/ml)': '1.008', 'PH': '7.0', 'temperature(celsius)': '52.0', 'heating_cooling': 'No', 'incubation_period(min)': 'nan'}\n",
      "{'peptide_sequence': 'FF', 'self-assembly_phase': 'none', 'N-terminal_modification': 'Free', 'C-terminal_modification': 'Free', 'Non-terminal_modification': 'nan', 'peptide_conjugate_mixture': 'Peptide', 'conjugate_partner': 'nan', 'solution': '100 H2O', 'peptide_concentration(mg/ml)': '0.896', 'PH': '7.0', 'temperature(celsius)': '52.0', 'heating_cooling': 'No', 'incubation_period(min)': 'nan'}\n",
      "{'peptide_sequence': 'FF', 'self-assembly_phase': 'tube', 'N-terminal_modification': 'Free', 'C-terminal_modification': 'Free', 'Non-terminal_modification': 'nan', 'peptide_conjugate_mixture': 'Peptide', 'conjugate_partner': 'nan', 'solution': '100 H2O', 'peptide_concentration(mg/ml)': '1.375', 'PH': '7.0', 'temperature(celsius)': '56.0', 'heating_cooling': 'No', 'incubation_period(min)': 'nan'}\n",
      "{'peptide_sequence': 'FF', 'self-assembly_phase': 'tube', 'N-terminal_modification': 'Free', 'C-terminal_modification': 'Free', 'Non-terminal_modification': 'nan', 'peptide_conjugate_mixture': 'Peptide', 'conjugate_partner': 'nan', 'solution': '100 H2O', 'peptide_concentration(mg/ml)': '1.5', 'PH': '7.0', 'temperature(celsius)': '56.0', 'heating_cooling': 'No', 'incubation_period(min)': 'nan'}\n",
      "{'peptide_sequence': 'FF', 'self-assembly_phase': 'none', 'N-terminal_modification': 'Free', 'C-terminal_modification': 'Free', 'Non-terminal_modification': 'nan', 'peptide_conjugate_mixture': 'Peptide', 'conjugate_partner': 'nan', 'solution': '100 H2O', 'peptide_concentration(mg/ml)': '1.125', 'PH': '7.0', 'temperature(celsius)': '56.0', 'heating_cooling': 'No', 'incubation_period(min)': 'nan'}\n",
      "{'peptide_sequence': 'FF', 'self-assembly_phase': 'none', 'N-terminal_modification': 'Free', 'C-terminal_modification': 'Free', 'Non-terminal_modification': 'nan', 'peptide_conjugate_mixture': 'Peptide', 'conjugate_partner': 'nan', 'solution': '100 H2O', 'peptide_concentration(mg/ml)': '1.0', 'PH': '7.0', 'temperature(celsius)': '56.0', 'heating_cooling': 'No', 'incubation_period(min)': 'nan'}\n",
      "{'peptide_sequence': 'FF', 'self-assembly_phase': 'tube', 'N-terminal_modification': 'Free', 'C-terminal_modification': 'Free', 'Non-terminal_modification': 'nan', 'peptide_conjugate_mixture': 'Peptide', 'conjugate_partner': 'nan', 'solution': '100 H2O', 'peptide_concentration(mg/ml)': '1.54', 'PH': '7.0', 'temperature(celsius)': '60.0', 'heating_cooling': 'No', 'incubation_period(min)': 'nan'}\n",
      "{'peptide_sequence': 'FF', 'self-assembly_phase': 'tube', 'N-terminal_modification': 'Free', 'C-terminal_modification': 'Free', 'Non-terminal_modification': 'nan', 'peptide_conjugate_mixture': 'Peptide', 'conjugate_partner': 'nan', 'solution': '100 H2O', 'peptide_concentration(mg/ml)': '1.68', 'PH': '7.0', 'temperature(celsius)': '60.0', 'heating_cooling': 'No', 'incubation_period(min)': 'nan'}\n",
      "{'peptide_sequence': 'FF', 'self-assembly_phase': 'none', 'N-terminal_modification': 'Free', 'C-terminal_modification': 'Free', 'Non-terminal_modification': 'nan', 'peptide_conjugate_mixture': 'Peptide', 'conjugate_partner': 'nan', 'solution': '100 H2O', 'peptide_concentration(mg/ml)': '1.26', 'PH': '7.0', 'temperature(celsius)': '60.0', 'heating_cooling': 'No', 'incubation_period(min)': 'nan'}\n",
      "{'peptide_sequence': 'FF', 'self-assembly_phase': 'none', 'N-terminal_modification': 'Free', 'C-terminal_modification': 'Free', 'Non-terminal_modification': 'nan', 'peptide_conjugate_mixture': 'Peptide', 'conjugate_partner': 'nan', 'solution': '100 H2O', 'peptide_concentration(mg/ml)': '1.12', 'PH': '7.0', 'temperature(celsius)': '60.0', 'heating_cooling': 'No', 'incubation_period(min)': 'nan'}\n",
      "{'peptide_sequence': 'FF', 'self-assembly_phase': 'tube', 'N-terminal_modification': 'Free', 'C-terminal_modification': 'Free', 'Non-terminal_modification': 'nan', 'peptide_conjugate_mixture': 'Peptide', 'conjugate_partner': 'nan', 'solution': '100 H2O', 'peptide_concentration(mg/ml)': '1.738', 'PH': '7.0', 'temperature(celsius)': '64.0', 'heating_cooling': 'No', 'incubation_period(min)': 'nan'}\n",
      "{'peptide_sequence': 'FF', 'self-assembly_phase': 'tube', 'N-terminal_modification': 'Free', 'C-terminal_modification': 'Free', 'Non-terminal_modification': 'nan', 'peptide_conjugate_mixture': 'Peptide', 'conjugate_partner': 'nan', 'solution': '100 H2O', 'peptide_concentration(mg/ml)': '1.896', 'PH': '7.0', 'temperature(celsius)': '64.0', 'heating_cooling': 'No', 'incubation_period(min)': 'nan'}\n",
      "{'peptide_sequence': 'FF', 'self-assembly_phase': 'none', 'N-terminal_modification': 'Free', 'C-terminal_modification': 'Free', 'Non-terminal_modification': 'nan', 'peptide_conjugate_mixture': 'Peptide', 'conjugate_partner': 'nan', 'solution': '100 H2O', 'peptide_concentration(mg/ml)': '1.422', 'PH': '7.0', 'temperature(celsius)': '64.0', 'heating_cooling': 'No', 'incubation_period(min)': 'nan'}\n",
      "{'peptide_sequence': 'FF', 'self-assembly_phase': 'none', 'N-terminal_modification': 'Free', 'C-terminal_modification': 'Free', 'Non-terminal_modification': 'nan', 'peptide_conjugate_mixture': 'Peptide', 'conjugate_partner': 'nan', 'solution': '100 H2O', 'peptide_concentration(mg/ml)': '1.264', 'PH': '7.0', 'temperature(celsius)': '64.0', 'heating_cooling': 'No', 'incubation_period(min)': 'nan'}\n",
      "{'peptide_sequence': 'FF', 'self-assembly_phase': 'tube', 'N-terminal_modification': 'Free', 'C-terminal_modification': 'Free', 'Non-terminal_modification': 'nan', 'peptide_conjugate_mixture': 'Peptide', 'conjugate_partner': 'nan', 'solution': '100 H2O', 'peptide_concentration(mg/ml)': '1.98', 'PH': '7.0', 'temperature(celsius)': '68.0', 'heating_cooling': 'No', 'incubation_period(min)': 'nan'}\n",
      "{'peptide_sequence': 'FF', 'self-assembly_phase': 'tube', 'N-terminal_modification': 'Free', 'C-terminal_modification': 'Free', 'Non-terminal_modification': 'nan', 'peptide_conjugate_mixture': 'Peptide', 'conjugate_partner': 'nan', 'solution': '100 H2O', 'peptide_concentration(mg/ml)': '2.16', 'PH': '7.0', 'temperature(celsius)': '68.0', 'heating_cooling': 'No', 'incubation_period(min)': 'nan'}\n",
      "{'peptide_sequence': 'FF', 'self-assembly_phase': 'none', 'N-terminal_modification': 'Free', 'C-terminal_modification': 'Free', 'Non-terminal_modification': 'nan', 'peptide_conjugate_mixture': 'Peptide', 'conjugate_partner': 'nan', 'solution': '100 H2O', 'peptide_concentration(mg/ml)': '1.62', 'PH': '7.0', 'temperature(celsius)': '68.0', 'heating_cooling': 'No', 'incubation_period(min)': 'nan'}\n",
      "{'peptide_sequence': 'FF', 'self-assembly_phase': 'none', 'N-terminal_modification': 'Free', 'C-terminal_modification': 'Free', 'Non-terminal_modification': 'nan', 'peptide_conjugate_mixture': 'Peptide', 'conjugate_partner': 'nan', 'solution': '100 H2O', 'peptide_concentration(mg/ml)': '1.44', 'PH': '7.0', 'temperature(celsius)': '68.0', 'heating_cooling': 'No', 'incubation_period(min)': 'nan'}\n"
     ]
    }
   ],
   "source": [
    "for c in json.loads(completion.choices[0].message.content):\n",
    "    print(c)\n",
    "\n",
    "    \n",
    "print(\"#######################\")\n",
    "print(\"#######################\") \n",
    "\n",
    "# print(json.loads(testset[16]['messages'][2]['content']))\n",
    "for t in json.loads(testset[21]['messages'][2]['content']):\n",
    "  print(t)"
   ]
  },
  {
   "cell_type": "markdown",
   "id": "449ce3c8",
   "metadata": {},
   "source": [
    "# Testing examples 23"
   ]
  },
  {
   "cell_type": "code",
   "execution_count": 97,
   "id": "4ea1d65a",
   "metadata": {},
   "outputs": [],
   "source": [
    "completion = client.chat.completions.create(\n",
    "  model=\"ft:gpt-3.5-turbo-0125:personal::95ba6w1r\",\n",
    "  messages=testset[22]['messages'][:2]\n",
    ")"
   ]
  },
  {
   "cell_type": "code",
   "execution_count": 98,
   "id": "3633ae6c",
   "metadata": {},
   "outputs": [
    {
     "name": "stdout",
     "output_type": "stream",
     "text": [
      "{'peptide_sequence': 'FF', 'self-assembly_phase': 'fiber', 'N-terminal_modification': 'Fmoc', 'C-terminal_modification': 'Free', 'Non-terminal_modification': 'nan', 'peptide_conjugate_mixture': 'Peptide', 'conjugate_partner': 'nan', 'solution': '100 H2O', 'peptide_concentration(mg/ml)': '5.208', 'PH': '5.0', 'temperature(celsius)': '25.0', 'heating_cooling': 'No', 'incubation_period(min)': 'nan'}\n",
      "{'peptide_sequence': 'FF', 'self-assembly_phase': 'fiber', 'N-terminal_modification': 'Fmoc', 'C-terminal_modification': 'Free', 'Non-terminal_modification': 'nan', 'peptide_conjugate_mixture': 'Peptide', 'conjugate_partner': 'nan', 'solution': '100 H2O', 'peptide_concentration(mg/ml)': '5.208', 'PH': '6.0', 'temperature(celsius)': '25.0', 'heating_cooling': 'No', 'incubation_period(min)': 'nan'}\n",
      "{'peptide_sequence': 'FF', 'self-assembly_phase': 'fiber', 'N-terminal_modification': 'Fmoc', 'C-terminal_modification': 'Free', 'Non-terminal_modification': 'nan', 'peptide_conjugate_mixture': 'Peptide', 'conjugate_partner': 'nan', 'solution': '100 H2O', 'peptide_concentration(mg/ml)': '5.208', 'PH': '7.0', 'temperature(celsius)': '25.0', 'heating_cooling': 'No', 'incubation_period(min)': 'nan'}\n",
      "{'peptide_sequence': 'FF', 'self-assembly_phase': 'fiber', 'N-terminal_modification': 'Fmoc', 'C-terminal_modification': 'Free', 'Non-terminal_modification': 'nan', 'peptide_conjugate_mixture': 'Peptide', 'conjugate_partner': 'nan', 'solution': '100 H2O', 'peptide_concentration(mg/ml)': '5.208', 'PH': '8.0', 'temperature(celsius)': '25.0', 'heating_cooling': 'No', 'incubation_period(min)': 'nan'}\n",
      "#######################\n",
      "#######################\n",
      "{'peptide_sequence': 'FFD', 'self-assembly_phase': 'fiber', 'N-terminal_modification': 'Fmoc', 'C-terminal_modification': 'Free', 'Non-terminal_modification': 'nan', 'peptide_conjugate_mixture': 'Peptide', 'conjugate_partner': 'nan', 'solution': '100 H2O', 'peptide_concentration(mg/ml)': '5.49', 'PH': '5.0', 'temperature(celsius)': '25.0', 'heating_cooling': 'No', 'incubation_period(min)': 'nan'}\n",
      "{'peptide_sequence': 'FFD', 'self-assembly_phase': 'fiber', 'N-terminal_modification': 'Fmoc', 'C-terminal_modification': 'Free', 'Non-terminal_modification': 'nan', 'peptide_conjugate_mixture': 'Peptide', 'conjugate_partner': 'nan', 'solution': '100 H2O', 'peptide_concentration(mg/ml)': '5.49', 'PH': '6.0', 'temperature(celsius)': '25.0', 'heating_cooling': 'No', 'incubation_period(min)': 'nan'}\n",
      "{'peptide_sequence': 'FFD', 'self-assembly_phase': 'fiber', 'N-terminal_modification': 'Fmoc', 'C-terminal_modification': 'Free', 'Non-terminal_modification': 'nan', 'peptide_conjugate_mixture': 'Peptide', 'conjugate_partner': 'nan', 'solution': '100 H2O', 'peptide_concentration(mg/ml)': '5.49', 'PH': '7.0', 'temperature(celsius)': '25.0', 'heating_cooling': 'No', 'incubation_period(min)': 'nan'}\n",
      "{'peptide_sequence': 'FFD', 'self-assembly_phase': 'none', 'N-terminal_modification': 'Fmoc', 'C-terminal_modification': 'Free', 'Non-terminal_modification': 'nan', 'peptide_conjugate_mixture': 'Peptide', 'conjugate_partner': 'nan', 'solution': '100 H2O', 'peptide_concentration(mg/ml)': '5.49', 'PH': '8.0', 'temperature(celsius)': '25.0', 'heating_cooling': 'No', 'incubation_period(min)': 'nan'}\n"
     ]
    }
   ],
   "source": [
    "for c in json.loads(completion.choices[0].message.content):\n",
    "    print(c)\n",
    "\n",
    "    \n",
    "print(\"#######################\")\n",
    "print(\"#######################\") \n",
    "\n",
    "# print(json.loads(testset[16]['messages'][2]['content']))\n",
    "for t in json.loads(testset[22]['messages'][2]['content']):\n",
    "  print(t)"
   ]
  },
  {
   "cell_type": "code",
   "execution_count": null,
   "id": "b715987f",
   "metadata": {},
   "outputs": [],
   "source": []
  }
 ],
 "metadata": {
  "kernelspec": {
   "display_name": "llm-langchain",
   "language": "python",
   "name": "llm-langchain"
  },
  "language_info": {
   "codemirror_mode": {
    "name": "ipython",
    "version": 3
   },
   "file_extension": ".py",
   "mimetype": "text/x-python",
   "name": "python",
   "nbconvert_exporter": "python",
   "pygments_lexer": "ipython3",
   "version": "3.9.18"
  }
 },
 "nbformat": 4,
 "nbformat_minor": 5
}
